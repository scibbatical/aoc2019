{
 "cells": [
  {
   "cell_type": "code",
   "execution_count": 1,
   "metadata": {
    "collapsed": true
   },
   "outputs": [],
   "source": [
    "import numpy as np"
   ]
  },
  {
   "cell_type": "code",
   "execution_count": 2,
   "metadata": {
    "collapsed": true
   },
   "outputs": [],
   "source": [
    "incom0 = str(np.loadtxt('16_input.txt',delimiter=\" \", comments=None,dtype=str))"
   ]
  },
  {
   "cell_type": "code",
   "execution_count": 3,
   "metadata": {
    "collapsed": false
   },
   "outputs": [
    {
     "data": {
      "text/plain": [
       "'59715091976660977847686180472178988274868874248912891927881770506416128667679122958792624406231072013221126623881489317912309763385182133601840446469164152094801911846572235367585363091944153574934709408511688568362508877043643569519630950836699246046286262479407806494008328068607275931633094949344281398150800187971317684501113191184838118850287189830872128812188237680673513745269645219228183633986701871488467284716433953663498444829748364402022393727938781357664034739772457855166471802886565257858813291667525635001823584650420815316132943869499800374997777130755842319153463895364409226260937941771665247483191282218355610246363741092810592458'"
      ]
     },
     "execution_count": 3,
     "metadata": {},
     "output_type": "execute_result"
    }
   ],
   "source": [
    "incom0"
   ]
  },
  {
   "cell_type": "code",
   "execution_count": 92,
   "metadata": {
    "collapsed": true
   },
   "outputs": [],
   "source": [
    "# test\n",
    "incom0 = '19617804207202209144916044189917'"
   ]
  },
  {
   "cell_type": "code",
   "execution_count": 4,
   "metadata": {
    "collapsed": true
   },
   "outputs": [],
   "source": [
    "# define the base pattern\n",
    "pat_base = [0,1,0,-1]\n",
    "\n",
    "# Create a pattern generator\n",
    "def pat_gen(element):\n",
    "    global pat_base, incom0\n",
    "    pat = []\n",
    "    while len(pat)<= len(incom0)+1:\n",
    "        for i in range(element+1):\n",
    "            pat.append(pat_base[0])\n",
    "            #print(pat)\n",
    "        if len(pat) < len(incom0)+1:\n",
    "            for i in range(element+1):\n",
    "                pat.append(pat_base[1])\n",
    "        if len(pat) < len(incom0)+1:\n",
    "            for i in range(element+1):\n",
    "                pat.append(pat_base[2])\n",
    "        if len(pat) < len(incom0)+1:\n",
    "            for i in range(element+1):\n",
    "                pat.append(pat_base[3])\n",
    "                \n",
    "        #print(pat)\n",
    "        \n",
    "\n",
    "    return np.array(pat[1:len(incom0)+1])"
   ]
  },
  {
   "cell_type": "code",
   "execution_count": 5,
   "metadata": {
    "collapsed": false
   },
   "outputs": [
    {
     "data": {
      "text/plain": [
       "'96136976442089449873165541499032300593451049668068617506926342681394027077535296242121327709429443166489647111652050328327507971631681255686714427759315583765681465596236898452489621107200864578018342708509098235517200359036853048767576707429786336975481159948735874929291694750551045692003478163188282135171000189445653716672142885597872478740722118041584373590338830222434158565867799998735231041394232660684589339661457860563398761479036528984084648879106911601472168912693936693911853973349781409073388629833518597627474946607736448140835495446358326241099188643598293590296702748940678869443854490174757165578778682844825615246368246592310092458'"
      ]
     },
     "execution_count": 5,
     "metadata": {},
     "output_type": "execute_result"
    }
   ],
   "source": [
    "next = ''\n",
    "for i in range(len(incom0)):\n",
    "    next += str(abs(np.sum(np.multiply(np.array([i for i in incom0]).astype(int),pat_gen(i)))))[-1]\n",
    "\n",
    "for phase in range(1,100):\n",
    "    incom = next[:]\n",
    "    next =''\n",
    "\n",
    "    for i in range(len(incom0)):\n",
    "        next += str(abs(np.sum(np.multiply(np.array([i for i in incom]).astype(int),pat_gen(i)))))[-1]\n",
    "\n",
    "next"
   ]
  },
  {
   "cell_type": "markdown",
   "metadata": {},
   "source": [
    "Part two:"
   ]
  },
  {
   "cell_type": "code",
   "execution_count": 109,
   "metadata": {
    "collapsed": false
   },
   "outputs": [
    {
     "name": "stdout",
     "output_type": "stream",
     "text": [
      "length of \"real\" signal: 6500000\n",
      "I'm interested in the nth - nth+8 digits: 5971509\n",
      "How many digits follow the first relevant digit? 528491\n",
      "Since there are less than 5971509 digits after our relevant digit,\n",
      "so the multiple for every following digit will be +1: True\n"
     ]
    }
   ],
   "source": [
    "print('length of \"real\" signal: ' + str(len(incom0)*10000))\n",
    "print(\"I'm interested in the nth - nth+8 digits: \" + str(5971509))\n",
    "\n",
    "print('How many digits follow the first relevant digit? ' + str(len(incom0)*10000-5971509))\n",
    "\n",
    "print('Since there are less than 5971509 digits after our relevant digit,\\nso the multiple for every following digit will be +1:', str((len(incom0)*10000-5971509) < 5971509))"
   ]
  },
  {
   "cell_type": "markdown",
   "metadata": {},
   "source": [
    "Well, there are a bunch of zeros that lead the definition of these digits, so maybe I can ignore a bunch of the input signal. The first digit that matters for defining a digit is that digit!"
   ]
  },
  {
   "cell_type": "markdown",
   "metadata": {},
   "source": [
    "So, as long as I start the new signal at the right spot, the transform for each phase should simply be the ones digit of the sum of the digits behind it in the signal."
   ]
  },
  {
   "cell_type": "code",
   "execution_count": 116,
   "metadata": {
    "collapsed": false
   },
   "outputs": [
    {
     "data": {
      "text/plain": [
       "813.0630769230769"
      ]
     },
     "execution_count": 116,
     "metadata": {},
     "output_type": "execute_result"
    }
   ],
   "source": [
    "# How many times must the signal be repeated to generate 528491 digits?\n",
    "\n",
    "(len(incom0)*10000-5971509)/len(incom0)"
   ]
  },
  {
   "cell_type": "markdown",
   "metadata": {},
   "source": [
    "So we'll still need the signal to repeat 814 times.\n",
    "\n",
    "How do we transform 5971509 into an address in the new signal?"
   ]
  },
  {
   "cell_type": "code",
   "execution_count": 133,
   "metadata": {
    "collapsed": false
   },
   "outputs": [
    {
     "data": {
      "text/plain": [
       "609"
      ]
     },
     "execution_count": 133,
     "metadata": {},
     "output_type": "execute_result"
    }
   ],
   "source": [
    "address = 5971509 % 650\n",
    "\n",
    "address"
   ]
  },
  {
   "cell_type": "code",
   "execution_count": 189,
   "metadata": {
    "collapsed": false
   },
   "outputs": [
    {
     "ename": "KeyboardInterrupt",
     "evalue": "",
     "output_type": "error",
     "traceback": [
      "\u001b[1;31m---------------------------------------------------------------------------\u001b[0m",
      "\u001b[1;31mKeyboardInterrupt\u001b[0m                         Traceback (most recent call last)",
      "\u001b[1;32m<ipython-input-189-f9ddf50484ac>\u001b[0m in \u001b[0;36m<module>\u001b[1;34m\u001b[0m\n\u001b[0;32m      4\u001b[0m \u001b[0mnext\u001b[0m \u001b[1;33m=\u001b[0m \u001b[1;34m''\u001b[0m\u001b[1;33m\u001b[0m\u001b[1;33m\u001b[0m\u001b[0m\n\u001b[0;32m      5\u001b[0m \u001b[1;32mfor\u001b[0m \u001b[0mi\u001b[0m \u001b[1;32min\u001b[0m \u001b[0mrange\u001b[0m\u001b[1;33m(\u001b[0m\u001b[0mlen\u001b[0m\u001b[1;33m(\u001b[0m\u001b[0mincom\u001b[0m\u001b[1;33m)\u001b[0m\u001b[1;33m)\u001b[0m\u001b[1;33m:\u001b[0m\u001b[1;33m\u001b[0m\u001b[1;33m\u001b[0m\u001b[0m\n\u001b[1;32m----> 6\u001b[1;33m     \u001b[0mnext\u001b[0m \u001b[1;33m+=\u001b[0m \u001b[0mstr\u001b[0m\u001b[1;33m(\u001b[0m\u001b[0mnp\u001b[0m\u001b[1;33m.\u001b[0m\u001b[0msum\u001b[0m\u001b[1;33m(\u001b[0m\u001b[1;33m[\u001b[0m\u001b[0mint\u001b[0m\u001b[1;33m(\u001b[0m\u001b[0mj\u001b[0m\u001b[1;33m)\u001b[0m \u001b[1;32mfor\u001b[0m \u001b[0mj\u001b[0m \u001b[1;32min\u001b[0m \u001b[0mincom\u001b[0m\u001b[1;33m[\u001b[0m\u001b[0mi\u001b[0m\u001b[1;33m:\u001b[0m\u001b[1;33m]\u001b[0m\u001b[1;33m]\u001b[0m\u001b[1;33m)\u001b[0m\u001b[1;33m)\u001b[0m\u001b[1;33m[\u001b[0m\u001b[1;33m-\u001b[0m\u001b[1;36m1\u001b[0m\u001b[1;33m]\u001b[0m\u001b[1;33m\u001b[0m\u001b[1;33m\u001b[0m\u001b[0m\n\u001b[0m\u001b[0;32m      7\u001b[0m \u001b[1;33m\u001b[0m\u001b[0m\n\u001b[0;32m      8\u001b[0m \u001b[1;31m#for phase in range(1,2):\u001b[0m\u001b[1;33m\u001b[0m\u001b[1;33m\u001b[0m\u001b[1;33m\u001b[0m\u001b[0m\n",
      "\u001b[1;32m<ipython-input-189-f9ddf50484ac>\u001b[0m in \u001b[0;36m<listcomp>\u001b[1;34m(.0)\u001b[0m\n\u001b[0;32m      4\u001b[0m \u001b[0mnext\u001b[0m \u001b[1;33m=\u001b[0m \u001b[1;34m''\u001b[0m\u001b[1;33m\u001b[0m\u001b[1;33m\u001b[0m\u001b[0m\n\u001b[0;32m      5\u001b[0m \u001b[1;32mfor\u001b[0m \u001b[0mi\u001b[0m \u001b[1;32min\u001b[0m \u001b[0mrange\u001b[0m\u001b[1;33m(\u001b[0m\u001b[0mlen\u001b[0m\u001b[1;33m(\u001b[0m\u001b[0mincom\u001b[0m\u001b[1;33m)\u001b[0m\u001b[1;33m)\u001b[0m\u001b[1;33m:\u001b[0m\u001b[1;33m\u001b[0m\u001b[1;33m\u001b[0m\u001b[0m\n\u001b[1;32m----> 6\u001b[1;33m     \u001b[0mnext\u001b[0m \u001b[1;33m+=\u001b[0m \u001b[0mstr\u001b[0m\u001b[1;33m(\u001b[0m\u001b[0mnp\u001b[0m\u001b[1;33m.\u001b[0m\u001b[0msum\u001b[0m\u001b[1;33m(\u001b[0m\u001b[1;33m[\u001b[0m\u001b[0mint\u001b[0m\u001b[1;33m(\u001b[0m\u001b[0mj\u001b[0m\u001b[1;33m)\u001b[0m \u001b[1;32mfor\u001b[0m \u001b[0mj\u001b[0m \u001b[1;32min\u001b[0m \u001b[0mincom\u001b[0m\u001b[1;33m[\u001b[0m\u001b[0mi\u001b[0m\u001b[1;33m:\u001b[0m\u001b[1;33m]\u001b[0m\u001b[1;33m]\u001b[0m\u001b[1;33m)\u001b[0m\u001b[1;33m)\u001b[0m\u001b[1;33m[\u001b[0m\u001b[1;33m-\u001b[0m\u001b[1;36m1\u001b[0m\u001b[1;33m]\u001b[0m\u001b[1;33m\u001b[0m\u001b[1;33m\u001b[0m\u001b[0m\n\u001b[0m\u001b[0;32m      7\u001b[0m \u001b[1;33m\u001b[0m\u001b[0m\n\u001b[0;32m      8\u001b[0m \u001b[1;31m#for phase in range(1,2):\u001b[0m\u001b[1;33m\u001b[0m\u001b[1;33m\u001b[0m\u001b[1;33m\u001b[0m\u001b[0m\n",
      "\u001b[1;31mKeyboardInterrupt\u001b[0m: "
     ]
    }
   ],
   "source": [
    "# Define new signal:\n",
    "incom = incom0*814\n",
    "\n",
    "next = ''\n",
    "for i in range(len(incom)):\n",
    "    next += str(np.sum([int(j) for j in incom[i:]]))[-1]\n",
    "\n",
    "#for phase in range(1,2):\n",
    "#    incom = next[:]\n",
    "#    next =''\n",
    "\n",
    "#    for i in range(len(incom)):\n",
    "#        next += str(np.sum(np.array([j for j in incom[i:]]).astype(int)))[-1]\n",
    "\n",
    "next[address:address+8]"
   ]
  },
  {
   "cell_type": "code",
   "execution_count": 172,
   "metadata": {
    "collapsed": false
   },
   "outputs": [
    {
     "data": {
      "text/plain": [
       "3006"
      ]
     },
     "execution_count": 172,
     "metadata": {},
     "output_type": "execute_result"
    }
   ],
   "source": [
    "np.sum(np.array([j for j in incom0]).astype(int))"
   ]
  },
  {
   "cell_type": "code",
   "execution_count": 166,
   "metadata": {
    "collapsed": false
   },
   "outputs": [
    {
     "data": {
      "text/plain": [
       "'2'"
      ]
     },
     "execution_count": 166,
     "metadata": {},
     "output_type": "execute_result"
    }
   ],
   "source": [
    "str(np.sum(np.array([j for j in incom[4:]]).astype(int)))[-1]"
   ]
  },
  {
   "cell_type": "markdown",
   "metadata": {},
   "source": [
    "Crap, this is still too intense of a calculation. But! Think of if a little backward... the last number will simply be itself.\n",
    "\n",
    "Our address is in the middle of one of the original signals, but it's followed by large number of the same signals. Instead of adding all the numbers individually, wouldn't it be equivalent to adding the values of one signal and multiplying the rest?\n",
    "\n",
    "That will work for the first phase, but what about the rest?"
   ]
  },
  {
   "cell_type": "code",
   "execution_count": 16,
   "metadata": {
    "collapsed": false
   },
   "outputs": [
    {
     "data": {
      "text/plain": [
       "(3006,\n",
       " '59715091976660977847686180472178988274868874248912891927881770506416128667679122958792624406231072013221126623881489317912309763385182133601840446469164152094801911846572235367585363091944153574934709408511688568362508877043643569519630950836699246046286262479407806494008328068607275931633094949344281398150800187971317684501113191184838118850287189830872128812188237680673513745269645219228183633986701871488467284716433953663498444829748364402022393727938781357664034739772457855166471802886565257858813291667525635001823584650420815316132943869499800374997777130755842319153463895364409226260937941771665247483191282218355610246363741092810592458')"
      ]
     },
     "execution_count": 16,
     "metadata": {},
     "output_type": "execute_result"
    }
   ],
   "source": [
    "# Let's look for a convenient pattern...\n",
    "\n",
    "np.sum(np.array([j for j in incom0]).astype(int)), incom0"
   ]
  },
  {
   "cell_type": "code",
   "execution_count": 37,
   "metadata": {
    "collapsed": false
   },
   "outputs": [
    {
     "data": {
      "text/plain": [
       "'71737090996174572354208767172168863553752260488470110638121972409604911985515176646103415714252688924673302076596481485643335762987338077527832590567501697187925349585529266895654358226786472056080980732154091996551066902894535355827745915100271451776906226494030844523214560623482735833292747468285771041015104754490108711672142885597872478740722118041584373590338830222434158565867799998735231041394232660684589339661457860563398761479036528984084648879106911601472168912693936693911853973349781409073388629833518597627474946607736448140835495446358326241099188643598293590296702748940678869443854490174757165578778682844825615246368246592310092458'"
      ]
     },
     "execution_count": 37,
     "metadata": {},
     "output_type": "execute_result"
    }
   ],
   "source": [
    "# Define new signal:\n",
    "incom = incom0[:]\n",
    "\n",
    "next = ''\n",
    "for i in range(len(incom)):\n",
    "    next += str(np.sum([int(j) for j in incom[i:]]))[-1]\n",
    "\n",
    "for phase in range(1,100):\n",
    "    incom = next[:]\n",
    "    next =''\n",
    "\n",
    "    for i in range(len(incom)):\n",
    "        next += str(np.sum([int(j) for j in incom[i:]]))[-1]\n",
    "        \n",
    "next"
   ]
  },
  {
   "cell_type": "code",
   "execution_count": 38,
   "metadata": {
    "collapsed": false
   },
   "outputs": [
    {
     "data": {
      "text/plain": [
       "(2937, 3057)"
      ]
     },
     "execution_count": 38,
     "metadata": {},
     "output_type": "execute_result"
    }
   ],
   "source": [
    "np.sum([int(j) for j in incom]),np.sum([int(j) for j in next])"
   ]
  },
  {
   "cell_type": "code",
   "execution_count": 19,
   "metadata": {
    "collapsed": false,
    "scrolled": true
   },
   "outputs": [
    {
     "data": {
      "text/plain": [
       "(3040,\n",
       " '74717837035724758755930473139544475913342994686804109040993316190965261692940108462347597359113549007114812035060407147738378326825411397635664266880027472806617682988138158825435550706584440120051968863526296749726664598409129695954157146857690399113793735155747291063795599263306575767158403313088716050222141438852027262448133039781528505913786999880631290497076697893443534399664827785608880395565326885198495820048549624344771508570632619791931371215752936102416361845488789646438879037445986881554404810313352942764171574107625186700415582821743062002367770977874261960894289187086170658387858823251343419688225088802295709863748623251038794798')"
      ]
     },
     "execution_count": 19,
     "metadata": {},
     "output_type": "execute_result"
    }
   ],
   "source": [
    "\n",
    "next = ''\n",
    "for i in range(len(incom)):\n",
    "    next += str(np.sum([int(j) for j in incom[i:]]))[-1]\n",
    "next\n",
    "\n",
    "incom = next[:]\n",
    "np.sum([int(j) for j in incom]), incom"
   ]
  },
  {
   "cell_type": "code",
   "execution_count": null,
   "metadata": {
    "collapsed": true
   },
   "outputs": [],
   "source": []
  }
 ],
 "metadata": {
  "anaconda-cloud": {},
  "kernelspec": {
   "display_name": "Python [default]",
   "language": "python",
   "name": "python3"
  },
  "language_info": {
   "codemirror_mode": {
    "name": "ipython",
    "version": 3
   },
   "file_extension": ".py",
   "mimetype": "text/x-python",
   "name": "python",
   "nbconvert_exporter": "python",
   "pygments_lexer": "ipython3",
   "version": "3.5.5"
  }
 },
 "nbformat": 4,
 "nbformat_minor": 1
}
