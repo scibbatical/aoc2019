{
 "cells": [
  {
   "cell_type": "code",
   "execution_count": 46,
   "metadata": {},
   "outputs": [],
   "source": [
    "import numpy as np\n",
    "import math"
   ]
  },
  {
   "cell_type": "markdown",
   "metadata": {},
   "source": [
    "### Read Input\n"
   ]
  },
  {
   "cell_type": "code",
   "execution_count": 6,
   "metadata": {},
   "outputs": [
    {
     "data": {
      "text/plain": [
       "array(['118 ORE => 7 GTPZ', '6 RNQJN, 4 NQKVW => 4 DTQRC',\n",
       "       '2 GBXJL => 3 XHBR', '4 BPZM => 9 LVDRH', '131 ORE => 3 RHBL'],\n",
       "      dtype='<U98')"
      ]
     },
     "execution_count": 6,
     "metadata": {},
     "output_type": "execute_result"
    }
   ],
   "source": [
    "incom = np.loadtxt('14_input.txt',delimiter=\"\\n\", comments=None,dtype=str)\n",
    "\n",
    "incom[:5]"
   ]
  },
  {
   "cell_type": "markdown",
   "metadata": {},
   "source": [
    "#### digest input into chemical ins and outs"
   ]
  },
  {
   "cell_type": "code",
   "execution_count": 7,
   "metadata": {},
   "outputs": [
    {
     "data": {
      "text/plain": [
       "['118 ORE', '7 GTPZ']"
      ]
     },
     "execution_count": 7,
     "metadata": {},
     "output_type": "execute_result"
    }
   ],
   "source": [
    "incom[0].split(' => ')"
   ]
  },
  {
   "cell_type": "code",
   "execution_count": 8,
   "metadata": {},
   "outputs": [],
   "source": [
    "incom_split = [i.split(' => ') for i in incom]"
   ]
  },
  {
   "cell_type": "code",
   "execution_count": 9,
   "metadata": {},
   "outputs": [],
   "source": [
    "incom_pies = [i[0].split(', ') +[i[1]] for i in incom_split]"
   ]
  },
  {
   "cell_type": "code",
   "execution_count": 10,
   "metadata": {},
   "outputs": [
    {
     "data": {
      "text/plain": [
       "[['118 ORE', '7 GTPZ'],\n",
       " ['6 RNQJN', '4 NQKVW', '4 DTQRC'],\n",
       " ['2 GBXJL', '3 XHBR'],\n",
       " ['4 BPZM', '9 LVDRH'],\n",
       " ['131 ORE', '3 RHBL']]"
      ]
     },
     "execution_count": 10,
     "metadata": {},
     "output_type": "execute_result"
    }
   ],
   "source": [
    "incom_pies[:5]"
   ]
  },
  {
   "cell_type": "markdown",
   "metadata": {},
   "source": [
    "So, the first entries in a list are the inputs, the last entries are the chemicals generated."
   ]
  },
  {
   "cell_type": "markdown",
   "metadata": {},
   "source": [
    "Now, create a chemical class:"
   ]
  },
  {
   "cell_type": "code",
   "execution_count": 65,
   "metadata": {},
   "outputs": [],
   "source": [
    "# Create a class\n",
    "\n",
    "class Chem:\n",
    "    def __init__(self,name):\n",
    "        self.name = name\n",
    "        self.recipies = []\n",
    "        self.min_ore = [1,999999999] # [quantity, ore required]\n",
    "        \n",
    "        toe.append(self.name) # append self to table of elements\n",
    "        \n",
    "    def add_recipie(self, recipie):\n",
    "        self.recipies.append(recipie)\n",
    "        \n",
    "    def min_ore_calc(self):\n",
    "        ores = []\n",
    "        for card in self.recipies:\n",
    "            #quant_chem_gen = card[0][0]\n",
    "            ore = 0\n",
    "            for ingred in card[1:]:\n",
    "                if ingred[1].min_ore[1] == 999999999:\n",
    "                    ingred[1].min_ore_calc()\n",
    "                ore += math.ceil(ingred[0]/ingred[1].min_ore[0])*ingred[1].min_ore[1]\n",
    "            ores.append([card[0][0],ore])\n",
    "        \n",
    "        # Choose minimum ore:\n",
    "        self.min_ore = ores[np.argmax([i[0]/i[1] for i in ores])]\n",
    "        "
   ]
  },
  {
   "cell_type": "code",
   "execution_count": 66,
   "metadata": {},
   "outputs": [],
   "source": [
    "toe = []\n",
    "\n",
    "# Create ORE\n",
    "ORE = Chem('ORE')\n",
    "ORE.min_ore = [1,1]\n",
    "\n",
    "for i in incom_pies:\n",
    "    # Decompose entry into amount and ingredient\n",
    "    amountp,ingredp = int(i[-1].split(' ')[0]), i[-1].split(' ')[1]\n",
    "    if ingredp not in toe:\n",
    "        vars()[ingredp] = Chem(ingredp)\n",
    "    \n",
    "    # Create recipie card\n",
    "    recipie = []\n",
    "    # first, add product to recipie\n",
    "    recipie.append([amountp,vars()[ingredp]])\n",
    "    \n",
    "    for entry in i[:-1]:\n",
    "        # Decompose entry into amount and ingredient\n",
    "        amount,ingred = int(entry.split(' ')[0]), entry.split(' ')[1]\n",
    "        if ingred not in toe: # add the ingredient to the toe if its not already there\n",
    "            vars()[ingred] = Chem(ingred)\n",
    "        # add ingredient to recipie\n",
    "        recipie.append([amount,vars()[ingred]])\n",
    "        \n",
    "    # put recipie card into class\n",
    "    vars()[ingredp].add_recipie(recipie)\n"
   ]
  },
  {
   "cell_type": "code",
   "execution_count": 67,
   "metadata": {},
   "outputs": [
    {
     "data": {
      "text/plain": [
       "['ORE', 'GTPZ', 'DTQRC', 'RNQJN', 'NQKVW']"
      ]
     },
     "execution_count": 67,
     "metadata": {},
     "output_type": "execute_result"
    }
   ],
   "source": [
    "toe[:5]"
   ]
  },
  {
   "cell_type": "code",
   "execution_count": 68,
   "metadata": {},
   "outputs": [
    {
     "data": {
      "text/plain": [
       "[1, 1]"
      ]
     },
     "execution_count": 68,
     "metadata": {},
     "output_type": "execute_result"
    }
   ],
   "source": [
    "ORE.min_ore\n",
    "    "
   ]
  },
  {
   "cell_type": "code",
   "execution_count": 71,
   "metadata": {},
   "outputs": [
    {
     "data": {
      "text/plain": [
       "[8, 131]"
      ]
     },
     "execution_count": 71,
     "metadata": {},
     "output_type": "execute_result"
    }
   ],
   "source": [
    "GBXJL.min_ore_calc()\n",
    "GBXJL.min_ore"
   ]
  },
  {
   "cell_type": "code",
   "execution_count": null,
   "metadata": {},
   "outputs": [],
   "source": []
  },
  {
   "cell_type": "code",
   "execution_count": 48,
   "metadata": {},
   "outputs": [
    {
     "data": {
      "text/plain": [
       "6"
      ]
     },
     "execution_count": 48,
     "metadata": {},
     "output_type": "execute_result"
    }
   ],
   "source": [
    "multiple = 3\n",
    "needed = 18\n",
    "\n",
    "math.ceil(needed/multiple)"
   ]
  },
  {
   "cell_type": "code",
   "execution_count": null,
   "metadata": {},
   "outputs": [],
   "source": []
  },
  {
   "cell_type": "code",
   "execution_count": null,
   "metadata": {},
   "outputs": [],
   "source": []
  },
  {
   "cell_type": "code",
   "execution_count": 1,
   "metadata": {},
   "outputs": [],
   "source": [
    "# Just in case I need an LCM:\n",
    "def gcd(a,b):\n",
    "    \"\"\"Compute the greatest common divisor of a and b\"\"\"\n",
    "    while b > 0:\n",
    "        a, b = b, a % b\n",
    "    return a\n",
    "    \n",
    "def lcm(a, b):\n",
    "    \"\"\"Compute the lowest common multiple of a and b\"\"\"\n",
    "    return int(a * b / gcd(a, b))"
   ]
  },
  {
   "cell_type": "code",
   "execution_count": 20,
   "metadata": {},
   "outputs": [
    {
     "data": {
      "text/plain": [
       "'6 RNQJN'"
      ]
     },
     "execution_count": 20,
     "metadata": {},
     "output_type": "execute_result"
    }
   ],
   "source": [
    "incom_pies[1][0]#.split(' ')[0]"
   ]
  },
  {
   "cell_type": "code",
   "execution_count": null,
   "metadata": {
    "collapsed": true
   },
   "outputs": [],
   "source": []
  },
  {
   "cell_type": "code",
   "execution_count": null,
   "metadata": {
    "collapsed": true
   },
   "outputs": [],
   "source": []
  },
  {
   "cell_type": "code",
   "execution_count": 36,
   "metadata": {},
   "outputs": [],
   "source": [
    "a = np.empty((2))"
   ]
  },
  {
   "cell_type": "code",
   "execution_count": 37,
   "metadata": {},
   "outputs": [
    {
     "data": {
      "text/plain": [
       "array([-3.10503618e+231, -2.68679134e+154])"
      ]
     },
     "execution_count": 37,
     "metadata": {},
     "output_type": "execute_result"
    }
   ],
   "source": [
    "a"
   ]
  },
  {
   "cell_type": "code",
   "execution_count": 40,
   "metadata": {},
   "outputs": [
    {
     "data": {
      "text/plain": [
       "array([-3.10503618e+231, -2.68679134e+154, -3.10503618e+231,\n",
       "       -2.68679134e+154])"
      ]
     },
     "execution_count": 40,
     "metadata": {},
     "output_type": "execute_result"
    }
   ],
   "source": [
    "np.append(a,a, axis=0)"
   ]
  },
  {
   "cell_type": "code",
   "execution_count": 41,
   "metadata": {},
   "outputs": [
    {
     "data": {
      "text/plain": [
       "array([-3.10503618e+231, -2.68679134e+154])"
      ]
     },
     "execution_count": 41,
     "metadata": {},
     "output_type": "execute_result"
    }
   ],
   "source": [
    "a"
   ]
  },
  {
   "cell_type": "code",
   "execution_count": 52,
   "metadata": {},
   "outputs": [],
   "source": [
    "a = np.array([[1,1,1],[2,1,3]]).T"
   ]
  },
  {
   "cell_type": "code",
   "execution_count": 53,
   "metadata": {},
   "outputs": [
    {
     "data": {
      "text/plain": [
       "array([[1, 2],\n",
       "       [1, 1],\n",
       "       [1, 3]])"
      ]
     },
     "execution_count": 53,
     "metadata": {},
     "output_type": "execute_result"
    }
   ],
   "source": [
    "a"
   ]
  },
  {
   "cell_type": "code",
   "execution_count": null,
   "metadata": {},
   "outputs": [],
   "source": []
  }
 ],
 "metadata": {
  "anaconda-cloud": {},
  "kernelspec": {
   "display_name": "Python 3",
   "language": "python",
   "name": "python3"
  },
  "language_info": {
   "codemirror_mode": {
    "name": "ipython",
    "version": 3
   },
   "file_extension": ".py",
   "mimetype": "text/x-python",
   "name": "python",
   "nbconvert_exporter": "python",
   "pygments_lexer": "ipython3",
   "version": "3.7.3"
  }
 },
 "nbformat": 4,
 "nbformat_minor": 1
}
