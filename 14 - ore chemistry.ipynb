{
 "cells": [
  {
   "cell_type": "code",
   "execution_count": 1,
   "metadata": {},
   "outputs": [],
   "source": [
    "import numpy as np\n",
    "import math"
   ]
  },
  {
   "cell_type": "markdown",
   "metadata": {},
   "source": [
    "### Read Input\n"
   ]
  },
  {
   "cell_type": "code",
   "execution_count": 2,
   "metadata": {},
   "outputs": [
    {
     "data": {
      "text/plain": [
       "array(['118 ORE => 7 GTPZ', '6 RNQJN, 4 NQKVW => 4 DTQRC',\n",
       "       '2 GBXJL => 3 XHBR', '4 BPZM => 9 LVDRH', '131 ORE => 3 RHBL'],\n",
       "      dtype='<U98')"
      ]
     },
     "execution_count": 2,
     "metadata": {},
     "output_type": "execute_result"
    }
   ],
   "source": [
    "incom = np.loadtxt('14_input.txt',delimiter=\"\\n\", comments=None,dtype=str)\n",
    "\n",
    "incom[:5]"
   ]
  },
  {
   "cell_type": "markdown",
   "metadata": {},
   "source": [
    "#### digest input into chemical ins and outs"
   ]
  },
  {
   "cell_type": "code",
   "execution_count": 3,
   "metadata": {},
   "outputs": [
    {
     "data": {
      "text/plain": [
       "[['118 ORE', '7 GTPZ'],\n",
       " ['6 RNQJN', '4 NQKVW', '4 DTQRC'],\n",
       " ['2 GBXJL', '3 XHBR'],\n",
       " ['4 BPZM', '9 LVDRH'],\n",
       " ['131 ORE', '3 RHBL']]"
      ]
     },
     "execution_count": 3,
     "metadata": {},
     "output_type": "execute_result"
    }
   ],
   "source": [
    "incom_split = [i.split(' => ') for i in incom]\n",
    "\n",
    "incom_pies = [i[0].split(', ') +[i[1]] for i in incom_split]\n",
    "\n",
    "incom_pies[:5]"
   ]
  },
  {
   "cell_type": "markdown",
   "metadata": {},
   "source": [
    "So, the first entries in a list are the inputs, the last entries are the chemicals generated."
   ]
  },
  {
   "cell_type": "markdown",
   "metadata": {},
   "source": [
    "Now, create a chemical class:"
   ]
  },
  {
   "cell_type": "code",
   "execution_count": 247,
   "metadata": {},
   "outputs": [],
   "source": [
    "# Create a class\n",
    "\n",
    "class Chem:\n",
    "    def __init__(self,name):\n",
    "        self.name = name\n",
    "        self.recipies = []\n",
    "        self.min_ore = [1,999999999] # [quantity, ore required]\n",
    "        \n",
    "        toe.append(self.name) # append self to table of elements\n",
    "        \n",
    "    def add_recipie(self, recipie):\n",
    "        self.recipies.append(recipie)\n",
    "        \n",
    "    def min_ore_calc(self): # original\n",
    "        ores = []\n",
    "        for card in self.recipies:\n",
    "            #quant_chem_gen = card[0][0]\n",
    "            ore = 0\n",
    "            for ingred in card[1:]:\n",
    "                if ingred[1].min_ore[1] == 999999999:\n",
    "                    ingred[1].min_ore_calc()\n",
    "                ore += math.ceil(ingred[0]/ingred[1].min_ore[0])*ingred[1].min_ore[1]\n",
    "            ores.append([card[0][0],ore])\n",
    "        \n",
    "        # Choose minimum ore:\n",
    "        self.min_ore = ores[np.argmax([i[0]/i[1] for i in ores])]\n",
    " \n",
    "       \n",
    "    def min_ore_calc_remainders(self): # enhanced to account for remainder chemicals\n",
    "        # modifies self, but also returns remainder products\n",
    "        ores = []\n",
    "        for card in self.recipies:\n",
    "            #quant_chem_gen = card[0][0]\n",
    "            remainder = np.empty((0,2))\n",
    "            ore = 0\n",
    "            for ingred in card[1:]: # 1: since idx 0 is the chem being prepared\n",
    "                if ingred[1] != ORE:\n",
    "                    remainder = np.append(remainder,ingred[1].min_ore_calc_remainders(), axis=0)\n",
    "                    remainder = consol_remain(remainder)\n",
    "                    \n",
    "                    # if ingredient is in remainder\n",
    "                    if ingred[1] in remainder:\n",
    "                        if remainder[np.where(remainder[:,1] == ingred[1]),0] >= ingred[0]: # if the remainder is sufficient\n",
    "                            remainder[np.where(remainder[:,1] == ingred[1]),0] -= ingred[0] # just adjust the amount of remainder                        \n",
    "                        else: # make additional necessary ingredient\n",
    "                            ore += math.ceil((ingred[0]-remainder[np.where(remainder[:,1] == ingred[1]),0])/ingred[1].min_ore[0])*ingred[1].min_ore[1]\n",
    "                            remainder = np.append(remainder, [[int(ingred[1].min_ore[0]-((ingred[0]-remainder[np.where(remainder[:,1] == ingred[1]),0])%ingred[1].min_ore[0]))\n",
    "                                                               ,ingred[1]]], axis=0)\n",
    "                                                            \n",
    "                    else:\n",
    "                        ore += math.ceil(ingred[0]/ingred[1].min_ore[0])*ingred[1].min_ore[1]\n",
    "                        remainder = np.append(remainder, [[int(ingred[1].min_ore[0]-(ingred[0]%ingred[1].min_ore[0])) ,ingred[1]]], axis=0)\n",
    "                    \n",
    "            ores.append([card[0][0],ore])\n",
    "            \n",
    "        \n",
    "        # Choose minimum ore:\n",
    "        #if self != ORE:\n",
    "            #self.min_ore = ores[np.argmax([i[0]/i[1] for i in ores])]\n",
    "            \n",
    "        \n",
    "        # Return remainder\n",
    "        return remainder"
   ]
  },
  {
   "cell_type": "code",
   "execution_count": 248,
   "metadata": {},
   "outputs": [],
   "source": [
    "# Define a function that consolidates multiple entries on the remainders array...\n",
    "\n",
    "def consol_remain(remainder):\n",
    "    out = np.empty((0,2))\n",
    "    \n",
    "    while remainder.shape[0] > 0:\n",
    "        chem = remainder[0,1]\n",
    "        out = np.append(out, [[np.sum([i for i in a[np.where(a[:,1] == chem),0]]),chem]], axis=0)\n",
    "        remainder = np.delete(remainder, np.where(remainder[:,1] == chem), 0)\n",
    "    return out"
   ]
  },
  {
   "cell_type": "code",
   "execution_count": 249,
   "metadata": {},
   "outputs": [],
   "source": [
    "toe = []\n",
    "\n",
    "# Create ORE\n",
    "ORE = Chem('ORE')\n",
    "ORE.min_ore = [1,1]\n",
    "\n",
    "for i in incom_pies:\n",
    "    # Decompose entry into amount and ingredient\n",
    "    amountp,ingredp = int(i[-1].split(' ')[0]), i[-1].split(' ')[1]\n",
    "    if ingredp not in toe:\n",
    "        vars()[ingredp] = Chem(ingredp)\n",
    "    \n",
    "    # Create recipie card\n",
    "    recipie = []\n",
    "    # first, add product to recipie\n",
    "    recipie.append([amountp,vars()[ingredp]])\n",
    "    \n",
    "    for entry in i[:-1]:\n",
    "        # Decompose entry into amount and ingredient\n",
    "        amount,ingred = int(entry.split(' ')[0]), entry.split(' ')[1]\n",
    "        if ingred not in toe: # add the ingredient to the toe if its not already there\n",
    "            vars()[ingred] = Chem(ingred)\n",
    "        # add ingredient to recipie\n",
    "        recipie.append([amount,vars()[ingred]])\n",
    "        \n",
    "    # put recipie card into class\n",
    "    vars()[ingredp].add_recipie(recipie)\n"
   ]
  },
  {
   "cell_type": "code",
   "execution_count": 250,
   "metadata": {},
   "outputs": [
    {
     "data": {
      "text/plain": [
       "['ORE', 'GTPZ', 'DTQRC', 'RNQJN', 'NQKVW']"
      ]
     },
     "execution_count": 250,
     "metadata": {},
     "output_type": "execute_result"
    }
   ],
   "source": [
    "toe[:5]"
   ]
  },
  {
   "cell_type": "code",
   "execution_count": 251,
   "metadata": {},
   "outputs": [
    {
     "data": {
      "text/plain": [
       "[1, 5280576]"
      ]
     },
     "execution_count": 251,
     "metadata": {},
     "output_type": "execute_result"
    }
   ],
   "source": [
    "FUEL.min_ore_calc()\n",
    "FUEL.min_ore"
   ]
  },
  {
   "cell_type": "markdown",
   "metadata": {},
   "source": [
    "5280576 is too high!"
   ]
  },
  {
   "cell_type": "markdown",
   "metadata": {},
   "source": [
    "Crap. From what I've seen, things are working as expected, however, I wonder if I need to factor in my extra products intelligently? I've been tossing the remainders and not keeping track of them."
   ]
  },
  {
   "cell_type": "code",
   "execution_count": 24,
   "metadata": {},
   "outputs": [
    {
     "data": {
      "text/plain": [
       "[[[7, <__main__.Chem at 0x5f61cc0>], [118, <__main__.Chem at 0x5f6f128>]]]"
      ]
     },
     "execution_count": 24,
     "metadata": {},
     "output_type": "execute_result"
    }
   ],
   "source": [
    "GTPZ.recipies"
   ]
  },
  {
   "cell_type": "code",
   "execution_count": 254,
   "metadata": {},
   "outputs": [
    {
     "data": {
      "text/plain": [
       "[1, 5280576]"
      ]
     },
     "execution_count": 254,
     "metadata": {},
     "output_type": "execute_result"
    }
   ],
   "source": [
    "a = FUEL.min_ore_calc_remainders()\n",
    "FUEL.min_ore"
   ]
  },
  {
   "cell_type": "code",
   "execution_count": 255,
   "metadata": {},
   "outputs": [
    {
     "data": {
      "text/plain": [
       "array([[0, <__main__.Chem object at 0x00000000055E4080>],\n",
       "       [0, <__main__.Chem object at 0x00000000055E49E8>],\n",
       "       [0, <__main__.Chem object at 0x00000000055D59B0>],\n",
       "       [0, <__main__.Chem object at 0x00000000055D5AC8>],\n",
       "       [0, <__main__.Chem object at 0x00000000055FEC18>],\n",
       "       [0, <__main__.Chem object at 0x00000000055CC240>],\n",
       "       [0, <__main__.Chem object at 0x00000000055E4AC8>],\n",
       "       [0, <__main__.Chem object at 0x00000000055E4128>],\n",
       "       [0, <__main__.Chem object at 0x00000000055E4BE0>],\n",
       "       [0, <__main__.Chem object at 0x00000000055E4908>],\n",
       "       [0, <__main__.Chem object at 0x00000000055FED30>],\n",
       "       [0, <__main__.Chem object at 0x00000000055FE4A8>],\n",
       "       [0, <__main__.Chem object at 0x00000000055D58D0>],\n",
       "       [0, <__main__.Chem object at 0x00000000055E47F0>],\n",
       "       [0, <__main__.Chem object at 0x00000000055E4F60>],\n",
       "       [0, <__main__.Chem object at 0x00000000055E4D68>],\n",
       "       [0, <__main__.Chem object at 0x00000000055E4470>],\n",
       "       [0, <__main__.Chem object at 0x00000000055E4358>],\n",
       "       [0, <__main__.Chem object at 0x00000000055D5198>],\n",
       "       [0, <__main__.Chem object at 0x00000000055E4D30>],\n",
       "       [0, <__main__.Chem object at 0x00000000055E4780>],\n",
       "       [0, <__main__.Chem object at 0x00000000055E45F8>],\n",
       "       [0, <__main__.Chem object at 0x00000000055D5C18>],\n",
       "       [0, <__main__.Chem object at 0x00000000055E4828>],\n",
       "       [0, <__main__.Chem object at 0x00000000055E43C8>],\n",
       "       [0, <__main__.Chem object at 0x00000000055E4F98>],\n",
       "       [0, <__main__.Chem object at 0x00000000055E4208>],\n",
       "       [0, <__main__.Chem object at 0x00000000055E4518>],\n",
       "       [0, <__main__.Chem object at 0x00000000055E4CC0>],\n",
       "       [0, <__main__.Chem object at 0x00000000055E4E48>],\n",
       "       [0, <__main__.Chem object at 0x00000000055E4400>],\n",
       "       [0, <__main__.Chem object at 0x00000000055E4898>],\n",
       "       [0, <__main__.Chem object at 0x00000000055D50F0>],\n",
       "       [0, <__main__.Chem object at 0x00000000055D5358>],\n",
       "       [0, <__main__.Chem object at 0x00000000055E46D8>],\n",
       "       [0, <__main__.Chem object at 0x00000000055E4278>],\n",
       "       [0, <__main__.Chem object at 0x00000000055E4860>],\n",
       "       [0, <__main__.Chem object at 0x00000000055D52E8>],\n",
       "       [0, <__main__.Chem object at 0x00000000055D5518>],\n",
       "       [0, <__main__.Chem object at 0x00000000055D5CF8>],\n",
       "       [0, <__main__.Chem object at 0x00000000055D5390>],\n",
       "       [0, <__main__.Chem object at 0x00000000055E4390>],\n",
       "       [0, <__main__.Chem object at 0x00000000055D5DD8>],\n",
       "       [0, <__main__.Chem object at 0x00000000055D5550>],\n",
       "       [0, <__main__.Chem object at 0x00000000055E47B8>],\n",
       "       [0, <__main__.Chem object at 0x00000000055D5668>],\n",
       "       [0, <__main__.Chem object at 0x00000000055E4A90>],\n",
       "       [0, <__main__.Chem object at 0x00000000055E40B8>],\n",
       "       [0, <__main__.Chem object at 0x00000000055D55F8>],\n",
       "       [0, <__main__.Chem object at 0x00000000055D5D30>],\n",
       "       [0, <__main__.Chem object at 0x00000000055E4E10>],\n",
       "       [0, <__main__.Chem object at 0x00000000055E4160>],\n",
       "       [0, <__main__.Chem object at 0x00000000055D5A20>],\n",
       "       [0, <__main__.Chem object at 0x00000000055E4438>],\n",
       "       [0, <__main__.Chem object at 0x00000000055E46A0>],\n",
       "       [0, <__main__.Chem object at 0x00000000055E45C0>],\n",
       "       [0, <__main__.Chem object at 0x0000000006203D30>],\n",
       "       [0, <__main__.Chem object at 0x00000000055D5940>],\n",
       "       [0, <__main__.Chem object at 0x00000000055D52B0>],\n",
       "       [4, <__main__.Chem object at 0x00000000055E4630>]], dtype=object)"
      ]
     },
     "execution_count": 255,
     "metadata": {},
     "output_type": "execute_result"
    }
   ],
   "source": [
    "a"
   ]
  },
  {
   "cell_type": "code",
   "execution_count": 257,
   "metadata": {},
   "outputs": [
    {
     "data": {
      "text/plain": [
       "('SPRCM',\n",
       " [[[4, <__main__.Chem at 0x55e4630>], [3, <__main__.Chem at 0x55e4d30>]]])"
      ]
     },
     "execution_count": 257,
     "metadata": {},
     "output_type": "execute_result"
    }
   ],
   "source": [
    "a[-1,1].name, a[-1,1].recipies"
   ]
  },
  {
   "cell_type": "code",
   "execution_count": 117,
   "metadata": {},
   "outputs": [
    {
     "name": "stdout",
     "output_type": "stream",
     "text": [
      "98\n",
      "96\n",
      "94\n",
      "42\n",
      "36\n",
      "134\n",
      "134\n",
      "128\n",
      "130\n",
      "128\n",
      "94\n",
      "30\n",
      "70\n",
      "70\n",
      "134\n",
      "134\n",
      "128\n",
      "130\n",
      "128\n",
      "94\n",
      "130\n",
      "128\n",
      "134\n",
      "134\n",
      "128\n",
      "94\n",
      "84\n",
      "32\n",
      "30\n",
      "134\n",
      "134\n",
      "128\n",
      "130\n",
      "128\n",
      "94\n",
      "70\n",
      "70\n",
      "30\n",
      "18\n",
      "70\n",
      "70\n",
      "134\n",
      "134\n",
      "128\n",
      "130\n",
      "128\n",
      "94\n",
      "130\n",
      "128\n",
      "134\n",
      "134\n",
      "128\n",
      "94\n",
      "84\n",
      "32\n",
      "30\n",
      "12\n",
      "6\n",
      "6\n",
      "4\n",
      "94\n",
      "98\n",
      "96\n",
      "94\n",
      "42\n",
      "36\n",
      "134\n",
      "134\n",
      "128\n",
      "130\n",
      "128\n",
      "94\n",
      "30\n",
      "94\n",
      "84\n",
      "98\n",
      "96\n",
      "94\n",
      "52\n",
      "24\n",
      "10\n",
      "10\n",
      "134\n",
      "134\n",
      "6\n",
      "94\n",
      "98\n",
      "96\n",
      "94\n",
      "42\n",
      "36\n",
      "134\n",
      "134\n",
      "128\n",
      "130\n",
      "128\n",
      "94\n",
      "30\n",
      "94\n",
      "84\n",
      "98\n",
      "96\n",
      "94\n",
      "52\n",
      "24\n",
      "10\n",
      "10\n",
      "4\n",
      "98\n",
      "96\n",
      "94\n",
      "42\n",
      "36\n",
      "134\n",
      "134\n",
      "128\n",
      "130\n",
      "128\n",
      "94\n",
      "30\n",
      "94\n",
      "84\n",
      "98\n",
      "96\n",
      "94\n",
      "52\n",
      "24\n",
      "8\n",
      "98\n",
      "96\n",
      "94\n",
      "42\n",
      "98\n",
      "96\n",
      "94\n",
      "42\n",
      "36\n",
      "134\n",
      "134\n",
      "128\n",
      "130\n",
      "128\n",
      "94\n",
      "30\n",
      "94\n",
      "84\n",
      "98\n",
      "96\n",
      "94\n",
      "52\n",
      "24\n",
      "6\n",
      "94\n",
      "84\n",
      "98\n",
      "96\n",
      "94\n",
      "52\n",
      "94\n",
      "84\n",
      "98\n",
      "96\n",
      "94\n",
      "52\n",
      "8\n",
      "8\n",
      "130\n",
      "128\n",
      "134\n",
      "134\n",
      "128\n",
      "94\n",
      "84\n",
      "32\n",
      "2\n",
      "2\n",
      "2\n",
      "98\n",
      "96\n",
      "94\n",
      "42\n",
      "36\n",
      "134\n",
      "134\n",
      "128\n",
      "130\n",
      "128\n",
      "94\n",
      "30\n",
      "94\n",
      "84\n",
      "98\n",
      "96\n",
      "94\n",
      "52\n",
      "24\n",
      "8\n",
      "98\n",
      "96\n",
      "94\n",
      "42\n",
      "36\n",
      "70\n",
      "70\n",
      "94\n",
      "84\n",
      "98\n",
      "96\n",
      "94\n",
      "52\n",
      "6\n",
      "4\n",
      "94\n",
      "84\n",
      "98\n",
      "96\n",
      "94\n",
      "52\n",
      "134\n",
      "134\n",
      "6\n",
      "4\n",
      "94\n",
      "84\n",
      "98\n",
      "96\n",
      "94\n",
      "52\n",
      "94\n",
      "84\n",
      "98\n",
      "96\n",
      "94\n",
      "52\n",
      "8\n",
      "8\n",
      "98\n",
      "96\n",
      "94\n",
      "42\n",
      "36\n",
      "134\n",
      "134\n",
      "128\n",
      "130\n",
      "128\n",
      "94\n",
      "30\n",
      "94\n",
      "84\n",
      "98\n",
      "96\n",
      "94\n",
      "52\n",
      "24\n",
      "8\n",
      "4\n",
      "70\n",
      "70\n",
      "134\n",
      "134\n",
      "128\n",
      "130\n",
      "128\n",
      "94\n",
      "130\n",
      "128\n",
      "134\n",
      "134\n",
      "128\n",
      "94\n",
      "84\n",
      "32\n",
      "30\n",
      "134\n",
      "134\n",
      "128\n",
      "130\n",
      "128\n",
      "94\n",
      "70\n",
      "70\n",
      "30\n",
      "18\n",
      "70\n",
      "70\n",
      "134\n",
      "134\n",
      "128\n",
      "130\n",
      "128\n",
      "94\n",
      "130\n",
      "128\n",
      "134\n",
      "134\n",
      "128\n",
      "94\n",
      "84\n",
      "32\n",
      "30\n",
      "12\n",
      "98\n",
      "96\n",
      "2\n",
      "2\n",
      "98\n",
      "96\n",
      "94\n",
      "42\n",
      "36\n",
      "134\n",
      "134\n",
      "128\n",
      "130\n",
      "128\n",
      "94\n",
      "30\n",
      "94\n",
      "84\n",
      "98\n",
      "96\n",
      "94\n",
      "52\n",
      "24\n",
      "8\n",
      "4\n",
      "2\n",
      "70\n",
      "70\n",
      "134\n",
      "134\n",
      "128\n",
      "130\n",
      "128\n",
      "94\n",
      "130\n",
      "128\n",
      "134\n",
      "134\n",
      "128\n",
      "94\n",
      "84\n",
      "32\n",
      "30\n",
      "134\n",
      "134\n",
      "128\n",
      "130\n",
      "128\n",
      "94\n",
      "70\n",
      "70\n",
      "30\n",
      "18\n",
      "70\n",
      "70\n",
      "134\n",
      "134\n",
      "128\n",
      "130\n",
      "128\n",
      "94\n",
      "130\n",
      "128\n",
      "134\n",
      "134\n",
      "128\n",
      "94\n",
      "84\n",
      "32\n",
      "30\n",
      "12\n",
      "98\n",
      "96\n",
      "94\n",
      "42\n",
      "36\n",
      "70\n",
      "70\n",
      "94\n",
      "84\n",
      "98\n",
      "96\n",
      "94\n",
      "52\n",
      "6\n",
      "2\n",
      "134\n",
      "134\n",
      "128\n",
      "130\n",
      "128\n",
      "94\n",
      "70\n",
      "70\n",
      "30\n",
      "134\n",
      "134\n",
      "128\n",
      "130\n",
      "128\n",
      "94\n",
      "70\n",
      "70\n",
      "30\n",
      "6\n",
      "6\n",
      "2\n",
      "2\n",
      "130\n",
      "98\n",
      "94\n",
      "84\n",
      "98\n",
      "96\n",
      "94\n",
      "52\n",
      "94\n",
      "84\n",
      "98\n",
      "96\n",
      "94\n",
      "52\n",
      "8\n",
      "8\n",
      "134\n",
      "134\n",
      "128\n",
      "130\n",
      "128\n",
      "94\n",
      "70\n",
      "70\n",
      "30\n",
      "134\n",
      "134\n",
      "128\n",
      "130\n",
      "128\n",
      "94\n",
      "70\n",
      "70\n",
      "30\n",
      "6\n",
      "6\n",
      "98\n",
      "96\n",
      "94\n",
      "42\n",
      "98\n",
      "96\n",
      "94\n",
      "42\n",
      "36\n",
      "134\n",
      "134\n",
      "128\n",
      "130\n",
      "128\n",
      "94\n",
      "30\n",
      "94\n",
      "84\n",
      "98\n",
      "96\n",
      "94\n",
      "52\n",
      "24\n",
      "6\n",
      "134\n",
      "134\n",
      "128\n",
      "98\n",
      "96\n",
      "94\n",
      "42\n",
      "36\n",
      "70\n",
      "70\n",
      "94\n",
      "84\n",
      "98\n",
      "96\n",
      "94\n",
      "52\n",
      "6\n",
      "4\n",
      "70\n",
      "70\n",
      "134\n",
      "134\n",
      "128\n",
      "130\n",
      "128\n",
      "94\n",
      "130\n",
      "128\n",
      "134\n",
      "134\n",
      "128\n",
      "94\n",
      "84\n",
      "32\n",
      "30\n",
      "134\n",
      "134\n",
      "128\n",
      "130\n",
      "128\n",
      "94\n",
      "70\n",
      "70\n",
      "30\n",
      "18\n",
      "70\n",
      "70\n",
      "134\n",
      "134\n",
      "128\n",
      "130\n",
      "128\n",
      "94\n",
      "130\n",
      "128\n",
      "134\n",
      "134\n",
      "128\n",
      "94\n",
      "84\n",
      "32\n",
      "30\n",
      "12\n",
      "134\n",
      "134\n",
      "128\n",
      "130\n",
      "128\n",
      "94\n",
      "70\n",
      "70\n",
      "30\n",
      "134\n",
      "134\n",
      "128\n",
      "130\n",
      "128\n",
      "94\n",
      "70\n",
      "70\n",
      "30\n",
      "6\n",
      "6\n",
      "2\n",
      "2\n",
      "98\n",
      "96\n",
      "94\n",
      "42\n",
      "98\n",
      "96\n",
      "94\n",
      "42\n",
      "36\n",
      "134\n",
      "134\n",
      "128\n",
      "130\n",
      "128\n",
      "94\n",
      "30\n",
      "94\n",
      "84\n",
      "98\n",
      "96\n",
      "94\n",
      "52\n",
      "24\n",
      "6\n",
      "2\n",
      "2\n",
      "70\n",
      "70\n",
      "134\n",
      "134\n",
      "128\n",
      "130\n",
      "128\n",
      "94\n",
      "130\n",
      "128\n",
      "134\n",
      "134\n",
      "128\n",
      "94\n",
      "84\n",
      "32\n",
      "30\n",
      "134\n",
      "134\n",
      "128\n",
      "130\n",
      "128\n",
      "94\n",
      "70\n",
      "70\n",
      "30\n",
      "18\n",
      "98\n",
      "96\n",
      "94\n",
      "42\n",
      "36\n",
      "134\n",
      "134\n",
      "128\n",
      "130\n",
      "128\n",
      "94\n",
      "30\n",
      "134\n",
      "134\n",
      "128\n",
      "130\n",
      "128\n",
      "94\n",
      "94\n",
      "84\n",
      "98\n",
      "96\n",
      "94\n",
      "52\n",
      "4\n",
      "94\n",
      "98\n",
      "96\n",
      "94\n",
      "42\n",
      "36\n",
      "134\n",
      "134\n",
      "128\n",
      "130\n",
      "128\n",
      "94\n",
      "30\n",
      "94\n",
      "84\n",
      "98\n",
      "96\n",
      "94\n",
      "52\n",
      "24\n",
      "10\n",
      "10\n",
      "4\n",
      "70\n",
      "70\n",
      "134\n",
      "134\n",
      "128\n",
      "130\n",
      "128\n",
      "94\n",
      "130\n",
      "128\n",
      "134\n",
      "134\n",
      "128\n",
      "94\n",
      "84\n",
      "32\n",
      "30\n",
      "134\n",
      "134\n",
      "128\n",
      "130\n",
      "128\n",
      "94\n",
      "70\n",
      "70\n",
      "30\n",
      "18\n",
      "70\n",
      "70\n",
      "134\n",
      "134\n",
      "128\n",
      "130\n",
      "128\n",
      "94\n",
      "130\n",
      "128\n",
      "134\n",
      "134\n",
      "128\n",
      "94\n",
      "84\n",
      "32\n",
      "30\n",
      "12\n",
      "6\n",
      "6\n",
      "4\n",
      "134\n",
      "134\n",
      "6\n",
      "4\n",
      "70\n",
      "70\n",
      "4\n",
      "2\n",
      "70\n",
      "70\n",
      "134\n",
      "134\n",
      "128\n",
      "130\n",
      "128\n",
      "94\n",
      "130\n",
      "128\n",
      "134\n",
      "134\n",
      "128\n",
      "94\n",
      "84\n",
      "32\n",
      "30\n",
      "134\n",
      "134\n",
      "128\n",
      "130\n",
      "128\n",
      "94\n",
      "70\n",
      "70\n",
      "30\n",
      "18\n",
      "70\n",
      "70\n",
      "134\n",
      "134\n",
      "128\n",
      "130\n",
      "128\n",
      "94\n",
      "130\n",
      "128\n",
      "134\n",
      "134\n",
      "128\n",
      "94\n",
      "84\n",
      "32\n",
      "30\n",
      "12\n",
      "6\n",
      "6\n",
      "70\n",
      "70\n",
      "134\n",
      "134\n",
      "128\n",
      "130\n",
      "128\n",
      "94\n",
      "130\n",
      "128\n",
      "134\n",
      "134\n",
      "128\n",
      "94\n",
      "84\n",
      "32\n",
      "30\n",
      "134\n",
      "134\n",
      "128\n",
      "130\n",
      "128\n",
      "94\n",
      "70\n",
      "70\n",
      "30\n",
      "18\n",
      "98\n",
      "96\n",
      "94\n",
      "42\n",
      "36\n",
      "134\n",
      "134\n",
      "128\n",
      "130\n",
      "128\n",
      "94\n",
      "30\n",
      "134\n",
      "134\n",
      "128\n",
      "130\n",
      "128\n",
      "94\n",
      "94\n",
      "84\n",
      "98\n",
      "96\n",
      "94\n",
      "52\n",
      "4\n",
      "94\n",
      "98\n",
      "96\n",
      "94\n",
      "42\n",
      "36\n",
      "134\n",
      "134\n",
      "128\n",
      "130\n",
      "128\n",
      "94\n",
      "30\n",
      "94\n",
      "84\n",
      "98\n",
      "96\n",
      "94\n",
      "52\n",
      "24\n",
      "10\n",
      "10\n",
      "4\n",
      "130\n",
      "128\n",
      "94\n",
      "84\n",
      "98\n",
      "96\n",
      "94\n",
      "52\n",
      "94\n",
      "84\n",
      "98\n",
      "96\n",
      "94\n",
      "52\n",
      "8\n",
      "8\n",
      "2\n",
      "70\n",
      "70\n",
      "4\n",
      "94\n",
      "98\n",
      "96\n",
      "94\n",
      "42\n",
      "36\n",
      "134\n",
      "134\n",
      "128\n",
      "130\n",
      "128\n",
      "94\n",
      "30\n",
      "94\n",
      "84\n",
      "98\n",
      "96\n",
      "94\n",
      "52\n",
      "24\n",
      "10\n",
      "10\n",
      "4\n",
      "2\n",
      "70\n",
      "70\n",
      "134\n",
      "134\n",
      "128\n",
      "130\n",
      "128\n",
      "94\n",
      "130\n",
      "128\n",
      "134\n",
      "134\n",
      "128\n",
      "94\n",
      "84\n",
      "32\n",
      "30\n",
      "134\n",
      "134\n",
      "128\n",
      "130\n",
      "128\n",
      "94\n",
      "70\n",
      "70\n",
      "30\n",
      "18\n",
      "2\n"
     ]
    }
   ],
   "source": [
    "for chem in a[:,1]:\n",
    "    print(np.sum([i for i in a[np.where(a[:,1] == chem),0]]))"
   ]
  },
  {
   "cell_type": "code",
   "execution_count": 105,
   "metadata": {},
   "outputs": [
    {
     "data": {
      "text/plain": [
       "1812"
      ]
     },
     "execution_count": 105,
     "metadata": {},
     "output_type": "execute_result"
    }
   ],
   "source": [
    "sum(a[:,0])"
   ]
  },
  {
   "cell_type": "code",
   "execution_count": 87,
   "metadata": {},
   "outputs": [
    {
     "data": {
      "text/plain": [
       "[[[1, <__main__.Chem at 0x1054712e8>],\n",
       "  [10, <__main__.Chem at 0x10545ec18>],\n",
       "  [27, <__main__.Chem at 0x10546b9b0>],\n",
       "  [9, <__main__.Chem at 0x10546bf28>],\n",
       "  [41, <__main__.Chem at 0x105471470>],\n",
       "  [2, <__main__.Chem at 0x1054714a8>],\n",
       "  [54, <__main__.Chem at 0x10546ba58>],\n",
       "  [85, <__main__.Chem at 0x10545efd0>],\n",
       "  [5, <__main__.Chem at 0x105471550>],\n",
       "  [2, <__main__.Chem at 0x105471588>],\n",
       "  [28, <__main__.Chem at 0x10546b358>]]]"
      ]
     },
     "execution_count": 87,
     "metadata": {},
     "output_type": "execute_result"
    }
   ],
   "source": [
    "FUEL.recipies"
   ]
  },
  {
   "cell_type": "code",
   "execution_count": 245,
   "metadata": {},
   "outputs": [
    {
     "data": {
      "text/plain": [
       "6"
      ]
     },
     "execution_count": 245,
     "metadata": {},
     "output_type": "execute_result"
    }
   ],
   "source": [
    "multiple = 3\n",
    "needed = 16\n",
    "\n",
    "math.ceil(needed/multiple)*3"
   ]
  },
  {
   "cell_type": "code",
   "execution_count": 63,
   "metadata": {},
   "outputs": [
    {
     "data": {
      "text/plain": [
       "2"
      ]
     },
     "execution_count": 63,
     "metadata": {},
     "output_type": "execute_result"
    }
   ],
   "source": [
    "multiple - (needed%multiple)"
   ]
  },
  {
   "cell_type": "code",
   "execution_count": 46,
   "metadata": {
    "scrolled": true
   },
   "outputs": [
    {
     "data": {
      "text/plain": [
       "[7, 118]"
      ]
     },
     "execution_count": 46,
     "metadata": {},
     "output_type": "execute_result"
    }
   ],
   "source": [
    "# You get 7 GTPZ from 118 core\n",
    "GTPZ.min_ore "
   ]
  },
  {
   "cell_type": "code",
   "execution_count": 47,
   "metadata": {},
   "outputs": [
    {
     "data": {
      "text/plain": [
       "[7, 118]"
      ]
     },
     "execution_count": 47,
     "metadata": {},
     "output_type": "execute_result"
    }
   ],
   "source": [
    "GTPZ.min_ore_calc()\n",
    "GTPZ.min_ore"
   ]
  },
  {
   "cell_type": "code",
   "execution_count": 111,
   "metadata": {},
   "outputs": [
    {
     "data": {
      "text/plain": [
       "[1, 999999999]"
      ]
     },
     "execution_count": 111,
     "metadata": {},
     "output_type": "execute_result"
    }
   ],
   "source": [
    "# you get 4 VTBTK from 6 GTPZ\n",
    "VTBTK.min_ore"
   ]
  },
  {
   "cell_type": "code",
   "execution_count": 112,
   "metadata": {
    "scrolled": true
   },
   "outputs": [
    {
     "data": {
      "text/plain": [
       "[1, 999999999]"
      ]
     },
     "execution_count": 112,
     "metadata": {},
     "output_type": "execute_result"
    }
   ],
   "source": [
    "# you get 6 XCDZP for 6 VTBTK\n",
    "XCDZP.min_ore"
   ]
  },
  {
   "cell_type": "code",
   "execution_count": 224,
   "metadata": {},
   "outputs": [
    {
     "data": {
      "text/plain": [
       "(0, 2)"
      ]
     },
     "execution_count": 224,
     "metadata": {},
     "output_type": "execute_result"
    }
   ],
   "source": [
    "np.empty((0,2)).shape"
   ]
  },
  {
   "cell_type": "code",
   "execution_count": 40,
   "metadata": {
    "collapsed": true
   },
   "outputs": [],
   "source": [
    "del GTPZ"
   ]
  },
  {
   "cell_type": "code",
   "execution_count": 241,
   "metadata": {},
   "outputs": [],
   "source": [
    "a=np.empty((0,2))\n",
    "a = np.append(a,[[3,GTPZ]], axis=0)\n",
    "a = np.append(a,[[3,VTBTK]], axis=0)\n",
    "a = np.append(a,[[5,GTPZ]], axis=0)\n"
   ]
  },
  {
   "cell_type": "code",
   "execution_count": 244,
   "metadata": {},
   "outputs": [
    {
     "data": {
      "text/plain": [
       "False"
      ]
     },
     "execution_count": 244,
     "metadata": {},
     "output_type": "execute_result"
    }
   ],
   "source": [
    "DTQRC in a"
   ]
  },
  {
   "cell_type": "code",
   "execution_count": 150,
   "metadata": {},
   "outputs": [
    {
     "data": {
      "text/plain": [
       "array([[3, <__main__.Chem object at 0x00000000061FFD30>],\n",
       "       [5, <__main__.Chem object at 0x00000000061FFD30>]], dtype=object)"
      ]
     },
     "execution_count": 150,
     "metadata": {},
     "output_type": "execute_result"
    }
   ],
   "source": [
    "a = np.delete(a, np.where(a[:,1] == VTBTK), 0)\n",
    "a"
   ]
  },
  {
   "cell_type": "code",
   "execution_count": 156,
   "metadata": {},
   "outputs": [
    {
     "data": {
      "text/plain": [
       "1"
      ]
     },
     "execution_count": 156,
     "metadata": {},
     "output_type": "execute_result"
    }
   ],
   "source": [
    "np.where(a[:,1] == VTBTK)[0][0]"
   ]
  },
  {
   "cell_type": "code",
   "execution_count": 208,
   "metadata": {},
   "outputs": [
    {
     "data": {
      "text/plain": [
       "0"
      ]
     },
     "execution_count": 208,
     "metadata": {},
     "output_type": "execute_result"
    }
   ],
   "source": [
    "len(np.where(a[:,1] == 'boo')[0])"
   ]
  },
  {
   "cell_type": "code",
   "execution_count": 198,
   "metadata": {},
   "outputs": [
    {
     "data": {
      "text/plain": [
       "array([[3, <__main__.Chem object at 0x0000000005528438>]], dtype=object)"
      ]
     },
     "execution_count": 198,
     "metadata": {},
     "output_type": "execute_result"
    }
   ],
   "source": [
    "a = np.delete(a,np.where(a[:,1] == GTPZ),0)\n",
    "a"
   ]
  },
  {
   "cell_type": "code",
   "execution_count": null,
   "metadata": {},
   "outputs": [],
   "source": []
  },
  {
   "cell_type": "code",
   "execution_count": null,
   "metadata": {},
   "outputs": [],
   "source": []
  },
  {
   "cell_type": "code",
   "execution_count": null,
   "metadata": {},
   "outputs": [],
   "source": []
  },
  {
   "cell_type": "code",
   "execution_count": null,
   "metadata": {},
   "outputs": [],
   "source": []
  },
  {
   "cell_type": "code",
   "execution_count": null,
   "metadata": {},
   "outputs": [],
   "source": []
  },
  {
   "cell_type": "code",
   "execution_count": null,
   "metadata": {
    "collapsed": true
   },
   "outputs": [],
   "source": [
    "aaaa"
   ]
  },
  {
   "cell_type": "code",
   "execution_count": 1,
   "metadata": {
    "collapsed": true
   },
   "outputs": [],
   "source": [
    "# Just in case I need an LCM:\n",
    "def gcd(a,b):\n",
    "    \"\"\"Compute the greatest common divisor of a and b\"\"\"\n",
    "    while b > 0:\n",
    "        a, b = b, a % b\n",
    "    return a\n",
    "    \n",
    "def lcm(a, b):\n",
    "    \"\"\"Compute the lowest common multiple of a and b\"\"\"\n",
    "    return int(a * b / gcd(a, b))"
   ]
  },
  {
   "cell_type": "code",
   "execution_count": null,
   "metadata": {
    "collapsed": true
   },
   "outputs": [],
   "source": []
  },
  {
   "cell_type": "code",
   "execution_count": null,
   "metadata": {
    "collapsed": true
   },
   "outputs": [],
   "source": []
  },
  {
   "cell_type": "code",
   "execution_count": 20,
   "metadata": {},
   "outputs": [
    {
     "data": {
      "text/plain": [
       "'6 RNQJN'"
      ]
     },
     "execution_count": 20,
     "metadata": {},
     "output_type": "execute_result"
    }
   ],
   "source": [
    "incom_pies[1][0]#.split(' ')[0]"
   ]
  },
  {
   "cell_type": "code",
   "execution_count": null,
   "metadata": {
    "collapsed": true
   },
   "outputs": [],
   "source": []
  },
  {
   "cell_type": "code",
   "execution_count": null,
   "metadata": {
    "collapsed": true
   },
   "outputs": [],
   "source": []
  },
  {
   "cell_type": "code",
   "execution_count": 36,
   "metadata": {
    "collapsed": true
   },
   "outputs": [],
   "source": [
    "a = np.empty((2))"
   ]
  },
  {
   "cell_type": "code",
   "execution_count": 37,
   "metadata": {},
   "outputs": [
    {
     "data": {
      "text/plain": [
       "array([-3.10503618e+231, -2.68679134e+154])"
      ]
     },
     "execution_count": 37,
     "metadata": {},
     "output_type": "execute_result"
    }
   ],
   "source": [
    "a"
   ]
  },
  {
   "cell_type": "code",
   "execution_count": 40,
   "metadata": {},
   "outputs": [
    {
     "data": {
      "text/plain": [
       "array([-3.10503618e+231, -2.68679134e+154, -3.10503618e+231,\n",
       "       -2.68679134e+154])"
      ]
     },
     "execution_count": 40,
     "metadata": {},
     "output_type": "execute_result"
    }
   ],
   "source": [
    "np.append(a,a, axis=0)"
   ]
  },
  {
   "cell_type": "code",
   "execution_count": 41,
   "metadata": {},
   "outputs": [
    {
     "data": {
      "text/plain": [
       "array([-3.10503618e+231, -2.68679134e+154])"
      ]
     },
     "execution_count": 41,
     "metadata": {},
     "output_type": "execute_result"
    }
   ],
   "source": [
    "a"
   ]
  },
  {
   "cell_type": "code",
   "execution_count": 52,
   "metadata": {
    "collapsed": true
   },
   "outputs": [],
   "source": [
    "a = np.array([[1,1,1],[2,1,3]]).T"
   ]
  },
  {
   "cell_type": "code",
   "execution_count": 53,
   "metadata": {},
   "outputs": [
    {
     "data": {
      "text/plain": [
       "array([[1, 2],\n",
       "       [1, 1],\n",
       "       [1, 3]])"
      ]
     },
     "execution_count": 53,
     "metadata": {},
     "output_type": "execute_result"
    }
   ],
   "source": [
    "a"
   ]
  },
  {
   "cell_type": "code",
   "execution_count": null,
   "metadata": {
    "collapsed": true
   },
   "outputs": [],
   "source": []
  }
 ],
 "metadata": {
  "anaconda-cloud": {},
  "kernelspec": {
   "display_name": "Python 3",
   "language": "python",
   "name": "python3"
  },
  "language_info": {
   "codemirror_mode": {
    "name": "ipython",
    "version": 3
   },
   "file_extension": ".py",
   "mimetype": "text/x-python",
   "name": "python",
   "nbconvert_exporter": "python",
   "pygments_lexer": "ipython3",
   "version": "3.7.3"
  }
 },
 "nbformat": 4,
 "nbformat_minor": 1
}
