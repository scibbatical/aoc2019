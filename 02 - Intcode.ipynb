{
 "cells": [
  {
   "cell_type": "code",
   "execution_count": 54,
   "metadata": {},
   "outputs": [],
   "source": [
    "import numpy as np"
   ]
  },
  {
   "cell_type": "code",
   "execution_count": 46,
   "metadata": {},
   "outputs": [],
   "source": [
    "demo = [1,1,1,4,99,5,6,0,99 ]"
   ]
  },
  {
   "cell_type": "markdown",
   "metadata": {},
   "source": [
    "Create an object (it's an element in the program):"
   ]
  },
  {
   "cell_type": "code",
   "execution_count": 28,
   "metadata": {},
   "outputs": [],
   "source": [
    "'''\n",
    "P0. Implement a list\n",
    "'''\n",
    "\n",
    "class LNode:\n",
    "    def __init__(self,val):\n",
    "        self.val = val\n",
    "        self.next = None"
   ]
  },
  {
   "cell_type": "markdown",
   "metadata": {},
   "source": [
    "Read the input file, then replace two entries, as instructed:"
   ]
  },
  {
   "cell_type": "code",
   "execution_count": 66,
   "metadata": {},
   "outputs": [],
   "source": [
    "in_put = np.fromfile('02_input.txt',sep=\",\").astype(int)\n",
    "\n",
    "in_put[1]=12\n",
    "in_put[2]=2"
   ]
  },
  {
   "cell_type": "markdown",
   "metadata": {},
   "source": [
    "Create nodes for each entry:"
   ]
  },
  {
   "cell_type": "code",
   "execution_count": 67,
   "metadata": {},
   "outputs": [],
   "source": [
    "for i, value in enumerate(in_put):\n",
    "    vars()['node'+str(i)]=LNode(value)\n",
    "    "
   ]
  },
  {
   "cell_type": "markdown",
   "metadata": {},
   "source": [
    "Perform the instructions in the file:"
   ]
  },
  {
   "cell_type": "code",
   "execution_count": 68,
   "metadata": {},
   "outputs": [],
   "source": [
    "for i in range(0,len(in_put),4):\n",
    "    if vars()['node'+str(i)].val == 99:\n",
    "        break\n",
    "    if vars()['node'+str(i)].val == 1:\n",
    "        vars()['node'+str(vars()['node'+str(i+3)].val)].val = vars()['node'+str(vars()['node'+str(i+1)].val)].val + vars()['node'+str(vars()['node'+str(i+2)].val)].val\n",
    "\n",
    "    if vars()['node'+str(i)].val == 2:\n",
    "        vars()['node'+str(vars()['node'+str(i+3)].val)].val = vars()['node'+str(vars()['node'+str(i+1)].val)].val * vars()['node'+str(vars()['node'+str(i+2)].val)].val"
   ]
  },
  {
   "cell_type": "markdown",
   "metadata": {},
   "source": [
    "Retrieve the result, located in node0"
   ]
  },
  {
   "cell_type": "code",
   "execution_count": 70,
   "metadata": {},
   "outputs": [
    {
     "data": {
      "text/plain": [
       "3716293"
      ]
     },
     "execution_count": 70,
     "metadata": {},
     "output_type": "execute_result"
    }
   ],
   "source": [
    "node0.val"
   ]
  },
  {
   "cell_type": "markdown",
   "metadata": {},
   "source": [
    "Phase Two: try brute force! Test every combination of \"noun\" and \"verb\", then record the result when 19690720 is produced."
   ]
  },
  {
   "cell_type": "code",
   "execution_count": 72,
   "metadata": {},
   "outputs": [],
   "source": [
    "noun_final = np.nan\n",
    "verb_final = np.nan\n",
    "\n",
    "for noun in range(99):\n",
    "    for verb in range(99):\n",
    "        # Sub in new words\n",
    "        in_put[1] = noun\n",
    "        in_put[2] = verb\n",
    "        \n",
    "        # regenerate nodes to start\n",
    "        for i, value in enumerate(in_put):\n",
    "            vars()['node'+str(i)]=LNode(value)\n",
    "            \n",
    "        for i in range(0,len(in_put),4):\n",
    "            if vars()['node'+str(i)].val == 99:\n",
    "                break\n",
    "            if vars()['node'+str(i)].val == 1:\n",
    "                vars()['node'+str(vars()['node'+str(i+3)].val)].val = vars()['node'+str(vars()['node'+str(i+1)].val)].val + vars()['node'+str(vars()['node'+str(i+2)].val)].val\n",
    "\n",
    "            if vars()['node'+str(i)].val == 2:\n",
    "                vars()['node'+str(vars()['node'+str(i+3)].val)].val = vars()['node'+str(vars()['node'+str(i+1)].val)].val * vars()['node'+str(vars()['node'+str(i+2)].val)].val\n",
    "\n",
    "        if node0.val == 19690720:\n",
    "            noun_final = noun\n",
    "            verb_final = verb"
   ]
  },
  {
   "cell_type": "code",
   "execution_count": 74,
   "metadata": {},
   "outputs": [
    {
     "data": {
      "text/plain": [
       "6429"
      ]
     },
     "execution_count": 74,
     "metadata": {},
     "output_type": "execute_result"
    }
   ],
   "source": [
    "100*noun_final+verb_final"
   ]
  }
 ],
 "metadata": {
  "kernelspec": {
   "display_name": "Python 3",
   "language": "python",
   "name": "python3"
  },
  "language_info": {
   "codemirror_mode": {
    "name": "ipython",
    "version": 3
   },
   "file_extension": ".py",
   "mimetype": "text/x-python",
   "name": "python",
   "nbconvert_exporter": "python",
   "pygments_lexer": "ipython3",
   "version": "3.7.3"
  }
 },
 "nbformat": 4,
 "nbformat_minor": 2
}
