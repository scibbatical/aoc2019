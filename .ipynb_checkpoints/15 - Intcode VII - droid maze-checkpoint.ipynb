{
 "cells": [
  {
   "cell_type": "code",
   "execution_count": 1,
   "metadata": {
    "collapsed": true
   },
   "outputs": [],
   "source": [
    "import numpy as np\n",
    "import matplotlib.pyplot as plt"
   ]
  },
  {
   "cell_type": "code",
   "execution_count": 2,
   "metadata": {
    "collapsed": true
   },
   "outputs": [],
   "source": [
    "'''\n",
    "P0. Implement a list\n",
    "'''\n",
    "\n",
    "class LNode:\n",
    "    def __init__(self,val):\n",
    "        self.val = val\n",
    "        self.next = None"
   ]
  },
  {
   "cell_type": "code",
   "execution_count": 3,
   "metadata": {
    "collapsed": true
   },
   "outputs": [],
   "source": [
    "# Create a function for decomposing the parameter mode\n",
    "\n",
    "def parameter_modes(code):\n",
    "    \n",
    "    # Add leading zeros to make 5 digits\n",
    "    c_str = '0'*(5-len(str(code)))+str(code)\n",
    "    \n",
    "    return [c_str[0],c_str[1],c_str[2], c_str[3:]]"
   ]
  },
  {
   "cell_type": "code",
   "execution_count": 4,
   "metadata": {
    "collapsed": true
   },
   "outputs": [],
   "source": [
    "incom0 = np.fromfile('15_input.txt',sep=\",\").astype(int)\n",
    "\n",
    "incom0 = np.append(incom0, np.zeros(1000)).astype(int)\n",
    "\n",
    "for i, value in enumerate(incom0):\n",
    "    vars()['node'+str(i)]=LNode(value)"
   ]
  },
  {
   "cell_type": "code",
   "execution_count": 5,
   "metadata": {
    "collapsed": false
   },
   "outputs": [
    {
     "data": {
      "text/plain": [
       "2045"
      ]
     },
     "execution_count": 5,
     "metadata": {},
     "output_type": "execute_result"
    }
   ],
   "source": [
    "len(incom0)"
   ]
  },
  {
   "cell_type": "code",
   "execution_count": 6,
   "metadata": {
    "collapsed": true
   },
   "outputs": [],
   "source": [
    "def intcode_call(signal_input, incom, pointer_position=0, relative_base=0, reinitialize = False):\n",
    "    # Re-read input to reset intcom program\n",
    "    if reinitialize == True:\n",
    "        incom = np.fromfile('13_input.txt',sep=\",\").astype(int)\n",
    "        \n",
    "    for j, value in enumerate(incom):\n",
    "        vars()['node'+str(j)]=LNode(value)\n",
    "\n",
    "    mem = signal_input\n",
    "\n",
    "    output = []\n",
    "    \n",
    "    rel_base = relative_base\n",
    "    i = pointer_position\n",
    "\n",
    "    while i <= len(incom):\n",
    "        \n",
    "        #print(i)\n",
    "\n",
    "        # decode the parameter modes\n",
    "        p_modes = parameter_modes(vars()['node'+str(i)].val)\n",
    "\n",
    "        # build instruction\n",
    "\n",
    "        # retrieve parameters for specific opcode\n",
    "        if p_modes[-1] in ['99']:\n",
    "            instr = [99]\n",
    "            #print('Opcode 99 executed.')\n",
    "            \n",
    "            # Prepare incom for return\n",
    "            incom_out = []\n",
    "            for j in range(len(incom)):\n",
    "                incom_out = incom_out + [vars()['node'+str(j)].val]\n",
    "            #print('program complete')\n",
    "            \n",
    "            #output = []\n",
    "            \n",
    "            return output, incom_out, i, rel_base\n",
    "            break\n",
    "        \n",
    "        elif p_modes[-1] in ['01', '02', '07', '08']:\n",
    "            instr = [int(p_modes[-1])]\n",
    "            for j in range(i+1, i+4):\n",
    "                instr += [vars()['node'+str(j)].val]\n",
    "            i += 4\n",
    "\n",
    "        elif p_modes[-1] in ['03', '04','09']:\n",
    "            instr = [int(p_modes[-1])] + [vars()['node'+str(i+1)].val]\n",
    "            i += 2\n",
    "\n",
    "        elif p_modes[-1] in ['05', '06']:\n",
    "            instr = [int(p_modes[-1])]\n",
    "            for j in range(i+1, i+3):\n",
    "                instr += [vars()['node'+str(j)].val]\n",
    "            i += 3\n",
    "\n",
    "        else:\n",
    "            print('Uh oh... intruction not understood')\n",
    "            break\n",
    "            \n",
    "        #print(p_modes)\n",
    "        #print(instr)\n",
    "\n",
    "\n",
    "        # Execute instructions\n",
    "        \n",
    "        # ADDITION # ==========================================================================\n",
    "        if instr[0] == 1:\n",
    "            # define a\n",
    "            a = instr[1] # default is immediate mode\n",
    "            if p_modes[2] == '0': # if parameter is position mode\n",
    "                a = vars()['node'+str(instr[1])].val\n",
    "            elif p_modes[2] == '2': # if parameter is in relative mode\n",
    "                if rel_base + instr[1] < 0:\n",
    "                    print('Uh oh... relative base reference is less than 0!')\n",
    "                    break\n",
    "                a = vars()['node'+str(rel_base + instr[1])].val\n",
    "                \n",
    "            # define b\n",
    "            b = instr[2] # default is immediate mode\n",
    "            if p_modes[1] == '0': # if parameter is position mode\n",
    "                b = vars()['node'+str(instr[2])].val\n",
    "            elif p_modes[1] == '2': # if parameter is in relative mode\n",
    "                if rel_base + instr[2] < 0:\n",
    "                    print('Uh oh... relative base reference is less than 0!')\n",
    "                    break\n",
    "                b = vars()['node'+str(rel_base + instr[2])].val\n",
    "\n",
    "            ab = a+b # calculate the overwrite value\n",
    "\n",
    "            # write         \n",
    "            if p_modes[0] == '1': # I think the problem states this will never be the case...\n",
    "                print('uh oh... trying to write in immediate mode???')\n",
    "                break\n",
    "            elif p_modes[0] == '2': # if parameter is in relative mode\n",
    "                if rel_base + instr[3] < 0:\n",
    "                    print('Uh oh... relative base reference is less than 0!')\n",
    "                    break\n",
    "                vars()['node'+str(rel_base + instr[3])].val = ab\n",
    "            else:\n",
    "                vars()['node'+str(instr[3])].val = ab\n",
    "\n",
    "        \n",
    "        # MULTIPLICATION # =========================================================\n",
    "        elif instr[0] == 2:\n",
    "            # define a\n",
    "            a = instr[1] # default is immediate mode\n",
    "            #print('immediate mode a = ' + str(a))\n",
    "            if p_modes[2] == '0': # if parameter is position mode\n",
    "                #print('position mode a = ' + str(a))\n",
    "                a = vars()['node'+str(instr[1])].val\n",
    "            elif p_modes[2] == '2': # if parameter is in relative mode\n",
    "                if rel_base + instr[1] < 0:\n",
    "                    print('Uh oh... relative base reference is less than 0!')\n",
    "                    break\n",
    "                a = vars()['node'+str(rel_base + instr[1])].val\n",
    "                #print('relative mode a = ' + str(a))\n",
    "\n",
    "            # define b\n",
    "            b = instr[2] # default is immediate mode\n",
    "            if p_modes[1] == '0': # if parameter is position mode\n",
    "                b = vars()['node'+str(instr[2])].val\n",
    "            elif p_modes[1] == '2': # if parameter is in relative mode\n",
    "                if rel_base + instr[2] < 0:\n",
    "                    print('Uh oh... relative base reference is less than 0!')\n",
    "                    break\n",
    "                b = vars()['node'+str(rel_base + instr[2])].val\n",
    "\n",
    "            ab = int(a)*int(b) # calculate the overwrite value\n",
    "\n",
    "            # write         \n",
    "            if p_modes[0] == '1': # I think the problem states this will never be the case...\n",
    "                print('uh oh... trying to write in immediate mode???')\n",
    "                break\n",
    "            elif p_modes[0] == '2': # if parameter is in relative mode\n",
    "                if rel_base + instr[3] < 0:\n",
    "                    print('Uh oh... relative base reference is less than 0!')\n",
    "                    break\n",
    "                vars()['node'+str(rel_base + instr[3])].val = ab\n",
    "            else:\n",
    "                vars()['node'+str(instr[3])].val = ab\n",
    "\n",
    "        # INPUT # =====================================================================        \n",
    "        elif instr[0] == 3:\n",
    "            # write input (mem)\n",
    "            if p_modes[2] == '1': # I think the problem states this will never be the case...\n",
    "                print('uh oh... trying to write in immediate mode???')\n",
    "                break\n",
    "            elif p_modes[2] == '2': # relative mode\n",
    "                if rel_base + instr[1] < 0:\n",
    "                    print('Uh oh... relative base reference is less than 0!')\n",
    "                    break\n",
    "                vars()['node'+str(rel_base + instr[1])].val = mem #[0]\n",
    "                #mem = mem[1:]\n",
    "            else:\n",
    "                #print(len(mem))\n",
    "                vars()['node'+str(instr[1])].val = mem #[0]\n",
    "                #mem = mem[1:]\n",
    "        \n",
    "        \n",
    "        # OUTPUT # =================================================================\n",
    "        elif instr[0] == 4:\n",
    "            # define a\n",
    "            #print('output parameter mode: ' + str(p_modes[2]) +\n",
    "            #      ', parameter: ' + str(instr[1]))\n",
    "            a = instr[1] # default is immediate mode\n",
    "            if p_modes[2] == '0': # if parameter is position mode\n",
    "                a = vars()['node'+str(instr[1])].val\n",
    "            elif p_modes[2] == '2': # relative mode\n",
    "                if rel_base + instr[1] < 0:\n",
    "                    print('Uh oh... relative base reference is less than 0!')\n",
    "                    break\n",
    "                a = vars()['node'+str(rel_base + instr[1])].val\n",
    "                \n",
    "\n",
    "            # write to output\n",
    "            output = output + [a]\n",
    "            #print('output:', output)\n",
    "            if len(output) == 1:\n",
    "                # Repackage the nodes as incom\n",
    "                incom_out = []\n",
    "                for j in range(len(incom)):\n",
    "                    incom_out = incom_out + [vars()['node'+str(j)].val]\n",
    "\n",
    "                return output, incom_out, i, rel_base\n",
    "\n",
    "        \n",
    "        # JUMP IF TRUE # ===========================================================\n",
    "        elif instr[0] == 5:\n",
    "            # define a\n",
    "            a = instr[1] # default is immediate mode\n",
    "            if p_modes[2] == '0': # if parameter is position mode\n",
    "                #print('retrieving node ' + str(instr[1]))\n",
    "                a = vars()['node'+str(instr[1])].val\n",
    "                #print('a is' + str(a))\n",
    "            elif p_modes[2] == '2': # relative mode\n",
    "                if rel_base + instr[1] < 0:\n",
    "                    print('Uh oh... relative base reference is less than 0!')\n",
    "                    break\n",
    "                a = vars()['node'+str(rel_base + instr[1])].val\n",
    "\n",
    "            # define b\n",
    "            b = instr[2] # default is immediate mode\n",
    "            if p_modes[1] == '0': # if parameter is position mode\n",
    "                b = vars()['node'+str(instr[2])].val\n",
    "            elif p_modes[1] == '2': # relative mode\n",
    "                if rel_base + instr[2] < 0:\n",
    "                    print('Uh oh... relative base reference is less than 0!')\n",
    "                    break\n",
    "                b = vars()['node'+str(rel_base + instr[2])].val\n",
    "\n",
    "            # write         \n",
    "            if p_modes[0] == '1': # I think the problem states this will never be the case...\n",
    "                print('uh oh... trying to write in immediate mode???')\n",
    "                break\n",
    "            elif p_modes[0] == '2': # relative mode\n",
    "                print(\"'Write' fail for jump-if-true. Check for parameter mode 2!\")\n",
    "                break\n",
    "            else:\n",
    "                #print('a is' + str(a))\n",
    "                if a != 0:\n",
    "                    i = b\n",
    "                    \n",
    "                    \n",
    "        # JUMP IF FALSE # ===========================================================\n",
    "        elif instr[0] == 6:\n",
    "            # define a\n",
    "            a = instr[1] # default is immediate mode\n",
    "            if p_modes[2] == '0': # if parameter is position mode\n",
    "                a = vars()['node'+str(instr[1])].val\n",
    "            elif p_modes[2] == '2': # relative mode\n",
    "                if rel_base + instr[1] < 0:\n",
    "                    print('Uh oh... relative base reference is less than 0!')\n",
    "                    break\n",
    "                a = vars()['node'+str(rel_base + instr[1])].val\n",
    "\n",
    "            # define b\n",
    "            b = instr[2] # default is immediate mode\n",
    "            if p_modes[1] == '0': # if parameter is position mode\n",
    "                b = vars()['node'+str(instr[2])].val\n",
    "            elif p_modes[1] == '2': # relative mode\n",
    "                if rel_base + instr[2] < 0:\n",
    "                    print('Uh oh... relative base reference is less than 0!')\n",
    "                    break\n",
    "                b = vars()['node'+str(rel_base + instr[2])].val\n",
    "\n",
    "            # write         \n",
    "            if p_modes[0] == '1': # I think the problem states this will never be the case...\n",
    "                print('uh oh... trying to write in immediate mode???')\n",
    "                break\n",
    "            elif p_modes[0] == '2': # relative mode\n",
    "                print(\"'Write' fail for jump-if-false. Check for parameter mode 2!\")\n",
    "                break\n",
    "            else:\n",
    "                if a == 0:\n",
    "                    i = b\n",
    "                    \n",
    "        # LESS THAN # ==========================================================================\n",
    "        elif instr[0] == 7:\n",
    "            # define a\n",
    "            a = instr[1] # default is immediate mode\n",
    "            if p_modes[2] == '0': # if parameter is position mode\n",
    "                a = vars()['node'+str(instr[1])].val\n",
    "            elif p_modes[2] == '2': # relative mode\n",
    "                if rel_base + instr[1] < 0:\n",
    "                    print('Uh oh... relative base reference is less than 0!')\n",
    "                    break\n",
    "                a = vars()['node'+str(rel_base + instr[1])].val\n",
    "\n",
    "            # define b\n",
    "            b = instr[2] # default is immediate mode\n",
    "            if p_modes[1] == '0': # if parameter is position mode\n",
    "                b = vars()['node'+str(instr[2])].val\n",
    "            elif p_modes[1] == '2': # relative mode\n",
    "                if rel_base + instr[2] < 0:\n",
    "                    print('Uh oh... relative base reference is less than 0!')\n",
    "                    break\n",
    "                b = vars()['node'+str(rel_base + instr[2])].val\n",
    "\n",
    "            # apply test\n",
    "            if a < b:\n",
    "                #print(str(a) + 'is less than' + str(b))\n",
    "                ab = 1\n",
    "            else:\n",
    "                #print(str(a) + 'is NOT less than' + str(b))\n",
    "                ab = 0                \n",
    "\n",
    "            # write         \n",
    "            if p_modes[0] == '1': # I think the problem states this will never be the case...\n",
    "                print('uh oh... trying to write in immediate mode???')\n",
    "                break\n",
    "            elif p_modes[0] == '2': # relative mode\n",
    "                vars()['node'+str(rel_base + instr[3])].val = ab \n",
    "            else:\n",
    "                #print('setting node ' + str(instr[3]) + 'to be ' + str(ab))\n",
    "                vars()['node'+str(instr[3])].val = ab \n",
    "\n",
    "        # EQUALS # ========================================================================\n",
    "        elif instr[0] == 8:\n",
    "            # define a\n",
    "            a = instr[1] # default is immediate mode\n",
    "            if p_modes[2] == '0': # if parameter is position mode\n",
    "                a = vars()['node'+str(instr[1])].val\n",
    "            elif p_modes[2] == '2': # relative mode\n",
    "                if rel_base + instr[1] < 0:\n",
    "                    print('Uh oh... relative base reference is less than 0!')\n",
    "                    break\n",
    "                a = vars()['node'+str(rel_base + instr[1])].val\n",
    "\n",
    "            # define b\n",
    "            b = instr[2] # default is immediate mode\n",
    "            if p_modes[1] == '0': # if parameter is position mode\n",
    "                b = vars()['node'+str(instr[2])].val\n",
    "            elif p_modes[1] == '2': # relative mode\n",
    "                if rel_base + instr[2] < 0:\n",
    "                    print('Uh oh... relative base reference is less than 0!')\n",
    "                    break\n",
    "                b = vars()['node'+str(rel_base + instr[2])].val\n",
    "\n",
    "            # apply test\n",
    "            if a == b:\n",
    "                ab = 1\n",
    "            else:\n",
    "                ab = 0                \n",
    "\n",
    "            # write         \n",
    "            if p_modes[0] == '1': # I think the problem states this will never be the case...\n",
    "                print('uh oh... trying to write in immediate mode???')\n",
    "                break\n",
    "            elif p_modes[0] == '2': # relative mode\n",
    "                vars()['node'+str(rel_base + instr[3])].val = ab\n",
    "            else:\n",
    "                vars()['node'+str(instr[3])].val = ab\n",
    "                \n",
    "        # ADJUST RELATIVE BASE # =============================================================\n",
    "        elif instr[0] == 9:\n",
    "            # define a\n",
    "            a = instr[1] # default is immediate mode\n",
    "            if p_modes[2] == '0': # if parameter is position mode\n",
    "                a = vars()['node'+str(instr[1])].val\n",
    "            elif p_modes[2] == '2': # relative mode\n",
    "                if rel_base + instr[1] < 0:\n",
    "                    print('Uh oh... relative base reference is less than 0!')\n",
    "                    break\n",
    "                a = vars()['node'+str(rel_base + instr[1])].val\n",
    "                \n",
    "            # execute: adjust relative base\n",
    "            if p_modes[1] == '1': # I think the problem states this will never be the case...\n",
    "                print('uh oh... trying to write in immediate mode???')\n",
    "                break\n",
    "            elif p_modes[1] == '2': # relative mode\n",
    "                print(\"'Write' fail for jump-if-false. Check for parameter mode 2!\")\n",
    "                break\n",
    "            else:\n",
    "                rel_base += a\n",
    "                #print('Relative base now:'+str(rel_base))\n",
    "                \n",
    "\n",
    "        else:\n",
    "            print('Instruction not understood!')\n",
    "            break\n",
    "\n",
    "    #if i > len(incom):\n",
    "    #    print('End of input code reached.')\n",
    "        \n",
    "    # Repackage the nodes as incom\n",
    "    incom_out = []\n",
    "    for j in range(len(incom)):\n",
    "        incom_out = incom_out + [vars()['node'+str(j)].val]\n",
    "        \n",
    "    print('returning at end of intcode')\n",
    "\n",
    "    return output, incom_out, i, rel_base"
   ]
  },
  {
   "cell_type": "markdown",
   "metadata": {},
   "source": [
    "Test the intcode:\n",
    "\n"
   ]
  },
  {
   "cell_type": "code",
   "execution_count": 7,
   "metadata": {
    "collapsed": false
   },
   "outputs": [
    {
     "name": "stdout",
     "output_type": "stream",
     "text": [
      "[1]\n"
     ]
    }
   ],
   "source": [
    "# intput of 1 sends the droid N\n",
    "output, incom, pointer, relative_base = intcode_call(signal_input=[4], incom=incom0, pointer_position=0, relative_base=0)\n",
    "print(output)\n"
   ]
  },
  {
   "cell_type": "markdown",
   "metadata": {},
   "source": [
    "Okay, it gives something!\n",
    "\n",
    "Let's keep track of the droid's position on a map. Say it's 100 x 100 cells and the droid will start at (50,50)."
   ]
  },
  {
   "cell_type": "code",
   "execution_count": 11,
   "metadata": {
    "collapsed": true
   },
   "outputs": [],
   "source": [
    "def bot_move(instruction):\n",
    "    global bot_coord, map_maze, map_maze_dead_ends\n",
    "    # if the bot moved, update the position\n",
    "    if instruction == 1: # move north\n",
    "        bot_coord[1] += 1\n",
    "    elif instruction == 2: # move south\n",
    "        bot_coord [1] -= 1\n",
    "    elif instruction == 3: # move west\n",
    "        bot_coord[0] -= 1\n",
    "    elif instruction == 4: # move east\n",
    "        bot_coord[0] += 1\n",
    "    else:\n",
    "        print('instruction not understood: ' + str(instruction))\n",
    "        \n",
    "    # update map_maze\n",
    "    map_maze[bot_coord[0],bot_coord[1]] = 1\n",
    "    map_maze_dead_ends[bot_coord[0],bot_coord[1]] = 1\n",
    "    \n",
    "def found_sensor():\n",
    "    global bot_coord, map_maze, map_maze_dead_ends\n",
    "    map_maze[bot_coord[0],bot_coord[1]] = 2\n",
    "    map_maze_dead_ends[bot_coord[0],bot_coord[1]] = 2\n",
    "        \n",
    "def bot_wall(instruction):\n",
    "    global bot_coord, map_maze, map_maze_dead_ends\n",
    "    # if the bot found a wall, update the map_maze\n",
    "    if instruction == 1: # wall north\n",
    "        map_maze[bot_coord[0],bot_coord[1]+1] = 0\n",
    "        map_maze_dead_ends[bot_coord[0],bot_coord[1]+1] = 0\n",
    "    elif instruction == 2: # wall south\n",
    "        map_maze[bot_coord[0],bot_coord[1]-1] = 0\n",
    "        map_maze_dead_ends[bot_coord[0],bot_coord[1]-1] = 0\n",
    "    elif instruction == 3: # wall west\n",
    "        map_maze[bot_coord[0]-1,bot_coord[1]] = 0\n",
    "        map_maze_dead_ends[bot_coord[0]-1,bot_coord[1]] = 0\n",
    "    elif instruction == 4: # wall east\n",
    "        map_maze[bot_coord[0]+1,bot_coord[1]] = 0\n",
    "        map_maze_dead_ends[bot_coord[0]+1,bot_coord[1]] = 0\n",
    "    else:\n",
    "        print('instruction not understood: ' + str(instruction))    "
   ]
  },
  {
   "cell_type": "code",
   "execution_count": 15,
   "metadata": {
    "collapsed": false
   },
   "outputs": [],
   "source": [
    "bot_coord = [50,50]\n",
    "\n",
    "map_maze = np.zeros((100,100))-1 # unexplored cells have value -1\n",
    "map_maze[bot_coord[0],bot_coord[1]] = 1 # we know the start is not a wall\n",
    "\n",
    "map_maze_dead_ends = np.zeros_like(map_maze) -1\n",
    "map_maze_dead_ends[bot_coord[0],bot_coord[1]] = 1\n",
    "\n",
    "map_crumbs = np.zeros_like(map_maze) + 999999 # all distances start very high\n",
    "map_crumbs[bot_coord[0],bot_coord[1]] = 0 # we know we start at 0 steps\n",
    "\n",
    "bot_coord = [50,50]\n",
    "\n",
    "# start with the first move:\n",
    "\n",
    "# send bot north - we know it's a wall\n",
    "output, incom, pointer, relative_base = intcode_call(signal_input=[1], incom=incom0, pointer_position=0, relative_base=0)\n",
    "\n",
    "# update bot coordinates\n",
    "# well, the instruction north gave an output of 0, so bot didn't move\n",
    "\n",
    "# update maze map\n",
    "map_maze[bot_coord[0],bot_coord[1]+1] = 0\n",
    "\n",
    "\n",
    "moves = 0\n",
    "\n",
    "while moves < 1000:\n",
    "    \n",
    "    instruction = np.random.randint(1,5)\n",
    "    \n",
    "    output, incom, pointer, relative_base = intcode_call(signal_input=[instruction], incom=incom, pointer_position=pointer, relative_base=relative_base)\n",
    "\n",
    "    if output[0] == 1:\n",
    "        bot_move(instruction)\n",
    "    elif output[0] == 0:\n",
    "        bot_wall(instruction)\n",
    "    elif output[0] == 2:\n",
    "        print('Oxygen sensor located')\n",
    "        break\n",
    "    else:\n",
    "        print('Bot response not understood: ' + str(output[0]))\n",
    "    \n",
    "    moves += 1\n",
    "    \n",
    "    "
   ]
  },
  {
   "cell_type": "code",
   "execution_count": 16,
   "metadata": {
    "collapsed": false
   },
   "outputs": [
    {
     "data": {
      "text/plain": [
       "<matplotlib.image.AxesImage at 0x10404eb70>"
      ]
     },
     "execution_count": 16,
     "metadata": {},
     "output_type": "execute_result"
    },
    {
     "data": {
      "image/png": "[encoded data removed]",
      "text/plain": [
       "<Figure size 576x576 with 1 Axes>"
      ]
     },
     "metadata": {
      "needs_background": "light"
     },
     "output_type": "display_data"
    }
   ],
   "source": [
    "plt.figure(figsize=(8,8))\n",
    "plt.imshow(map_maze[40:70, 40:70].T, origin='lower')"
   ]
  },
  {
   "cell_type": "markdown",
   "metadata": {},
   "source": [
    "Okay, we're getting somewhere. Let's boost this random approach by providing the first number of steps to get around:"
   ]
  },
  {
   "cell_type": "code",
   "execution_count": 17,
   "metadata": {
    "collapsed": true
   },
   "outputs": [],
   "source": [
    "#maze_sol = [4,4,1,1,4,4,2,2,2,2,4,4,4,4,1,1,3,3,1,1,4,4,1,1,4,4,4,4,1,1,1,1,1,1,1,1,3,3,2,2,3,3,2,2,4,4,2,2,3,3,3,3,3,3,3,3,3,3,3,3,3,3,2,2,4,4,2,2,3,3,2,2,3,3,2,2,3,3,1,1,1,1,4,4,1,1,3,3,1,1,4,4,1,1,3,3]\n",
    "\n",
    "#maze_sol = [4, 4, 1, 1, 4, 4, 2, 2, 2, 2, 4, 4, 4, 4, 1, 1, 3, 3, 1, 1, 4, 4, 1, 1, 4, 4, 4, 4, 1, 1, 1, 1, 1, 1, 1, 1, 3, 3, 2, 2, 3, 3, 2, 2, 4, 4, 2, 2, 3, 3, 3, 3, 3, 3, 3, 3, 3, 3, 3, 3, 2, 2, 4, 4, 2, 2, 3, 3, 2, 2, 3, 3, 2, 2, 3, 3, 1, 1, 1, 1, 4, 4, 1, 1, 3, 3, 1, 1, 4, 4, 1, 1, 3, 3, 1, 1, 4, 4, 4, 4, 2, 2, 4, 4, 1]\n",
    "\n",
    "maze_sol = [4, 4, 1, 1, 4, 4, 2, 2, 2, 2, 4, 4, 4, 4, 1, 1, 3, 3, 1, 1, 4, 4, 1, 1, 4, 4, 4, 4, 1, 1, 1, 1, 1, 1, 1, 1, 3, 3, 2, 2, 3, 3, 2, 2, 4, 4, 2, 2, 3, 3, 3, 3, 3, 3, 3, 3, 3, 3, 3, 3, 2, 2, 4, 4, 2, 2, 3, 3, 2, 2, 3, 3, 2, 2, 3, 3, 1, 1, 1, 1, 4, 4, 1, 1, 3, 3, 1, 1, 4, 4, 1, 1, 3, 3, 1, 1, 4, 4, 4, 4, 2, 2, 4, 4, 1, 1, 1, 1, 1, 1, 4, 4, 1, 1, 4, 4, 4, 4, 4, 4, 1, 1, 4, 4, 4, 4, 1, 1, 3, 3, 3, 3, 3, 3, 3, 3, 3, 3, 2, 2, 3, 3, 1, 1, 3, 3, 2, 2, 3, 3, 2, 2, 2, 2, 2, 2, 3, 3, 3, 3, 2, 2, 2, 2, 2, 2, 3, 3, 2, 2, 2, 2, 4, 4, 2, 2, 3, 3, 3, 3, 3]"
   ]
  },
  {
   "cell_type": "code",
   "execution_count": 18,
   "metadata": {
    "collapsed": true
   },
   "outputs": [],
   "source": [
    "bot_coord = [50,50]\n",
    "\n",
    "map_maze = np.zeros((100,100))-1 # unexplored cells have value -1\n",
    "map_maze[bot_coord[0],bot_coord[1]] = 1 # we know the start is not a wall\n",
    "\n",
    "map_crumbs = np.zeros_like(map_maze) + 99999 # all distances start very high\n",
    "map_crumbs[bot_coord[0],bot_coord[1]] = 0 # we know we start at 0 steps\n",
    "\n",
    "bot_coord = [50,50]\n",
    "\n",
    "# start with the first move:\n",
    "\n",
    "# send bot north - we know it's a wall\n",
    "output, incom, pointer, relative_base = intcode_call(signal_input=[1], incom=incom0, pointer_position=0, relative_base=0)\n",
    "\n",
    "# update bot coordinates\n",
    "# well, the instruction north gave an output of 0, so bot didn't move\n",
    "\n",
    "# update maze map\n",
    "map_maze[bot_coord[0],bot_coord[1]+1] = 0\n",
    "\n",
    "\n",
    "# now use the first part of the solution to get things started:\n",
    "for step in maze_sol:\n",
    "    output, incom, pointer, relative_base = intcode_call(signal_input=[step], incom=incom, pointer_position=pointer, relative_base=relative_base)\n",
    "\n",
    "    if output[0] == 1:\n",
    "        bot_move(step)\n",
    "    elif output[0] == 0:\n",
    "        bot_wall(step)\n",
    "    elif output[0] == 2:\n",
    "        print('Oxygen sensor located')\n",
    "        bot_move(step)\n",
    "        break\n",
    "    else:\n",
    "        print('Bot response not understood: ' + str(output[0]))\n",
    "        \n",
    "        \n",
    "# Now randomize...\n",
    "moves = 0\n",
    "\n",
    "while moves < 100:\n",
    "    \n",
    "    instruction = np.random.randint(1,5)\n",
    "    \n",
    "    output, incom, pointer, relative_base = intcode_call(signal_input=[instruction], incom=incom, pointer_position=pointer, relative_base=relative_base)\n",
    "\n",
    "    if output[0] == 1:\n",
    "        bot_move(instruction)\n",
    "    elif output[0] == 0:\n",
    "        bot_wall(instruction)\n",
    "    elif output[0] == 2:\n",
    "        print('Oxygen sensor located')\n",
    "        bot_move(step)\n",
    "        break\n",
    "    else:\n",
    "        print('Bot response not understood: ' + str(output[0]))\n",
    "    \n",
    "    moves += 1\n",
    "            "
   ]
  },
  {
   "cell_type": "code",
   "execution_count": 20,
   "metadata": {
    "collapsed": false
   },
   "outputs": [
    {
     "data": {
      "text/plain": [
       "<matplotlib.image.AxesImage at 0x10c49e0b8>"
      ]
     },
     "execution_count": 20,
     "metadata": {},
     "output_type": "execute_result"
    },
    {
     "data": {
      "image/png": "[encoded data removed]",
      "text/plain": [
       "<Figure size 576x576 with 1 Axes>"
      ]
     },
     "metadata": {
      "needs_background": "light"
     },
     "output_type": "display_data"
    }
   ],
   "source": [
    "            \n",
    "plt.figure(figsize=(8,8))\n",
    "plt.imshow(map_maze[25:75,25:75].T, origin='lower')"
   ]
  },
  {
   "cell_type": "markdown",
   "metadata": {},
   "source": [
    "This will take forever! I need to do things more intelligently.\n",
    "\n",
    "Let's use this crumb map. Map values show steps from start. Let's define a function that assigns a cell a value based on the neighbour cells."
   ]
  },
  {
   "cell_type": "code",
   "execution_count": 21,
   "metadata": {
    "collapsed": true
   },
   "outputs": [],
   "source": [
    "def leave_crumbs():\n",
    "    global map_crumbs, map_maze, map_crumbs_dead_ends\n",
    "    # handle path cells\n",
    "    for cell in np.array(np.where(map_maze == 1)).T:\n",
    "        if map_crumbs[cell[0],cell[1]] != 0:\n",
    "            min_neigh = min(map_crumbs[cell[0]+1,cell[1]],map_crumbs[cell[0]-1,cell[1]],map_crumbs[cell[0],cell[1]+1],map_crumbs[cell[0],cell[1]-1])\n",
    "            if min_neigh < 99999: # normal path cell\n",
    "                map_crumbs[cell[0],cell[1]] = 1 + min_neigh\n",
    "                \n",
    "        if map_crumbs_dead_ends[cell[0],cell[1]] != 0:\n",
    "            min_neigh = min(map_crumbs_dead_ends[cell[0]+1,cell[1]],map_crumbs_dead_ends[cell[0]-1,cell[1]],map_crumbs_dead_ends[cell[0],cell[1]+1],map_crumbs_dead_ends[cell[0],cell[1]-1])\n",
    "            if min_neigh < 99999: # normal path cell\n",
    "                map_crumbs_dead_ends[cell[0],cell[1]] = 1 + min_neigh\n",
    "                \n",
    "    # handle sensor cells\n",
    "    for cell in np.array(np.where(map_maze == 1)).T:\n",
    "        if map_crumbs[cell[0],cell[1]] != 0:\n",
    "            min_neigh = min(map_crumbs[cell[0]+1,cell[1]],map_crumbs[cell[0]-1,cell[1]],map_crumbs[cell[0],cell[1]+1],map_crumbs[cell[0],cell[1]-1])\n",
    "            if min_neigh < 99999: # normal path cell\n",
    "                map_crumbs[cell[0],cell[1]] = 1 + min_neigh\n",
    "                \n",
    "        if map_crumbs_dead_ends[cell[0],cell[1]] != 0:\n",
    "            min_neigh = min(map_crumbs_dead_ends[cell[0]+1,cell[1]],map_crumbs_dead_ends[cell[0]-1,cell[1]],map_crumbs_dead_ends[cell[0],cell[1]+1],map_crumbs_dead_ends[cell[0],cell[1]-1])\n",
    "            if min_neigh < 99999: # normal path cell\n",
    "                map_crumbs_dead_ends[cell[0],cell[1]] = 1 + min_neigh\n",
    "                \n",
    "    # handle wall cells\n",
    "    for cell in np.array(np.where(map_maze == 0)).T:\n",
    "        if map_crumbs[cell[0],cell[1]] != 999999:\n",
    "            map_crumbs[cell[0],cell[1]] = 999999\n",
    "        if map_crumbs_dead_ends[cell[0],cell[1]] != 999999:\n",
    "            map_crumbs_dead_ends[cell[0],cell[1]] = 999999\n",
    "        \n",
    "                \n",
    "def clean_crumbs():\n",
    "    global map_crumbs, map_maze\n",
    "    # Deal with dead ends...\n",
    "    for cell in np.array(np.where(map_maze == 1)).T:\n",
    "        if map_crumbs[cell[0],cell[1]] != 0:\n",
    "            neighs = [map_crumbs[cell[0]+1,cell[1]],map_crumbs[cell[0]-1,cell[1]],map_crumbs[cell[0],cell[1]+1],map_crumbs[cell[0],cell[1]-1]]\n",
    "            #print(map_crumbs[cell[0],cell[1]])\n",
    "            #print(neighs)\n",
    "            neighs.remove(min(neighs))\n",
    "            #print(neighs)\n",
    "            if sum(neighs) == 3*999999: # if a cell has three neighbouring wall cells - dead end\n",
    "                map_crumbs[cell[0],cell[1]] = 999999\n",
    "                map_maze[cell[0],cell[1]] = 0\n",
    "                #print('Removed dead end: ' + str([cell[0],cell[1]]))\n",
    "                \n",
    "                \n",
    "def crumb_instructions():\n",
    "    global crumb_map\n",
    "    instructions = []\n",
    "    for crumb in range(int(max([map_crumbs[cell[0],cell[1]] for cell in np.array(np.where(map_maze == 1)).T]))):\n",
    "        cell = np.array(np.where(map_crumbs == crumb)).T\n",
    "        if map_crumbs[cell[0][0],cell[0][1]+1] == crumb+1: # northward\n",
    "            instructions.append(1)\n",
    "        if map_crumbs[cell[0][0],cell[0][1]-1] == crumb+1: # southward\n",
    "            instructions.append(2)\n",
    "        if map_crumbs[cell[0][0]-1,cell[0][1]] == crumb+1: # westward\n",
    "            instructions.append(3)\n",
    "        if map_crumbs[cell[0][0]+1,cell[0][1]] == crumb+1: # eastward\n",
    "            instructions.append(4)\n",
    "        \n",
    "    return instructions"
   ]
  },
  {
   "cell_type": "code",
   "execution_count": 25,
   "metadata": {
    "collapsed": false
   },
   "outputs": [
    {
     "data": {
      "text/plain": [
       "<matplotlib.image.AxesImage at 0x10c87f978>"
      ]
     },
     "execution_count": 25,
     "metadata": {},
     "output_type": "execute_result"
    },
    {
     "data": {
      "image/png": "[encoded data removed]",
      "text/plain": [
       "<Figure size 432x288 with 1 Axes>"
      ]
     },
     "metadata": {
      "needs_background": "light"
     },
     "output_type": "display_data"
    }
   ],
   "source": [
    "map_crumbs = np.zeros_like(map_maze) + 99999 # all distances start very high\n",
    "map_crumbs[50,50] = 0 # we know we start at 0 steps\n",
    "\n",
    "map_crumbs_dead_ends = np.zeros_like(map_maze) + 99999 # all distances start very high\n",
    "map_crumbs_dead_ends[50,50] = 0 # we know we start at 0 steps\n",
    "\n",
    "plt.imshow(map_crumbs[25:75, 25:75].T, origin='lower')"
   ]
  },
  {
   "cell_type": "code",
   "execution_count": 28,
   "metadata": {
    "collapsed": false,
    "scrolled": false
   },
   "outputs": [
    {
     "data": {
      "text/plain": [
       "<matplotlib.colorbar.Colorbar at 0x1101b65c0>"
      ]
     },
     "execution_count": 28,
     "metadata": {},
     "output_type": "execute_result"
    },
    {
     "data": {
      "image/png": "[encoded data removed]",
      "text/plain": [
       "<Figure size 432x288 with 2 Axes>"
      ]
     },
     "metadata": {
      "needs_background": "light"
     },
     "output_type": "display_data"
    }
   ],
   "source": [
    "map_crumbs_last = np.zeros_like(map_crumbs)\n",
    "\n",
    "while not np.all(map_crumbs == map_crumbs_last):\n",
    "    \n",
    "    map_crumbs_last = np.copy(map_crumbs)\n",
    "    \n",
    "    leave_crumbs()\n",
    "\n",
    "\n",
    "map_crumbs_last = np.zeros_like(map_crumbs)\n",
    "\n",
    "while not np.all(map_crumbs == map_crumbs_last):\n",
    "    \n",
    "    map_crumbs_last = np.copy(map_crumbs)\n",
    "    \n",
    "    clean_crumbs()\n",
    "\n",
    "plt.imshow(map_crumbs[25:75,25:75].T, origin='lower', vmax = 250)\n",
    "plt.colorbar()"
   ]
  },
  {
   "cell_type": "markdown",
   "metadata": {},
   "source": [
    "Generate a set of instructions from the crumb map:"
   ]
  },
  {
   "cell_type": "code",
   "execution_count": 29,
   "metadata": {
    "collapsed": true
   },
   "outputs": [],
   "source": [
    "maze_sol = crumb_instructions()"
   ]
  },
  {
   "cell_type": "markdown",
   "metadata": {},
   "source": [
    "Okay, so we provide a maze solution map, randomly wander for a while, update the crumb map, update the solution map, etc, etc."
   ]
  },
  {
   "cell_type": "code",
   "execution_count": 43,
   "metadata": {
    "collapsed": false
   },
   "outputs": [
    {
     "name": "stdout",
     "output_type": "stream",
     "text": [
      "Oxygen sensor located\n"
     ]
    }
   ],
   "source": [
    "bot_coord = [50,50]\n",
    "\n",
    "map_maze = np.zeros((100,100))-1 # unexplored cells have value -1\n",
    "map_maze[bot_coord[0],bot_coord[1]] = 1 # we know the start is not a wall\n",
    "\n",
    "map_crumbs = np.zeros_like(map_maze) + 99999 # all distances start very high\n",
    "map_crumbs[bot_coord[0],bot_coord[1]] = 0 # we know we start at 0 steps\n",
    "\n",
    "for i in range(2):\n",
    "    \n",
    "    bot_coord = [50,50]\n",
    "    \n",
    "    # start with the first move:\n",
    "    # send bot north - we know it's a wall\n",
    "    output, incom, pointer, relative_base = intcode_call(signal_input=[1], incom=incom0, pointer_position=0, relative_base=0)\n",
    "\n",
    "    # update bot coordinates\n",
    "    # well, the instruction north gave an output of 0, so bot didn't move\n",
    "\n",
    "    # update maze map\n",
    "    map_maze[bot_coord[0],bot_coord[1]+1] = 0\n",
    "    \n",
    "    # now use the first part of the solution to get things started:\n",
    "    for step in maze_sol:\n",
    "        output, incom, pointer, relative_base = intcode_call(signal_input=[step], incom=incom, pointer_position=pointer, relative_base=relative_base)\n",
    "\n",
    "        if output[0] == 1:\n",
    "            bot_move(step)\n",
    "        elif output[0] == 0:\n",
    "            bot_wall(step)\n",
    "        elif output[0] == 2:\n",
    "            print('Oxygen sensor located')\n",
    "            bot_move(step)\n",
    "            found_sensor()\n",
    "            break\n",
    "        else:\n",
    "            print('Bot response not understood: ' + str(output[0]))\n",
    "\n",
    "\n",
    "    # Now randomize...\n",
    "    moves = 0\n",
    "\n",
    "    while moves < 10000:\n",
    "\n",
    "        instruction = np.random.randint(1,5)\n",
    "\n",
    "        output, incom, pointer, relative_base = intcode_call(signal_input=[instruction], incom=incom, pointer_position=pointer, relative_base=relative_base)\n",
    "\n",
    "        if output[0] == 1:\n",
    "            bot_move(instruction)\n",
    "        elif output[0] == 0:\n",
    "            bot_wall(instruction)\n",
    "        elif output[0] == 2:\n",
    "            print('Oxygen sensor located')\n",
    "            bot_move(instruction)\n",
    "            found_sensor()\n",
    "            break\n",
    "        else:\n",
    "            print('Bot response not understood: ' + str(output[0]))\n",
    "\n",
    "        moves += 1\n",
    "        \n",
    "    \n",
    "    # Wandering complete. Update the crumb map\n",
    "    \n",
    "    # Assign crumbs\n",
    "    map_crumbs_last = np.zeros_like(map_crumbs)\n",
    "\n",
    "    while not np.all(map_crumbs == map_crumbs_last):\n",
    "        map_crumbs_last = np.copy(map_crumbs)\n",
    "        leave_crumbs()\n",
    "\n",
    "    # Clip dead ends\n",
    "    map_crumbs_last = np.zeros_like(map_crumbs)\n",
    "\n",
    "    while not np.all(map_crumbs == map_crumbs_last):\n",
    "        map_crumbs_last = np.copy(map_crumbs)\n",
    "        clean_crumbs()\n",
    "        \n",
    "    # update the crumb instructions\n",
    "    maze_sol = crumb_instructions()"
   ]
  },
  {
   "cell_type": "code",
   "execution_count": 47,
   "metadata": {
    "collapsed": false
   },
   "outputs": [
    {
     "data": {
      "text/plain": [
       "<matplotlib.colorbar.Colorbar at 0x1110f94e0>"
      ]
     },
     "execution_count": 47,
     "metadata": {},
     "output_type": "execute_result"
    },
    {
     "data": {
      "image/png": "[encoded data removed]",
      "text/plain": [
       "<Figure size 360x360 with 2 Axes>"
      ]
     },
     "metadata": {
      "needs_background": "light"
     },
     "output_type": "display_data"
    },
    {
     "data": {
      "image/png": "[encoded data removed]",
      "text/plain": [
       "<Figure size 360x360 with 2 Axes>"
      ]
     },
     "metadata": {
      "needs_background": "light"
     },
     "output_type": "display_data"
    }
   ],
   "source": [
    "plt.figure(figsize=(5,5))\n",
    "plt.imshow(map_crumbs[25:75,25:75].T, origin='lower', vmax = 350)\n",
    "plt.colorbar()\n",
    "\n",
    "plt.figure(figsize=(5,5))\n",
    "plt.imshow(map_maze_dead_ends[25:75, 25:75].T, origin='lower')\n",
    "plt.colorbar()"
   ]
  },
  {
   "cell_type": "code",
   "execution_count": 42,
   "metadata": {
    "collapsed": false
   },
   "outputs": [
    {
     "data": {
      "text/plain": [
       "279"
      ]
     },
     "execution_count": 42,
     "metadata": {},
     "output_type": "execute_result"
    }
   ],
   "source": [
    "len(maze_sol)"
   ]
  },
  {
   "cell_type": "code",
   "execution_count": null,
   "metadata": {
    "collapsed": true
   },
   "outputs": [],
   "source": [
    "maze_sol = crumb_instructions()[:175]"
   ]
  },
  {
   "cell_type": "markdown",
   "metadata": {},
   "source": [
    "Cool! The sensor was found. Let's find the crumb number for that cell:"
   ]
  },
  {
   "cell_type": "code",
   "execution_count": 45,
   "metadata": {
    "collapsed": false,
    "scrolled": true
   },
   "outputs": [
    {
     "data": {
      "text/plain": [
       "279.0"
      ]
     },
     "execution_count": 45,
     "metadata": {},
     "output_type": "execute_result"
    }
   ],
   "source": [
    "cell = np.array(np.where(map_maze == 2)).T\n",
    "\n",
    "map_crumbs[cell[0][0],cell[0][1]-1] # had to go one cell south since the sensor wasn't assigned a crumb value!"
   ]
  },
  {
   "cell_type": "markdown",
   "metadata": {},
   "source": [
    "Part Two!"
   ]
  },
  {
   "cell_type": "code",
   "execution_count": 122,
   "metadata": {
    "collapsed": false
   },
   "outputs": [
    {
     "data": {
      "text/plain": [
       "array([38, 66])"
      ]
     },
     "execution_count": 122,
     "metadata": {},
     "output_type": "execute_result"
    }
   ],
   "source": [
    "o2_coord = np.array(np.where(map_maze_dead_ends == 2)).T[0]\n",
    "o2_coord"
   ]
  },
  {
   "cell_type": "markdown",
   "metadata": {},
   "source": [
    "Crap, well now we need to maintain all the dead ends too. Let's explore the maze.\n",
    "\n",
    "Note: I iterated through this a number of times!\n",
    "\n",
    "A main challenge here was that there were two important and significant branches. One branch led to the O2 sensor, and another to a very deep corner. When trying to explore the deep corner, I had to remove the O2 sensor branch from the algo's memory."
   ]
  },
  {
   "cell_type": "code",
   "execution_count": 494,
   "metadata": {
    "collapsed": true
   },
   "outputs": [],
   "source": [
    "#bot_coord = [50,50]\n",
    "#map_crumbs_dead_ends = np.zeros_like(map_maze) + 99999 # all distances start very high\n",
    "#map_crumbs_dead_ends[bot_coord[0],bot_coord[1]] = 0 # we know we start at 0 steps\n",
    "\n",
    "#map_maze_dead_ends = np.zeros((100,100))-1 # unexplored cells have value -1\n",
    "#map_maze_dead_ends[bot_coord[0],bot_coord[1]] = 1 # we know the start is not a wall"
   ]
  },
  {
   "cell_type": "code",
   "execution_count": 114,
   "metadata": {
    "collapsed": false
   },
   "outputs": [],
   "source": [
    "bot_coord = [50,50]\n",
    "\n",
    "#maze_full = [4,4,1,1,4,4,2,2,2,2,4,4,4,4,1,1,3,3,1,1,4,4,1,1,4,4,4,4]#,1,1,1,1,1,1,1,1,3,3,2,2,3,3,2,2,4,4,2,2,3,3,3,3,3,3,3,3,3,3,3,3,3,3,2,2,4,4,2,2,3,3,2,2,3,3,2,2,3,3,1,1,1,1,4,4,1,1,3,3,1,1,4,4,1,1,3,3]\n",
    "#maze_full = [4, 4, 1, 1, 4, 4, 2, 2, 2, 2, 4, 4, 4, 4, 1, 1, 3, 3, 1, 1, 4, 4, 1, 1, 4, 4, 4, 4, 1, 1, 1, 1, 1, 1, 1, 1, 3, 3, 2, 2, 3, 3, 2, 2, 4, 4, 2, 2, 3, 3, 3, 3, 3, 3, 3, 3, 3, 3, 3, 3, 2, 2, 4, 4, 2, 2, 3, 3, 2, 2, 3, 3, 2, 2, 3, 3, 1, 1, 1, 1, 4, 4, 1, 1, 3, 3, 1, 1, 4, 4, 1, 1, 3, 3, 1, 1, 4, 4, 4, 4, 2, 2, 4, 4, 1, 1, 1, 1, 1, 1, 4, 4, 1, 1, 4, 4, 4, 4, 4, 4, 1, 1, 4, 4, 4, 4, 1, 1, 3, 3, 3, 3, 3, 3, 3, 3, 3, 3, 2, 2, 3, 3, 1, 1, 3, 3, 2, 2, 3, 3, 2, 2, 2, 2, 2, 2, 3, 3, 3, 3, 2, 2, 2, 2, 2, 2, 3, 3, 2, 2, 2, 2, 4, 4, 2, 2, 3, 3, 3, 3, 3, 3, 3, 3, 3, 3, 3, 3, 1, 2, 2, 4, 4, 4, 4, 2, 2, 3, 3, 3, 3, 2, 2, 2, 2, 2, 2, 4, 4, 4, 4, 4, 4]\n",
    "\n",
    "map_maze = np.zeros((100,100))-1 # unexplored cells have value -1\n",
    "map_maze[bot_coord[0],bot_coord[1]] = 1 # we know the start is not a wall\n",
    "\n",
    "map_crumbs = np.zeros_like(map_maze) + 99999 # all distances start very high\n",
    "map_crumbs[bot_coord[0],bot_coord[1]] = 0 # we know we start at 0 steps\n",
    "\n",
    "\n",
    "\n",
    "for i in range(20):\n",
    "    \n",
    "    bot_coord = [50,50]\n",
    "    \n",
    "    # start with the first move:\n",
    "    # send bot north - we know it's a wall\n",
    "    output, incom, pointer, relative_base = intcode_call(signal_input=[1], incom=incom0, pointer_position=0, relative_base=0)\n",
    "\n",
    "    # update bot coordinates\n",
    "    # well, the instruction north gave an output of 0, so bot didn't move\n",
    "\n",
    "    # update maze map\n",
    "    map_maze[bot_coord[0],bot_coord[1]+1] = 0\n",
    "    \n",
    "    # now use the first part of the solution to get things started:\n",
    "    for step in maze_full:\n",
    "        output, incom, pointer, relative_base = intcode_call(signal_input=[step], incom=incom, pointer_position=pointer, relative_base=relative_base)\n",
    "\n",
    "        if output[0] == 1:\n",
    "            bot_move(step)\n",
    "        elif output[0] == 0:\n",
    "            bot_wall(step)\n",
    "        elif output[0] == 2:\n",
    "            print('Oxygen sensor located')\n",
    "            bot_move(step)\n",
    "            #found_sensor()\n",
    "            #break\n",
    "        else:\n",
    "            print('Bot response not understood: ' + str(output[0]))\n",
    "\n",
    "\n",
    "    # Now randomize...\n",
    "    moves = 0\n",
    "\n",
    "    while moves < 1000:\n",
    "\n",
    "        instruction = np.random.randint(1,5)\n",
    "\n",
    "        output, incom, pointer, relative_base = intcode_call(signal_input=[instruction], incom=incom, pointer_position=pointer, relative_base=relative_base)\n",
    "\n",
    "        if output[0] == 1:\n",
    "            bot_move(instruction)\n",
    "        elif output[0] == 0:\n",
    "            bot_wall(instruction)\n",
    "        elif output[0] == 2:\n",
    "            print('Oxygen sensor located')\n",
    "            #bot_move(instruction)\n",
    "            #found_sensor()\n",
    "            #break\n",
    "        else:\n",
    "            print('Bot response not understood: ' + str(output[0]))\n",
    "\n",
    "        moves += 1\n",
    "        \n",
    "    \n",
    "    # Wandering complete. Update the crumb map\n",
    "    \n",
    "    # Assign crumbs\n",
    "    map_crumbs_last = np.zeros_like(map_crumbs)\n",
    "    map_crumbs_dead_ends_last = np.zeros_like(map_crumbs)\n",
    "\n",
    "    while not (np.all(map_crumbs == map_crumbs_last) and (np.all(map_crumbs_dead_ends == map_crumbs_dead_ends_last))):\n",
    "        map_crumbs_last = np.copy(map_crumbs)\n",
    "        map_crumbs_dead_ends_last = np.copy(map_crumbs_dead_ends)\n",
    "        leave_crumbs()\n",
    "\n",
    "    # Clip dead ends\n",
    "    map_crumbs_last = np.zeros_like(map_crumbs)\n",
    "\n",
    "    while not np.all(map_crumbs == map_crumbs_last):\n",
    "        map_crumbs_last = np.copy(map_crumbs)\n",
    "        clean_crumbs()\n",
    "        \n",
    "    # update the crumb instructions\n",
    "    \n",
    "    map_maze[0:40,51:]=-1\n",
    "    map_maze[0:42,57:]=-1\n",
    "\n",
    "    map_crumbs[0:40,51:]= 99999\n",
    "    map_crumbs[0:42,57:]= 99999\n",
    "    \n",
    "    maze_full = crumb_instructions()#[:250]"
   ]
  },
  {
   "cell_type": "markdown",
   "metadata": {},
   "source": [
    "\n",
    "\n",
    "map_crumbs_dead_ends[o2_coord[0],o2_coord[1]] = 280 \n",
    "map_maze_dead_ends[o2_coord[0],o2_coord[1]] = 2\n",
    "map_crumbs[o2_coord[0],o2_coord[1]] = 280"
   ]
  },
  {
   "cell_type": "code",
   "execution_count": 117,
   "metadata": {
    "collapsed": false
   },
   "outputs": [
    {
     "data": {
      "text/plain": [
       "<matplotlib.colorbar.Colorbar at 0x114a0bef0>"
      ]
     },
     "execution_count": 117,
     "metadata": {},
     "output_type": "execute_result"
    },
    {
     "data": {
      "image/png": "[encoded data removed]",
      "text/plain": [
       "<Figure size 360x360 with 2 Axes>"
      ]
     },
     "metadata": {
      "needs_background": "light"
     },
     "output_type": "display_data"
    },
    {
     "data": {
      "image/png": "[encoded data removed]",
      "text/plain": [
       "<Figure size 360x360 with 2 Axes>"
      ]
     },
     "metadata": {
      "needs_background": "light"
     },
     "output_type": "display_data"
    },
    {
     "data": {
      "image/png": "[encoded data removed]",
      "text/plain": [
       "<Figure size 720x720 with 2 Axes>"
      ]
     },
     "metadata": {
      "needs_background": "light"
     },
     "output_type": "display_data"
    },
    {
     "data": {
      "image/png": "[encoded data removed]",
      "text/plain": [
       "<Figure size 720x720 with 2 Axes>"
      ]
     },
     "metadata": {
      "needs_background": "light"
     },
     "output_type": "display_data"
    }
   ],
   "source": [
    "plt.figure(figsize=(5,5))\n",
    "plt.imshow(map_crumbs[25:75,25:75].T, origin='lower', vmax = 550)\n",
    "plt.colorbar()\n",
    "\n",
    "plt.figure(figsize=(5,5))\n",
    "plt.imshow(map_crumbs_dead_ends[25:75, 25:75].T, origin='lower', vmax = 550)\n",
    "plt.colorbar()\n",
    "\n",
    "plt.figure(figsize=(10,10))\n",
    "plt.imshow(map_maze_dead_ends[25:75, 25:75].T, origin='lower')\n",
    "plt.colorbar()\n",
    "\n",
    "\n",
    "plt.figure(figsize=(10,10))\n",
    "plt.imshow(map_maze[25:75, 25:75].T, origin='lower')\n",
    "plt.colorbar()"
   ]
  },
  {
   "cell_type": "code",
   "execution_count": 99,
   "metadata": {
    "collapsed": true
   },
   "outputs": [],
   "source": [
    "map_maze[0:40,51:]=-1\n",
    "map_maze[0:42,57:]=-1\n",
    "\n",
    "map_crumbs[0:40,51:]= 99999\n",
    "map_crumbs[0:42,57:]= 99999"
   ]
  },
  {
   "cell_type": "code",
   "execution_count": 103,
   "metadata": {
    "collapsed": false
   },
   "outputs": [],
   "source": [
    "maze_full = crumb_instructions()#[:250]"
   ]
  },
  {
   "cell_type": "markdown",
   "metadata": {},
   "source": [
    "Okay, full maze discovered. Now just modify the crumbs function to work from the sensor to the rest of the maze."
   ]
  },
  {
   "cell_type": "code",
   "execution_count": 123,
   "metadata": {
    "collapsed": false
   },
   "outputs": [],
   "source": [
    "map_diffusion = np.zeros((100,100)) + 99999 # unspecified cells are given values of 99999\n",
    "map_diffusion[o2_coord[0],o2_coord[1]] = 0 # the time at o2 sensor is zero"
   ]
  },
  {
   "cell_type": "code",
   "execution_count": 124,
   "metadata": {
    "collapsed": true
   },
   "outputs": [],
   "source": [
    "def gas_diff():\n",
    "    global map_maze_dead_ends, map_diffusion\n",
    "    # handle path cells\n",
    "    for cell in np.array(np.where(map_maze_dead_ends == 1)).T:\n",
    "        if map_diffusion[cell[0],cell[1]] != 0:\n",
    "            min_neigh = min(map_diffusion[cell[0]+1,cell[1]],map_diffusion[cell[0]-1,cell[1]],map_diffusion[cell[0],cell[1]+1],map_diffusion[cell[0],cell[1]-1])\n",
    "            if min_neigh < 99999: # normal path cell\n",
    "                map_diffusion[cell[0],cell[1]] = 1 + min_neigh"
   ]
  },
  {
   "cell_type": "code",
   "execution_count": 127,
   "metadata": {
    "collapsed": false
   },
   "outputs": [
    {
     "name": "stdout",
     "output_type": "stream",
     "text": [
      "Max diffusion time: 400.0\n"
     ]
    },
    {
     "data": {
      "text/plain": [
       "<matplotlib.colorbar.Colorbar at 0x114f81e80>"
      ]
     },
     "execution_count": 127,
     "metadata": {},
     "output_type": "execute_result"
    },
    {
     "data": {
      "image/png": "[encoded data removed]",
      "text/plain": [
       "<Figure size 720x720 with 2 Axes>"
      ]
     },
     "metadata": {
      "needs_background": "light"
     },
     "output_type": "display_data"
    }
   ],
   "source": [
    "# initiate gas diffusion\n",
    "\n",
    "map_diff_last = np.zeros_like(map_diffusion)\n",
    "\n",
    "while not np.all(map_diffusion == map_diff_last):\n",
    "    map_diff_last = np.copy(map_diffusion)\n",
    "    gas_diff()\n",
    "\n",
    "print('Max diffusion time: ' + str(np.max(map_diff_last[np.where(map_diffusion != 99999)])))\n",
    "    \n",
    "plt.figure(figsize=(10,10))\n",
    "plt.imshow(map_diffusion[25:75, 25:75].T, vmax = 500, origin='lower')\n",
    "plt.colorbar()"
   ]
  }
 ],
 "metadata": {
  "anaconda-cloud": {},
  "kernelspec": {
   "display_name": "Python [default]",
   "language": "python",
   "name": "python3"
  },
  "language_info": {
   "codemirror_mode": {
    "name": "ipython",
    "version": 3
   },
   "file_extension": ".py",
   "mimetype": "text/x-python",
   "name": "python",
   "nbconvert_exporter": "python",
   "pygments_lexer": "ipython3",
   "version": "3.5.5"
  }
 },
 "nbformat": 4,
 "nbformat_minor": 1
}
