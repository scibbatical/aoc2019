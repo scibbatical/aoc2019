{
 "cells": [
  {
   "cell_type": "code",
   "execution_count": 34,
   "metadata": {
    "collapsed": true
   },
   "outputs": [],
   "source": [
    "import numpy as np\n",
    "import matplotlib.pyplot as plt\n",
    "import math"
   ]
  },
  {
   "cell_type": "code",
   "execution_count": 2,
   "metadata": {
    "collapsed": true
   },
   "outputs": [],
   "source": [
    "incom = np.loadtxt('10_input.txt',delimiter=\" \", comments=None,dtype=str)"
   ]
  },
  {
   "cell_type": "code",
   "execution_count": 5,
   "metadata": {
    "collapsed": false
   },
   "outputs": [
    {
     "data": {
      "text/plain": [
       "array(['.#......##.#..#.......#####...#..',\n",
       "       '...#.....##......###....#.##.....',\n",
       "       '..#...#....#....#............###.',\n",
       "       '.....#......#.##......#.#..###.#.',\n",
       "       '#.#..........##.#.#...#.##.#.#.#.',\n",
       "       '..#.##.#...#.......#..##.......##',\n",
       "       '..#....#.....#..##.#..####.#.....',\n",
       "       '#.............#..#.........#.#...',\n",
       "       '........#.##..#..#..#.#.....#.#..',\n",
       "       '.........#...#..##......###.....#',\n",
       "       '##.#.###..#..#.#.....#.........#.',\n",
       "       '.#.###.##..##......#####..#..##..',\n",
       "       '.........#.......#.#......#......',\n",
       "       '..#...#...#...#.#....###.#.......',\n",
       "       '#..#.#....#...#.......#..#.#.##..',\n",
       "       '#.....##...#.###..#..#......#..##',\n",
       "       '...........#...#......#..#....#..',\n",
       "       '#.#.#......#....#..#.....##....##',\n",
       "       '..###...#.#.##..#...#.....#...#.#',\n",
       "       '.......#..##.#..#.............##.',\n",
       "       '..###........##.#................',\n",
       "       '###.#..#...#......###.#........#.',\n",
       "       '.......#....#.#.#..#..#....#..#..',\n",
       "       '.#...#..#...#......#....#.#..#...',\n",
       "       '#.#.........#.....#....#.#.#.....',\n",
       "       '.#....#......##.##....#........#.',\n",
       "       '....#..#..#...#..##.#.#......#.#.',\n",
       "       '..###.##.#.....#....#.#......#...',\n",
       "       '#.##...#............#..#.....#..#',\n",
       "       '.#....##....##...#......#........',\n",
       "       '...#...##...#.......#....##.#....',\n",
       "       '.#....#.#...#.#...##....#..##.#.#',\n",
       "       '.#.#....##.......#.....##.##.#.##'], dtype='<U33')"
      ]
     },
     "execution_count": 5,
     "metadata": {},
     "output_type": "execute_result"
    }
   ],
   "source": [
    "incom"
   ]
  },
  {
   "cell_type": "markdown",
   "metadata": {},
   "source": [
    "Okay, each line is loaded as a separate cell in the array. How long is each line?"
   ]
  },
  {
   "cell_type": "code",
   "execution_count": 7,
   "metadata": {
    "collapsed": false
   },
   "outputs": [
    {
     "name": "stdout",
     "output_type": "stream",
     "text": [
      "Number of lines = 33\n",
      "Length of line = 33\n"
     ]
    }
   ],
   "source": [
    "print('Number of lines = ' + str(len(incom)))\n",
    "print('Length of line = ' + str(len(incom[0])))"
   ]
  },
  {
   "cell_type": "markdown",
   "metadata": {},
   "source": [
    "The plan here is to calculate the angle from an asteroid to every other asteroid. The number of unique angles is the number of visible asteroids."
   ]
  },
  {
   "cell_type": "code",
   "execution_count": 14,
   "metadata": {
    "collapsed": false
   },
   "outputs": [
    {
     "data": {
      "text/plain": [
       "<matplotlib.image.AxesImage at 0x10aa5b0b8>"
      ]
     },
     "execution_count": 14,
     "metadata": {},
     "output_type": "execute_result"
    },
    {
     "data": {
      "image/png": "[encoded data removed]",
      "text/plain": [
       "<Figure size 432x288 with 1 Axes>"
      ]
     },
     "metadata": {
      "needs_background": "light"
     },
     "output_type": "display_data"
    }
   ],
   "source": [
    "# Find the asteroids\n",
    "\n",
    "ast = np.zeros((33,33))\n",
    "\n",
    "for i, line in enumerate(incom):\n",
    "    for j in range(len(line)):\n",
    "        if incom[i][j] == '#':\n",
    "            ast[i,j] = 1\n",
    "            \n",
    "plt.imshow(ast)\n",
    "        "
   ]
  },
  {
   "cell_type": "markdown",
   "metadata": {},
   "source": [
    "Sweet. Asteroid coordinates now known, and visualized!"
   ]
  },
  {
   "cell_type": "markdown",
   "metadata": {},
   "source": [
    "Okay, now I'd like to create an asteroid class."
   ]
  },
  {
   "cell_type": "code",
   "execution_count": 26,
   "metadata": {
    "collapsed": true
   },
   "outputs": [],
   "source": [
    "class Asteroid:\n",
    "    def __init__(self,x,y):\n",
    "        self.x = x\n",
    "        self.y = y\n",
    "        self.angles = []\n",
    "        \n",
    "        asteroids.append(self)\n",
    "        \n",
    "    def "
   ]
  },
  {
   "cell_type": "code",
   "execution_count": 30,
   "metadata": {
    "collapsed": false
   },
   "outputs": [
    {
     "name": "stdout",
     "output_type": "stream",
     "text": [
      "303 asteroids detected!\n"
     ]
    }
   ],
   "source": [
    "# Create asteroid instances\n",
    "\n",
    "asteroids=[] # create an empty list of instances\n",
    "\n",
    "ast_count = 0 # asteroid counter\n",
    "\n",
    "for i in range(ast.shape[0]):\n",
    "    for j in range(ast.shape[1]):\n",
    "        if ast[i,j] == 1:\n",
    "            vars()['asteroid'+str(ast_count)] = Asteroid(i,j)\n",
    "            ast_count += 1\n",
    "\n",
    "print(str(len(asteroids)) + ' asteroids detected!')"
   ]
  },
  {
   "cell_type": "code",
   "execution_count": null,
   "metadata": {
    "collapsed": true
   },
   "outputs": [],
   "source": []
  },
  {
   "cell_type": "code",
   "execution_count": null,
   "metadata": {
    "collapsed": true
   },
   "outputs": [],
   "source": []
  },
  {
   "cell_type": "code",
   "execution_count": null,
   "metadata": {
    "collapsed": true
   },
   "outputs": [],
   "source": []
  },
  {
   "cell_type": "code",
   "execution_count": 45,
   "metadata": {
    "collapsed": true
   },
   "outputs": [],
   "source": [
    "ast_test = Asteroid(10,10)\n",
    "\n",
    "ast_test1 = Asteroid(10,7)\n",
    "ast_test2 = Asteroid(12,12)\n",
    "ast_test3 = Asteroid(7,12)\n",
    "ast_test4 = Asteroid(7,7)"
   ]
  },
  {
   "cell_type": "code",
   "execution_count": 46,
   "metadata": {
    "collapsed": false
   },
   "outputs": [
    {
     "ename": "ZeroDivisionError",
     "evalue": "division by zero",
     "output_type": "error",
     "traceback": [
      "\u001b[0;31m---------------------------------------------------------------------------\u001b[0m",
      "\u001b[0;31mZeroDivisionError\u001b[0m                         Traceback (most recent call last)",
      "\u001b[0;32m<ipython-input-46-c4dc35ddd2af>\u001b[0m in \u001b[0;36m<module>\u001b[0;34m()\u001b[0m\n\u001b[1;32m      2\u001b[0m     \u001b[0minterim\u001b[0m \u001b[0;34m=\u001b[0m \u001b[0mvars\u001b[0m\u001b[0;34m(\u001b[0m\u001b[0;34m)\u001b[0m\u001b[0;34m[\u001b[0m\u001b[0;34m'ast_test'\u001b[0m\u001b[0;34m+\u001b[0m\u001b[0mstr\u001b[0m\u001b[0;34m(\u001b[0m\u001b[0mi\u001b[0m\u001b[0;34m)\u001b[0m\u001b[0;34m]\u001b[0m\u001b[0;34m\u001b[0m\u001b[0m\n\u001b[1;32m      3\u001b[0m     \u001b[0;31m# Calculate the angle\u001b[0m\u001b[0;34m\u001b[0m\u001b[0;34m\u001b[0m\u001b[0m\n\u001b[0;32m----> 4\u001b[0;31m     \u001b[0mangle\u001b[0m \u001b[0;34m=\u001b[0m \u001b[0mmath\u001b[0m\u001b[0;34m.\u001b[0m\u001b[0matan\u001b[0m\u001b[0;34m(\u001b[0m\u001b[0;34m(\u001b[0m\u001b[0mast_test\u001b[0m\u001b[0;34m.\u001b[0m\u001b[0my\u001b[0m \u001b[0;34m-\u001b[0m \u001b[0minterim\u001b[0m\u001b[0;34m.\u001b[0m\u001b[0my\u001b[0m\u001b[0;34m)\u001b[0m\u001b[0;34m/\u001b[0m\u001b[0;34m(\u001b[0m\u001b[0mast_test\u001b[0m\u001b[0;34m.\u001b[0m\u001b[0mx\u001b[0m \u001b[0;34m-\u001b[0m \u001b[0minterim\u001b[0m\u001b[0;34m.\u001b[0m\u001b[0mx\u001b[0m\u001b[0;34m)\u001b[0m\u001b[0;34m)\u001b[0m\u001b[0;34m\u001b[0m\u001b[0m\n\u001b[0m\u001b[1;32m      5\u001b[0m     \u001b[0;31m# Correct for quadrant\u001b[0m\u001b[0;34m\u001b[0m\u001b[0;34m\u001b[0m\u001b[0m\n\u001b[1;32m      6\u001b[0m     \u001b[0;32mif\u001b[0m \u001b[0mast_test\u001b[0m\u001b[0;34m.\u001b[0m\u001b[0mx\u001b[0m \u001b[0;34m>\u001b[0m \u001b[0minterim\u001b[0m\u001b[0;34m.\u001b[0m\u001b[0mx\u001b[0m \u001b[0;32mand\u001b[0m \u001b[0mast_test\u001b[0m\u001b[0;34m.\u001b[0m\u001b[0my\u001b[0m \u001b[0;34m>\u001b[0m \u001b[0minterim\u001b[0m\u001b[0;34m.\u001b[0m\u001b[0my\u001b[0m\u001b[0;34m:\u001b[0m\u001b[0;34m\u001b[0m\u001b[0m\n",
      "\u001b[0;31mZeroDivisionError\u001b[0m: division by zero"
     ]
    }
   ],
   "source": [
    "for i in range(1,5):\n",
    "    interim = vars()['ast_test'+str(i)]\n",
    "    \n",
    "    # Check for angle = +/- pi/2\n",
    "    if ast_test.x == interim.x:\n",
    "        \n",
    "    \n",
    "    # Calculate the angle\n",
    "    angle = math.atan((ast_test.y - interim.y)/(ast_test.x - interim.x))\n",
    "    # Correct for quadrant\n",
    "    if ast_test.x > interim.x and ast_test.y > interim.y:\n",
    "        angle += np.pi\n",
    "    if ast_test.x > interim.x and ast_test.y < interim.y:\n",
    "        angle -= np.pi\n",
    "        \n",
    "    print(angle)"
   ]
  },
  {
   "cell_type": "code",
   "execution_count": 39,
   "metadata": {
    "collapsed": false
   },
   "outputs": [
    {
     "data": {
      "text/plain": [
       "3.141592653589793"
      ]
     },
     "execution_count": 39,
     "metadata": {},
     "output_type": "execute_result"
    }
   ],
   "source": [
    "np.pi"
   ]
  },
  {
   "cell_type": "code",
   "execution_count": null,
   "metadata": {
    "collapsed": true
   },
   "outputs": [],
   "source": []
  }
 ],
 "metadata": {
  "anaconda-cloud": {},
  "kernelspec": {
   "display_name": "Python [default]",
   "language": "python",
   "name": "python3"
  },
  "language_info": {
   "codemirror_mode": {
    "name": "ipython",
    "version": 3
   },
   "file_extension": ".py",
   "mimetype": "text/x-python",
   "name": "python",
   "nbconvert_exporter": "python",
   "pygments_lexer": "ipython3",
   "version": "3.5.5"
  }
 },
 "nbformat": 4,
 "nbformat_minor": 1
}
