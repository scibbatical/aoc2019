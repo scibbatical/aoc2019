{
 "cells": [
  {
   "cell_type": "code",
   "execution_count": 1,
   "metadata": {
    "collapsed": true
   },
   "outputs": [],
   "source": [
    "import numpy as np\n",
    "import matplotlib.pyplot as plt"
   ]
  },
  {
   "cell_type": "code",
   "execution_count": 2,
   "metadata": {
    "collapsed": true
   },
   "outputs": [],
   "source": [
    "'''\n",
    "P0. Implement a list\n",
    "'''\n",
    "\n",
    "class LNode:\n",
    "    def __init__(self,val):\n",
    "        self.val = val\n",
    "        self.next = None"
   ]
  },
  {
   "cell_type": "code",
   "execution_count": 3,
   "metadata": {
    "collapsed": true
   },
   "outputs": [],
   "source": [
    "# Create a function for decomposing the parameter mode\n",
    "\n",
    "def parameter_modes(code):\n",
    "    \n",
    "    # Add leading zeros to make 5 digits\n",
    "    c_str = '0'*(5-len(str(code)))+str(code)\n",
    "    \n",
    "    return [c_str[0],c_str[1],c_str[2], c_str[3:]]"
   ]
  },
  {
   "cell_type": "code",
   "execution_count": 4,
   "metadata": {
    "collapsed": true
   },
   "outputs": [],
   "source": [
    "incom0 = np.fromfile('17_input.txt',sep=\",\").astype(int)\n",
    "\n",
    "incom0 = np.append(incom0, np.zeros(3000)).astype(int)\n",
    "\n",
    "for i, value in enumerate(incom0):\n",
    "    vars()['node'+str(i)]=LNode(value)"
   ]
  },
  {
   "cell_type": "code",
   "execution_count": 5,
   "metadata": {
    "collapsed": false
   },
   "outputs": [
    {
     "data": {
      "text/plain": [
       "4429"
      ]
     },
     "execution_count": 5,
     "metadata": {},
     "output_type": "execute_result"
    }
   ],
   "source": [
    "len(incom0)"
   ]
  },
  {
   "cell_type": "code",
   "execution_count": 136,
   "metadata": {
    "collapsed": true
   },
   "outputs": [],
   "source": [
    "def intcode_call(signal_input, incom, pointer_position=0, relative_base=0, reinitialize = False):\n",
    "    # Re-read input to reset intcom program\n",
    "    if reinitialize == True:\n",
    "        incom = np.fromfile('13_input.txt',sep=\",\").astype(int)\n",
    "        \n",
    "    for j, value in enumerate(incom):\n",
    "        vars()['node'+str(j)]=LNode(value)\n",
    "\n",
    "    mem = signal_input\n",
    "\n",
    "    output = []\n",
    "    \n",
    "    rel_base = relative_base\n",
    "    i = pointer_position\n",
    "\n",
    "    while i <= len(incom):\n",
    "        \n",
    "        #print(i)\n",
    "\n",
    "        # decode the parameter modes\n",
    "        p_modes = parameter_modes(vars()['node'+str(i)].val)\n",
    "\n",
    "        # build instruction\n",
    "\n",
    "        # retrieve parameters for specific opcode\n",
    "        if p_modes[-1] in ['99']:\n",
    "            instr = [99]\n",
    "            #print('Opcode 99 executed.')\n",
    "            \n",
    "            # Prepare incom for return\n",
    "            incom_out = []\n",
    "            for j in range(len(incom)):\n",
    "                incom_out = incom_out + [vars()['node'+str(j)].val]\n",
    "            #print('program complete')\n",
    "            \n",
    "            #output = []\n",
    "            \n",
    "            return output, incom_out, i, rel_base\n",
    "            break\n",
    "        \n",
    "        elif p_modes[-1] in ['01', '02', '07', '08']:\n",
    "            instr = [int(p_modes[-1])]\n",
    "            for j in range(i+1, i+4):\n",
    "                instr += [vars()['node'+str(j)].val]\n",
    "            i += 4\n",
    "\n",
    "        elif p_modes[-1] in ['03', '04','09']:\n",
    "            instr = [int(p_modes[-1])] + [vars()['node'+str(i+1)].val]\n",
    "            i += 2\n",
    "\n",
    "        elif p_modes[-1] in ['05', '06']:\n",
    "            instr = [int(p_modes[-1])]\n",
    "            for j in range(i+1, i+3):\n",
    "                instr += [vars()['node'+str(j)].val]\n",
    "            i += 3\n",
    "\n",
    "        else:\n",
    "            print('Uh oh... intruction not understood')\n",
    "            break\n",
    "            \n",
    "        #print(p_modes)\n",
    "        #print(instr)\n",
    "\n",
    "\n",
    "        # Execute instructions\n",
    "        \n",
    "        # ADDITION # ==========================================================================\n",
    "        if instr[0] == 1:\n",
    "            # define a\n",
    "            a = instr[1] # default is immediate mode\n",
    "            if p_modes[2] == '0': # if parameter is position mode\n",
    "                a = vars()['node'+str(instr[1])].val\n",
    "            elif p_modes[2] == '2': # if parameter is in relative mode\n",
    "                if rel_base + instr[1] < 0:\n",
    "                    print('Uh oh... relative base reference is less than 0!')\n",
    "                    break\n",
    "                a = vars()['node'+str(rel_base + instr[1])].val\n",
    "                \n",
    "            # define b\n",
    "            b = instr[2] # default is immediate mode\n",
    "            if p_modes[1] == '0': # if parameter is position mode\n",
    "                b = vars()['node'+str(instr[2])].val\n",
    "            elif p_modes[1] == '2': # if parameter is in relative mode\n",
    "                if rel_base + instr[2] < 0:\n",
    "                    print('Uh oh... relative base reference is less than 0!')\n",
    "                    break\n",
    "                b = vars()['node'+str(rel_base + instr[2])].val\n",
    "\n",
    "            ab = a+b # calculate the overwrite value\n",
    "\n",
    "            # write         \n",
    "            if p_modes[0] == '1': # I think the problem states this will never be the case...\n",
    "                print('uh oh... trying to write in immediate mode???')\n",
    "                break\n",
    "            elif p_modes[0] == '2': # if parameter is in relative mode\n",
    "                if rel_base + instr[3] < 0:\n",
    "                    print('Uh oh... relative base reference is less than 0!')\n",
    "                    break\n",
    "                vars()['node'+str(rel_base + instr[3])].val = ab\n",
    "            else:\n",
    "                vars()['node'+str(instr[3])].val = ab\n",
    "\n",
    "        \n",
    "        # MULTIPLICATION # =========================================================\n",
    "        elif instr[0] == 2:\n",
    "            # define a\n",
    "            a = instr[1] # default is immediate mode\n",
    "            #print('immediate mode a = ' + str(a))\n",
    "            if p_modes[2] == '0': # if parameter is position mode\n",
    "                #print('position mode a = ' + str(a))\n",
    "                a = vars()['node'+str(instr[1])].val\n",
    "            elif p_modes[2] == '2': # if parameter is in relative mode\n",
    "                if rel_base + instr[1] < 0:\n",
    "                    print('Uh oh... relative base reference is less than 0!')\n",
    "                    break\n",
    "                a = vars()['node'+str(rel_base + instr[1])].val\n",
    "                #print('relative mode a = ' + str(a))\n",
    "\n",
    "            # define b\n",
    "            b = instr[2] # default is immediate mode\n",
    "            if p_modes[1] == '0': # if parameter is position mode\n",
    "                b = vars()['node'+str(instr[2])].val\n",
    "            elif p_modes[1] == '2': # if parameter is in relative mode\n",
    "                if rel_base + instr[2] < 0:\n",
    "                    print('Uh oh... relative base reference is less than 0!')\n",
    "                    break\n",
    "                b = vars()['node'+str(rel_base + instr[2])].val\n",
    "\n",
    "            ab = int(a)*int(b) # calculate the overwrite value\n",
    "\n",
    "            # write         \n",
    "            if p_modes[0] == '1': # I think the problem states this will never be the case...\n",
    "                print('uh oh... trying to write in immediate mode???')\n",
    "                break\n",
    "            elif p_modes[0] == '2': # if parameter is in relative mode\n",
    "                if rel_base + instr[3] < 0:\n",
    "                    print('Uh oh... relative base reference is less than 0!')\n",
    "                    break\n",
    "                vars()['node'+str(rel_base + instr[3])].val = ab\n",
    "            else:\n",
    "                vars()['node'+str(instr[3])].val = ab\n",
    "\n",
    "        # INPUT # =====================================================================        \n",
    "        elif instr[0] == 3:\n",
    "            # write input (mem)\n",
    "            if p_modes[2] == '1': # I think the problem states this will never be the case...\n",
    "                print('uh oh... trying to write in immediate mode???')\n",
    "                break\n",
    "            elif p_modes[2] == '2': # relative mode\n",
    "                if rel_base + instr[1] < 0:\n",
    "                    print('Uh oh... relative base reference is less than 0!')\n",
    "                    break\n",
    "                vars()['node'+str(rel_base + instr[1])].val = mem[0]\n",
    "                mem = mem[1:]\n",
    "            else:\n",
    "                #print(len(mem))\n",
    "                vars()['node'+str(instr[1])].val = mem[0]\n",
    "                mem = mem[1:]\n",
    "        \n",
    "        \n",
    "        # OUTPUT # =================================================================\n",
    "        elif instr[0] == 4:\n",
    "            # define a\n",
    "            #print('output parameter mode: ' + str(p_modes[2]) +\n",
    "            #      ', parameter: ' + str(instr[1]))\n",
    "            a = instr[1] # default is immediate mode\n",
    "            if p_modes[2] == '0': # if parameter is position mode\n",
    "                a = vars()['node'+str(instr[1])].val\n",
    "            elif p_modes[2] == '2': # relative mode\n",
    "                if rel_base + instr[1] < 0:\n",
    "                    print('Uh oh... relative base reference is less than 0!')\n",
    "                    break\n",
    "                a = vars()['node'+str(rel_base + instr[1])].val\n",
    "                \n",
    "\n",
    "            # write to output\n",
    "            output = output + [a]\n",
    "            #print('output:', output)\n",
    "            #if len(output) == 1:\n",
    "                # Repackage the nodes as incom\n",
    "                #incom_out = []\n",
    "                #for j in range(len(incom)):\n",
    "                    #incom_out = incom_out + [vars()['node'+str(j)].val]\n",
    "\n",
    "                #return output, incom_out, i, rel_base\n",
    "\n",
    "        \n",
    "        # JUMP IF TRUE # ===========================================================\n",
    "        elif instr[0] == 5:\n",
    "            # define a\n",
    "            a = instr[1] # default is immediate mode\n",
    "            if p_modes[2] == '0': # if parameter is position mode\n",
    "                #print('retrieving node ' + str(instr[1]))\n",
    "                a = vars()['node'+str(instr[1])].val\n",
    "                #print('a is' + str(a))\n",
    "            elif p_modes[2] == '2': # relative mode\n",
    "                if rel_base + instr[1] < 0:\n",
    "                    print('Uh oh... relative base reference is less than 0!')\n",
    "                    break\n",
    "                a = vars()['node'+str(rel_base + instr[1])].val\n",
    "\n",
    "            # define b\n",
    "            b = instr[2] # default is immediate mode\n",
    "            if p_modes[1] == '0': # if parameter is position mode\n",
    "                b = vars()['node'+str(instr[2])].val\n",
    "            elif p_modes[1] == '2': # relative mode\n",
    "                if rel_base + instr[2] < 0:\n",
    "                    print('Uh oh... relative base reference is less than 0!')\n",
    "                    break\n",
    "                b = vars()['node'+str(rel_base + instr[2])].val\n",
    "\n",
    "            # write         \n",
    "            if p_modes[0] == '1': # I think the problem states this will never be the case...\n",
    "                print('uh oh... trying to write in immediate mode???')\n",
    "                break\n",
    "            elif p_modes[0] == '2': # relative mode\n",
    "                print(\"'Write' fail for jump-if-true. Check for parameter mode 2!\")\n",
    "                break\n",
    "            else:\n",
    "                #print('a is' + str(a))\n",
    "                if a != 0:\n",
    "                    i = b\n",
    "                    \n",
    "                    \n",
    "        # JUMP IF FALSE # ===========================================================\n",
    "        elif instr[0] == 6:\n",
    "            # define a\n",
    "            a = instr[1] # default is immediate mode\n",
    "            if p_modes[2] == '0': # if parameter is position mode\n",
    "                a = vars()['node'+str(instr[1])].val\n",
    "            elif p_modes[2] == '2': # relative mode\n",
    "                if rel_base + instr[1] < 0:\n",
    "                    print('Uh oh... relative base reference is less than 0!')\n",
    "                    break\n",
    "                a = vars()['node'+str(rel_base + instr[1])].val\n",
    "\n",
    "            # define b\n",
    "            b = instr[2] # default is immediate mode\n",
    "            if p_modes[1] == '0': # if parameter is position mode\n",
    "                b = vars()['node'+str(instr[2])].val\n",
    "            elif p_modes[1] == '2': # relative mode\n",
    "                if rel_base + instr[2] < 0:\n",
    "                    print('Uh oh... relative base reference is less than 0!')\n",
    "                    break\n",
    "                b = vars()['node'+str(rel_base + instr[2])].val\n",
    "\n",
    "            # write         \n",
    "            if p_modes[0] == '1': # I think the problem states this will never be the case...\n",
    "                print('uh oh... trying to write in immediate mode???')\n",
    "                break\n",
    "            elif p_modes[0] == '2': # relative mode\n",
    "                print(\"'Write' fail for jump-if-false. Check for parameter mode 2!\")\n",
    "                break\n",
    "            else:\n",
    "                if a == 0:\n",
    "                    i = b\n",
    "                    \n",
    "        # LESS THAN # ==========================================================================\n",
    "        elif instr[0] == 7:\n",
    "            # define a\n",
    "            a = instr[1] # default is immediate mode\n",
    "            if p_modes[2] == '0': # if parameter is position mode\n",
    "                a = vars()['node'+str(instr[1])].val\n",
    "            elif p_modes[2] == '2': # relative mode\n",
    "                if rel_base + instr[1] < 0:\n",
    "                    print('Uh oh... relative base reference is less than 0!')\n",
    "                    break\n",
    "                a = vars()['node'+str(rel_base + instr[1])].val\n",
    "\n",
    "            # define b\n",
    "            b = instr[2] # default is immediate mode\n",
    "            if p_modes[1] == '0': # if parameter is position mode\n",
    "                b = vars()['node'+str(instr[2])].val\n",
    "            elif p_modes[1] == '2': # relative mode\n",
    "                if rel_base + instr[2] < 0:\n",
    "                    print('Uh oh... relative base reference is less than 0!')\n",
    "                    break\n",
    "                b = vars()['node'+str(rel_base + instr[2])].val\n",
    "\n",
    "            # apply test\n",
    "            if a < b:\n",
    "                #print(str(a) + 'is less than' + str(b))\n",
    "                ab = 1\n",
    "            else:\n",
    "                #print(str(a) + 'is NOT less than' + str(b))\n",
    "                ab = 0                \n",
    "\n",
    "            # write         \n",
    "            if p_modes[0] == '1': # I think the problem states this will never be the case...\n",
    "                print('uh oh... trying to write in immediate mode???')\n",
    "                break\n",
    "            elif p_modes[0] == '2': # relative mode\n",
    "                vars()['node'+str(rel_base + instr[3])].val = ab \n",
    "            else:\n",
    "                #print('setting node ' + str(instr[3]) + 'to be ' + str(ab))\n",
    "                vars()['node'+str(instr[3])].val = ab \n",
    "\n",
    "        # EQUALS # ========================================================================\n",
    "        elif instr[0] == 8:\n",
    "            # define a\n",
    "            a = instr[1] # default is immediate mode\n",
    "            if p_modes[2] == '0': # if parameter is position mode\n",
    "                a = vars()['node'+str(instr[1])].val\n",
    "            elif p_modes[2] == '2': # relative mode\n",
    "                if rel_base + instr[1] < 0:\n",
    "                    print('Uh oh... relative base reference is less than 0!')\n",
    "                    break\n",
    "                a = vars()['node'+str(rel_base + instr[1])].val\n",
    "\n",
    "            # define b\n",
    "            b = instr[2] # default is immediate mode\n",
    "            if p_modes[1] == '0': # if parameter is position mode\n",
    "                b = vars()['node'+str(instr[2])].val\n",
    "            elif p_modes[1] == '2': # relative mode\n",
    "                if rel_base + instr[2] < 0:\n",
    "                    print('Uh oh... relative base reference is less than 0!')\n",
    "                    break\n",
    "                b = vars()['node'+str(rel_base + instr[2])].val\n",
    "\n",
    "            # apply test\n",
    "            if a == b:\n",
    "                ab = 1\n",
    "            else:\n",
    "                ab = 0                \n",
    "\n",
    "            # write         \n",
    "            if p_modes[0] == '1': # I think the problem states this will never be the case...\n",
    "                print('uh oh... trying to write in immediate mode???')\n",
    "                break\n",
    "            elif p_modes[0] == '2': # relative mode\n",
    "                vars()['node'+str(rel_base + instr[3])].val = ab\n",
    "            else:\n",
    "                vars()['node'+str(instr[3])].val = ab\n",
    "                \n",
    "        # ADJUST RELATIVE BASE # =============================================================\n",
    "        elif instr[0] == 9:\n",
    "            # define a\n",
    "            a = instr[1] # default is immediate mode\n",
    "            if p_modes[2] == '0': # if parameter is position mode\n",
    "                a = vars()['node'+str(instr[1])].val\n",
    "            elif p_modes[2] == '2': # relative mode\n",
    "                if rel_base + instr[1] < 0:\n",
    "                    print('Uh oh... relative base reference is less than 0!')\n",
    "                    break\n",
    "                a = vars()['node'+str(rel_base + instr[1])].val\n",
    "                \n",
    "            # execute: adjust relative base\n",
    "            if p_modes[1] == '1': # I think the problem states this will never be the case...\n",
    "                print('uh oh... trying to write in immediate mode???')\n",
    "                break\n",
    "            elif p_modes[1] == '2': # relative mode\n",
    "                print(\"'Write' fail for jump-if-false. Check for parameter mode 2!\")\n",
    "                break\n",
    "            else:\n",
    "                rel_base += a\n",
    "                #print('Relative base now:'+str(rel_base))\n",
    "                \n",
    "\n",
    "        else:\n",
    "            print('Instruction not understood!')\n",
    "            break\n",
    "\n",
    "    #if i > len(incom):\n",
    "    #    print('End of input code reached.')\n",
    "        \n",
    "    # Repackage the nodes as incom\n",
    "    incom_out = []\n",
    "    for j in range(len(incom)):\n",
    "        incom_out = incom_out + [vars()['node'+str(j)].val]\n",
    "        \n",
    "    print('returning at end of intcode')\n",
    "\n",
    "    return output, incom_out, i, rel_base"
   ]
  },
  {
   "cell_type": "markdown",
   "metadata": {},
   "source": [
    "Run the Intcode to get the camera feed:\n",
    "\n"
   ]
  },
  {
   "cell_type": "code",
   "execution_count": 153,
   "metadata": {
    "collapsed": false
   },
   "outputs": [],
   "source": [
    "# No input\n",
    "output, incom, pointer, relative_base = intcode_call(signal_input=[0], incom=incom0, pointer_position=0, relative_base=0)\n"
   ]
  },
  {
   "cell_type": "code",
   "execution_count": 154,
   "metadata": {
    "collapsed": true
   },
   "outputs": [],
   "source": [
    "# Define a function to read the output:\n",
    "\n",
    "def image_read(signal):\n",
    "    # define the output image:\n",
    "    img_out = np.zeros((60,60))\n",
    "    \n",
    "    # create a cursor to navigate the output image\n",
    "    cur = 0,0\n",
    "    \n",
    "    # Decode the instructions in the signal, one by one\n",
    "    for dig in signal:\n",
    "        if dig == 35:\n",
    "            img_out[cur[0],cur[1]] = 1\n",
    "            cur = np.add(cur,(0,1))\n",
    "        elif dig == 46:\n",
    "            cur = np.add(cur,(0,1))\n",
    "        elif dig == 10:\n",
    "            cur = np.add(np.multiply(cur,(1,0)),(1,0))\n",
    "        else:\n",
    "            print('ASCII digit not understood: ' + str(dig))\n",
    "            print('Assuming its the droid and asigning 1 to img!')\n",
    "            img_out[cur[0],cur[1]] = 1\n",
    "            cur = np.add(cur,(0,1))\n",
    "            \n",
    "    return img_out         "
   ]
  },
  {
   "cell_type": "code",
   "execution_count": 155,
   "metadata": {
    "collapsed": false
   },
   "outputs": [
    {
     "name": "stdout",
     "output_type": "stream",
     "text": [
      "ASCII digit not understood: 94\n",
      "Assuming its the droid and asigning 1 to img!\n"
     ]
    },
    {
     "data": {
      "text/plain": [
       "<matplotlib.colorbar.Colorbar at 0x118566860>"
      ]
     },
     "execution_count": 155,
     "metadata": {},
     "output_type": "execute_result"
    },
    {
     "data": {
      "image/png": "[encoded data removed]",
      "text/plain": [
       "<Figure size 720x720 with 2 Axes>"
      ]
     },
     "metadata": {
      "needs_background": "light"
     },
     "output_type": "display_data"
    }
   ],
   "source": [
    "img = image_read(output)\n",
    "\n",
    "plt.figure(figsize=(10,10))\n",
    "plt.imshow(img)\n",
    "plt.colorbar()"
   ]
  },
  {
   "cell_type": "markdown",
   "metadata": {},
   "source": [
    "Ah! I bet '94' is the code for a droid. It's placed at one end of the scaffold!\n",
    "\n",
    "I had a novel idea for identifying an intersection... say the value of a scaffold is 1 and space is zero. Then the sum of the values for a point and each adjacent point will be 3 at a normal point and 5 for an intersection point. Instead of running loops to add up values for each point, I realized that I could shift the _entire maps_ and then add the shifted maps!"
   ]
  },
  {
   "cell_type": "code",
   "execution_count": 82,
   "metadata": {
    "collapsed": false
   },
   "outputs": [
    {
     "data": {
      "text/plain": [
       "<matplotlib.colorbar.Colorbar at 0xc9f13c8>"
      ]
     },
     "execution_count": 82,
     "metadata": {},
     "output_type": "execute_result"
    },
    {
     "data": {
      "image/png": "[encoded data removed]",
      "text/plain": [
       "<Figure size 360x360 with 2 Axes>"
      ]
     },
     "metadata": {
      "needs_background": "light"
     },
     "output_type": "display_data"
    },
    {
     "data": {
      "image/png": "[encoded data removed]",
      "text/plain": [
       "<Figure size 360x360 with 2 Axes>"
      ]
     },
     "metadata": {
      "needs_background": "light"
     },
     "output_type": "display_data"
    }
   ],
   "source": [
    "# Calculate the shifted ('rolled') maps:\n",
    "img_r01 = np.roll(img,1,axis=0)\n",
    "img_r0n1 = np.roll(img,-1,axis=0)\n",
    "img_r11 = np.roll(img,1,axis=1)\n",
    "img_r1n1 = np.roll(img,-1,axis=1)\n",
    "\n",
    "# Sum the maps:\n",
    "img_rolled = img + img_r01 + img_r0n1 + img_r11 + img_r1n1\n",
    "\n",
    "# Plot the result:\n",
    "plt.figure(figsize=(5,5))\n",
    "plt.imshow(img)\n",
    "plt.colorbar()\n",
    "\n",
    "plt.figure(figsize=(5,5))\n",
    "plt.imshow(img_rolled)\n",
    "plt.colorbar()"
   ]
  },
  {
   "cell_type": "code",
   "execution_count": 89,
   "metadata": {
    "collapsed": false
   },
   "outputs": [
    {
     "data": {
      "text/plain": [
       "5620"
      ]
     },
     "execution_count": 89,
     "metadata": {},
     "output_type": "execute_result"
    }
   ],
   "source": [
    "# Find the intersections:\n",
    "intersect_coords = np.array(np.where(img_rolled == 5)).T\n",
    "\n",
    "# Calculate the sum of the products:\n",
    "np.sum(np.product(intersect_coords,axis=1))"
   ]
  },
  {
   "cell_type": "markdown",
   "metadata": {},
   "source": [
    "Part Deux!"
   ]
  },
  {
   "cell_type": "code",
   "execution_count": null,
   "metadata": {
    "collapsed": true
   },
   "outputs": [],
   "source": [
    "# First, I modified the image_read function to place the droid with a value of 3... then I modded it back\n",
    "\n",
    "#img = image_read(output)"
   ]
  },
  {
   "cell_type": "code",
   "execution_count": 38,
   "metadata": {
    "collapsed": false
   },
   "outputs": [
    {
     "data": {
      "text/plain": [
       "<matplotlib.colorbar.Colorbar at 0x1104a7cf8>"
      ]
     },
     "execution_count": 38,
     "metadata": {},
     "output_type": "execute_result"
    },
    {
     "data": {
      "image/png": "[encoded data removed]",
      "text/plain": [
       "<Figure size 1440x1440 with 2 Axes>"
      ]
     },
     "metadata": {
      "needs_background": "light"
     },
     "output_type": "display_data"
    }
   ],
   "source": [
    "plt.figure(figsize=(20,20))\n",
    "plt.imshow(img)\n",
    "#plt.set_xticks(np.arange(0,50,2))\n",
    "plt.grid()\n",
    "plt.colorbar()"
   ]
  },
  {
   "cell_type": "code",
   "execution_count": 156,
   "metadata": {
    "collapsed": true
   },
   "outputs": [],
   "source": [
    "# Change the first value of the Intcode program from 1 to 2, as instructed by the problem:\n",
    "incom0[0] = 2"
   ]
  },
  {
   "cell_type": "markdown",
   "metadata": {},
   "source": [
    "Well, not only do I need to figure out the puzzle, I need to figure out how to give the pieces to the droid in ASCII code!"
   ]
  },
  {
   "cell_type": "code",
   "execution_count": 191,
   "metadata": {
    "collapsed": false
   },
   "outputs": [],
   "source": [
    "# Build the ASCII dictionary:\n",
    "# Not sure how to express '10'!\n",
    "ASCII = {',':44, 'A':65, 'B':66, 'C': 67, 'R':82, 'L':76, 'y':121, 'n':110, '0':48, '1':49, '2':50, '4':52, '6':54, '8':56  }\n",
    "\n",
    "# Build a function that transforms instructions into ASCII:\n",
    "def encode(instr):\n",
    "    global ASCII\n",
    "    out=[]\n",
    "    instr = instr.split(',')\n",
    "    for i in instr:\n",
    "        if i != '10':\n",
    "            out.append(ASCII[i])\n",
    "        elif i == '10':\n",
    "            out.append(ASCII['1'])\n",
    "            out.append(ASCII['0'])\n",
    "        out.append(ASCII[','])\n",
    "    \n",
    "    out = out[:-1]\n",
    "    \n",
    "    out.append(10) # add a comma and an end-of-line command\n",
    "    return out"
   ]
  },
  {
   "cell_type": "code",
   "execution_count": 182,
   "metadata": {
    "collapsed": true
   },
   "outputs": [],
   "source": [
    "MAIN = 'A,B,B,A,C,B,C,C,B,A' # 19\n",
    "A = 'R,10,R,8,L,10,L,10' # 15\n",
    "Ab = 'R,8,2,R,8,L,8,2,L,8,2' # 21\n",
    "B = 'R,8,L,6,L,6' # 11\n",
    "C = 'L,10,R,10,L,6' # 11"
   ]
  },
  {
   "cell_type": "markdown",
   "metadata": {},
   "source": [
    "So, what's going to happen? Do I compile all input at once and let 'er rip?"
   ]
  },
  {
   "cell_type": "code",
   "execution_count": 194,
   "metadata": {
    "collapsed": false
   },
   "outputs": [],
   "source": [
    "# Try compiling all instructions into a single input:\n",
    "ascii_input=[]\n",
    "ascii_input += encode(MAIN)# main movement routine\n",
    "ascii_input += encode(A)\n",
    "ascii_input += encode(B)\n",
    "ascii_input += encode(C)\n",
    "ascii_input += encode('n')\n"
   ]
  },
  {
   "cell_type": "code",
   "execution_count": 195,
   "metadata": {
    "collapsed": false
   },
   "outputs": [],
   "source": [
    "# Run Intcode with all inputs:\n",
    "output, incom, pointer, relative_base = intcode_call(signal_input=ascii_input, incom=incom0, pointer_position=0, relative_base=0)"
   ]
  },
  {
   "cell_type": "code",
   "execution_count": 197,
   "metadata": {
    "collapsed": false
   },
   "outputs": [
    {
     "data": {
      "text/plain": [
       "768115"
      ]
     },
     "execution_count": 197,
     "metadata": {},
     "output_type": "execute_result"
    }
   ],
   "source": [
    "# Find the final output!\n",
    "output[-1]"
   ]
  }
 ],
 "metadata": {
  "anaconda-cloud": {},
  "kernelspec": {
   "display_name": "Python [default]",
   "language": "python",
   "name": "python3"
  },
  "language_info": {
   "codemirror_mode": {
    "name": "ipython",
    "version": 3
   },
   "file_extension": ".py",
   "mimetype": "text/x-python",
   "name": "python",
   "nbconvert_exporter": "python",
   "pygments_lexer": "ipython3",
   "version": "3.5.5"
  }
 },
 "nbformat": 4,
 "nbformat_minor": 1
}
