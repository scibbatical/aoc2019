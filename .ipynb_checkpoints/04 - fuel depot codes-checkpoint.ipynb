{
 "cells": [
  {
   "cell_type": "code",
   "execution_count": 12,
   "metadata": {
    "collapsed": true
   },
   "outputs": [],
   "source": [
    "import numpy as np"
   ]
  },
  {
   "cell_type": "markdown",
   "metadata": {},
   "source": [
    "I was given the stipulation that my codes must be between 156218 and 652527"
   ]
  },
  {
   "cell_type": "code",
   "execution_count": 40,
   "metadata": {
    "collapsed": true
   },
   "outputs": [],
   "source": [
    "# Puzzle input\n",
    "\n",
    "c_min = 156218\n",
    "c_max = 652527"
   ]
  },
  {
   "cell_type": "markdown",
   "metadata": {},
   "source": [
    "Define some functions to test a code"
   ]
  },
  {
   "cell_type": "code",
   "execution_count": 24,
   "metadata": {
    "collapsed": true
   },
   "outputs": [],
   "source": [
    "def adjacent_test(code):\n",
    "    result = []\n",
    "    code_str = str(code)\n",
    "    \n",
    "    for i in range(len(code_str)-1):\n",
    "        result = np.append(result, code_str[i]==code_str[i+1])\n",
    "        \n",
    "    return np.any(result)"
   ]
  },
  {
   "cell_type": "code",
   "execution_count": 32,
   "metadata": {
    "collapsed": true
   },
   "outputs": [],
   "source": [
    "def increasing_test(code):\n",
    "    result = []\n",
    "    code_str = str(code)\n",
    "    \n",
    "    for i in range(len(code_str)-1):\n",
    "        result = np.append(result, code_str[i]<=code_str[i+1])\n",
    "        \n",
    "    return np.all(result)\n",
    "    "
   ]
  },
  {
   "cell_type": "markdown",
   "metadata": {},
   "source": [
    "Find codes that pass the tests"
   ]
  },
  {
   "cell_type": "code",
   "execution_count": 43,
   "metadata": {
    "collapsed": false
   },
   "outputs": [
    {
     "data": {
      "text/plain": [
       "1694"
      ]
     },
     "execution_count": 43,
     "metadata": {},
     "output_type": "execute_result"
    }
   ],
   "source": [
    "# Make a list of viable codes\n",
    "v_codes=[]\n",
    "\n",
    "for c in range(c_min, c_max):\n",
    "    \n",
    "    if adjacent_test(c) and increasing_test(c):\n",
    "        v_codes.append(c)\n",
    "\n",
    "len(v_codes)"
   ]
  },
  {
   "cell_type": "markdown",
   "metadata": {},
   "source": [
    "Part two: add an additional test"
   ]
  },
  {
   "cell_type": "code",
   "execution_count": 95,
   "metadata": {
    "collapsed": true
   },
   "outputs": [],
   "source": [
    "def adjacent_test_2(code):\n",
    "    code_str = str(code)\n",
    "    code_remain = str(code)\n",
    "    pies = []\n",
    "    \n",
    "    # Break the code into pieces, each piece having identical numbers\n",
    "    i = 0\n",
    "    j = 0\n",
    "    while i < 5:\n",
    "        \n",
    "        if code_remain[0] == code_remain[1+j]:\n",
    "            j += 1\n",
    "            i += 1\n",
    "        else:\n",
    "            pies.append(code_remain[:j+1])\n",
    "            code_remain = code_remain[j+1:]\n",
    "            i += 1\n",
    "            j=0\n",
    "            \n",
    "    pies.append(code_remain)\n",
    "    \n",
    "    # Test if any pieces are exactly length 2\n",
    "    lengths = []\n",
    "    for pie in pies:\n",
    "        lengths.append(len(pie))\n",
    "    \n",
    "    return 2 in lengths"
   ]
  },
  {
   "cell_type": "code",
   "execution_count": 96,
   "metadata": {
    "collapsed": false
   },
   "outputs": [
    {
     "data": {
      "text/plain": [
       "1148"
      ]
     },
     "execution_count": 96,
     "metadata": {},
     "output_type": "execute_result"
    }
   ],
   "source": [
    "# Make a list of viable codes\n",
    "v_codes=[]\n",
    "\n",
    "for c in range(c_min, c_max):\n",
    "    \n",
    "    if adjacent_test_2(c) and increasing_test(c):\n",
    "        v_codes.append(c)\n",
    "\n",
    "len(v_codes)"
   ]
  },
  {
   "cell_type": "code",
   "execution_count": null,
   "metadata": {
    "collapsed": true
   },
   "outputs": [],
   "source": []
  }
 ],
 "metadata": {
  "anaconda-cloud": {},
  "kernelspec": {
   "display_name": "Python [default]",
   "language": "python",
   "name": "python3"
  },
  "language_info": {
   "codemirror_mode": {
    "name": "ipython",
    "version": 3
   },
   "file_extension": ".py",
   "mimetype": "text/x-python",
   "name": "python",
   "nbconvert_exporter": "python",
   "pygments_lexer": "ipython3",
   "version": "3.5.5"
  }
 },
 "nbformat": 4,
 "nbformat_minor": 2
}
