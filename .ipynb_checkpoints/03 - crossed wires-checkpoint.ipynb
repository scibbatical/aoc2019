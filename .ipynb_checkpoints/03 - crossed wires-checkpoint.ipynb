{
 "cells": [
  {
   "cell_type": "code",
   "execution_count": 1,
   "metadata": {
    "collapsed": true
   },
   "outputs": [],
   "source": [
    "import numpy as np\n",
    "import matplotlib.pyplot as plt"
   ]
  },
  {
   "cell_type": "code",
   "execution_count": 220,
   "metadata": {
    "collapsed": true
   },
   "outputs": [],
   "source": [
    "# Demo\n",
    "w1_in = np.array(['R8','U5','L5','D3'])\n",
    "w2_in = np.array(['U7','R6','D4','L4'])\n",
    "\n",
    "#w1_in = np.array(['R75','D30','R83','U83','L12','D49','R71','U7','L72'])\n",
    "#w2_in = np.array(['U62','R66','U55','R34','D71','R55','D58','R83'])\n"
   ]
  },
  {
   "cell_type": "markdown",
   "metadata": {},
   "source": [
    "Load some data"
   ]
  },
  {
   "cell_type": "code",
   "execution_count": 2,
   "metadata": {
    "collapsed": true
   },
   "outputs": [],
   "source": [
    "w1_in =np.loadtxt('03_w1_input.txt',delimiter=\",\", comments=None,dtype=str)\n",
    "w2_in =np.loadtxt('03_w2_input.txt',delimiter=\",\", comments=None,dtype=str)"
   ]
  },
  {
   "cell_type": "markdown",
   "metadata": {},
   "source": [
    "Define a function to decode an instruction:"
   ]
  },
  {
   "cell_type": "code",
   "execution_count": 3,
   "metadata": {
    "collapsed": true
   },
   "outputs": [],
   "source": [
    "def instr_decode(instruction):\n",
    "    direction = instruction[0][0]\n",
    "    distance = int(instruction[1:])\n",
    "    \n",
    "    if direction == 'U':\n",
    "        return [0,distance]\n",
    "    elif direction =='D':\n",
    "        return [0,-distance]\n",
    "    elif direction == 'R':\n",
    "        return [distance,0]\n",
    "    elif direction == 'L':\n",
    "        return [-distance,0]"
   ]
  },
  {
   "cell_type": "markdown",
   "metadata": {},
   "source": [
    "I'd like to track the wire locations using an array. How big does the array have to be?"
   ]
  },
  {
   "cell_type": "code",
   "execution_count": 4,
   "metadata": {
    "collapsed": false,
    "scrolled": false
   },
   "outputs": [
    {
     "name": "stdout",
     "output_type": "stream",
     "text": [
      "4014 -2982 2619 -7914\n"
     ]
    }
   ],
   "source": [
    "location = [0,0]\n",
    "xmax = 0\n",
    "xmin = 0\n",
    "ymax = 0\n",
    "ymin = 0\n",
    "\n",
    "for instruction  in w1_in:\n",
    "    location = np.add(location, instr_decode(instruction))\n",
    "    if location[0] > xmax:\n",
    "        xmax = location[0]\n",
    "    if location[0] < xmin:\n",
    "        xmin = location[0]\n",
    "    if location[1] > ymax:\n",
    "        ymax = location[1]\n",
    "    if location[1] < ymin:\n",
    "        ymin = location[1]\n",
    "    #print(location)\n",
    "    \n",
    "print(xmax, xmin, ymax, ymin)\n",
    "    "
   ]
  },
  {
   "cell_type": "markdown",
   "metadata": {},
   "source": [
    "I tested w1 and w2, and found that neither of these had values beyond +/- 8000. I'll use 10000 for convenience. I'll use a 20000x20000 array and place the central point at 10000,10000."
   ]
  },
  {
   "cell_type": "code",
   "execution_count": 5,
   "metadata": {
    "collapsed": true,
    "scrolled": true
   },
   "outputs": [],
   "source": [
    "wire_map = np.zeros([20000,20000])\n",
    "#wire_map = np.zeros([500,500])\n",
    "wire1_map = np.copy(wire_map)\n",
    "wire2_map = np.copy(wire_map)\n",
    "\n",
    "#central_point = [250,250]\n",
    "central_point = [10000,10000]\n",
    "\n",
    "wire1_loc = central_point[:]\n",
    "for instruction in w1_in:\n",
    "   \n",
    "    direction = instruction[0][0]\n",
    "    distance = int(instruction[1:])\n",
    "    \n",
    "    if direction == 'U':\n",
    "        wire1_map[wire1_loc[0],wire1_loc[1]:wire1_loc[1]+distance+1] = 1\n",
    "    elif direction =='D':\n",
    "        wire1_map[wire1_loc[0],wire1_loc[1]-distance: wire1_loc[1]+1] = 1\n",
    "    elif direction == 'R':\n",
    "        wire1_map[wire1_loc[0]:wire1_loc[0]+distance+1,wire1_loc[1]] = 1\n",
    "    elif direction == 'L':\n",
    "        wire1_map[wire1_loc[0]-distance: wire1_loc[0]+1,wire1_loc[1]] = 1\n",
    "        \n",
    "    wire1_loc = np.add(wire1_loc, instr_decode(instruction))\n",
    "    \n",
    "wire1_map[central_point[0],central_point[1]] = 0\n",
    "        \n",
    "        \n",
    "wire2_loc = central_point[:]\n",
    "for instruction in w2_in:\n",
    "    \n",
    "    direction = instruction[0][0]\n",
    "    distance = int(instruction[1:])\n",
    "    \n",
    "    if direction == 'U':\n",
    "        wire2_map[wire2_loc[0],wire2_loc[1]:wire2_loc[1]+distance+1] = 1\n",
    "    elif direction =='D':\n",
    "        wire2_map[wire2_loc[0],wire2_loc[1]-distance: wire2_loc[1]+1] = 1\n",
    "    elif direction == 'R':\n",
    "        wire2_map[wire2_loc[0]:wire2_loc[0]+distance+1,wire2_loc[1]] = 1\n",
    "    elif direction == 'L':\n",
    "        wire2_map[wire2_loc[0]-distance: wire2_loc[0]+1,wire2_loc[1]] = 1\n",
    "        \n",
    "    wire2_loc = np.add(wire2_loc, instr_decode(instruction))\n",
    "    \n",
    "wire2_map[central_point[0],central_point[1]] = 0\n"
   ]
  },
  {
   "cell_type": "code",
   "execution_count": 6,
   "metadata": {
    "collapsed": true
   },
   "outputs": [],
   "source": [
    "# Add the maps. Crossings will be summed to a value of 2\n",
    "wires_map = np.add(wire1_map, wire2_map)\n",
    "\n",
    "crosses = np.where(wires_map == 2)\n",
    "\n",
    "crosses = list(zip(crosses[0],crosses[1]))\n",
    "\n"
   ]
  },
  {
   "cell_type": "code",
   "execution_count": 7,
   "metadata": {
    "collapsed": true
   },
   "outputs": [],
   "source": [
    "# Calculate the distances from the central point to each origin\n",
    "distances = np.absolute(np.subtract(crosses, central_point))"
   ]
  },
  {
   "cell_type": "code",
   "execution_count": 8,
   "metadata": {
    "collapsed": false
   },
   "outputs": [
    {
     "data": {
      "text/plain": [
       "731"
      ]
     },
     "execution_count": 8,
     "metadata": {},
     "output_type": "execute_result"
    }
   ],
   "source": [
    "# Determine the minimum distance\n",
    "np.min(np.sum(distances, axis=1))"
   ]
  },
  {
   "cell_type": "markdown",
   "metadata": {},
   "source": [
    "Part deux: in consideration of timing...\n",
    "\n",
    "Not only are locations of wires input into array, but times as well. Just in case times are overwritten, original times are maintained."
   ]
  },
  {
   "cell_type": "code",
   "execution_count": 9,
   "metadata": {
    "collapsed": false
   },
   "outputs": [
    {
     "name": "stdout",
     "output_type": "stream",
     "text": [
      "t1= 149629\n"
     ]
    }
   ],
   "source": [
    "wire_map = np.zeros([20000,20000])-999\n",
    "#wire_map = np.zeros([10,10])-999\n",
    "wire1_map = np.copy(wire_map)\n",
    "wire2_map = np.copy(wire_map)+500\n",
    "\n",
    "#central_point = [0,0]\n",
    "central_point = [10000,10000]\n",
    "\n",
    "t = 0\n",
    "wire1_loc = central_point[:]\n",
    "for instruction in w1_in:\n",
    "   \n",
    "    direction = instruction[0][0]\n",
    "    distance = int(instruction[1:])\n",
    "    time = range(t,t+distance+1)\n",
    "    \n",
    "    if direction == 'U':\n",
    "        interim = np.copy(wire1_map[wire1_loc[0],wire1_loc[1]:wire1_loc[1]+distance+1])\n",
    "        wire1_map[wire1_loc[0],wire1_loc[1]:wire1_loc[1]+distance+1] = time\n",
    "        wire1_map[wire1_loc[0],wire1_loc[1]:wire1_loc[1]+distance+1][np.where(interim != -999)] = interim[np.where(interim != -999)]\n",
    "    elif direction =='D':\n",
    "        interim = np.copy(wire1_map[wire1_loc[0],wire1_loc[1]-distance: wire1_loc[1]+1])\n",
    "        wire1_map[wire1_loc[0],wire1_loc[1]-distance: wire1_loc[1]+1] = np.flip(time)\n",
    "        wire1_map[wire1_loc[0],wire1_loc[1]-distance: wire1_loc[1]+1][np.where(interim != -999)] = interim[np.where(interim != -999)]\n",
    "    elif direction == 'R':\n",
    "        interim = np.copy(wire1_map[wire1_loc[0]:wire1_loc[0]+distance+1,wire1_loc[1]])\n",
    "        wire1_map[wire1_loc[0]:wire1_loc[0]+distance+1,wire1_loc[1]] = time\n",
    "        wire1_map[wire1_loc[0]:wire1_loc[0]+distance+1,wire1_loc[1]][np.where(interim != -999)] = interim[np.where(interim != -999)]\n",
    "    elif direction == 'L':\n",
    "        interim = np.copy(wire1_map[wire1_loc[0]-distance: wire1_loc[0]+1,wire1_loc[1]])\n",
    "        wire1_map[wire1_loc[0]-distance: wire1_loc[0]+1,wire1_loc[1]] = np.flip(time)\n",
    "        wire1_map[wire1_loc[0]-distance: wire1_loc[0]+1,wire1_loc[1]][np.where(interim != -999)] = interim[np.where(interim != -999)]\n",
    "        \n",
    "    wire1_loc = np.add(wire1_loc, instr_decode(instruction))\n",
    "    t += distance\n",
    "    \n",
    "wire1_map[central_point[0],central_point[1]] = -999\n",
    "\n",
    "\n",
    "t=0\n",
    "wire2_loc = central_point[:]\n",
    "for instruction in w2_in:\n",
    "    \n",
    "    direction = instruction[0][0]\n",
    "    distance = int(instruction[1:])\n",
    "    time = range(t,t+distance+1)\n",
    "    \n",
    "    if direction == 'U':\n",
    "        interim = np.copy(wire2_map[wire2_loc[0],wire2_loc[1]:wire2_loc[1]+distance+1])\n",
    "        wire2_map[wire2_loc[0],wire2_loc[1]:wire2_loc[1]+distance+1] = time\n",
    "        wire2_map[wire2_loc[0],wire2_loc[1]:wire2_loc[1]+distance+1][np.where(interim != -499)] = interim[np.where(interim != -499)]\n",
    "    elif direction =='D':\n",
    "        interim = np.copy(wire2_map[wire2_loc[0],wire2_loc[1]-distance: wire2_loc[1]+1])\n",
    "        wire2_map[wire2_loc[0],wire2_loc[1]-distance: wire2_loc[1]+1] = np.flip(time)\n",
    "        wire2_map[wire2_loc[0],wire2_loc[1]-distance: wire2_loc[1]+1][np.where(interim != -499)] = interim[np.where(interim != -499)]\n",
    "    elif direction == 'R':\n",
    "        interim = np.copy(wire2_map[wire2_loc[0]:wire2_loc[0]+distance+1,wire2_loc[1]])\n",
    "        wire2_map[wire2_loc[0]:wire2_loc[0]+distance+1,wire2_loc[1]] = time\n",
    "        wire2_map[wire2_loc[0]:wire2_loc[0]+distance+1,wire2_loc[1]][np.where(interim != -499)] = interim[np.where(interim != -499)]\n",
    "    elif direction == 'L':\n",
    "        interim = np.copy(wire2_map[wire2_loc[0]-distance: wire2_loc[0]+1,wire2_loc[1]])\n",
    "        wire2_map[wire2_loc[0]-distance: wire2_loc[0]+1,wire2_loc[1]] = np.flip(time)\n",
    "        wire2_map[wire2_loc[0]-distance: wire2_loc[0]+1,wire2_loc[1]][np.where(interim != -499)] = interim[np.where(interim != -499)]\n",
    "        \n",
    "    wire2_loc = np.add(wire2_loc, instr_decode(instruction))\n",
    "    t += distance\n",
    "    \n",
    "wire2_map[central_point[0],central_point[1]] = -499"
   ]
  },
  {
   "cell_type": "code",
   "execution_count": 10,
   "metadata": {
    "collapsed": true
   },
   "outputs": [],
   "source": [
    "# Go back, extract the times at the crosses identified in part 1.\n",
    "times1 = []\n",
    "times2 = []\n",
    "\n",
    "for i in crosses:\n",
    "    times1 = np.append(times1,wire1_map[i])\n",
    "    times2 = np.append(times2,wire2_map[i])"
   ]
  },
  {
   "cell_type": "code",
   "execution_count": 15,
   "metadata": {
    "collapsed": false
   },
   "outputs": [
    {
     "data": {
      "text/plain": [
       "5672.0"
      ]
     },
     "execution_count": 15,
     "metadata": {},
     "output_type": "execute_result"
    }
   ],
   "source": [
    "# Combine the times into a single array, then sum the individual wire times\n",
    "times = np.sum(np.array(list(zip(times1,times2))), axis=1)\n",
    "\n",
    "#Find the least time\n",
    "min(times)"
   ]
  }
 ],
 "metadata": {
  "kernelspec": {
   "display_name": "Python [default]",
   "language": "python",
   "name": "python3"
  },
  "language_info": {
   "codemirror_mode": {
    "name": "ipython",
    "version": 3
   },
   "file_extension": ".py",
   "mimetype": "text/x-python",
   "name": "python",
   "nbconvert_exporter": "python",
   "pygments_lexer": "ipython3",
   "version": "3.5.5"
  }
 },
 "nbformat": 4,
 "nbformat_minor": 2
}
