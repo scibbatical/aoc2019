{
 "cells": [
  {
   "cell_type": "code",
   "execution_count": 1,
   "metadata": {
    "collapsed": true
   },
   "outputs": [],
   "source": [
    "import numpy as np\n",
    "import itertools"
   ]
  },
  {
   "cell_type": "markdown",
   "metadata": {},
   "source": [
    "Create an object (it's an element in the program):"
   ]
  },
  {
   "cell_type": "code",
   "execution_count": 2,
   "metadata": {
    "collapsed": true
   },
   "outputs": [],
   "source": [
    "'''\n",
    "P0. Implement a list\n",
    "'''\n",
    "\n",
    "class LNode:\n",
    "    def __init__(self,val):\n",
    "        self.val = val\n",
    "        self.next = None"
   ]
  },
  {
   "cell_type": "code",
   "execution_count": 3,
   "metadata": {
    "collapsed": true
   },
   "outputs": [],
   "source": [
    "# Create a function for decomposing the parameter mode\n",
    "\n",
    "def parameter_modes(code):\n",
    "    \n",
    "    # Add leading zeros to make 5 digits\n",
    "    c_str = '0'*(5-len(str(code)))+str(code)\n",
    "    \n",
    "    return [c_str[0],c_str[1],c_str[2], c_str[3:]]"
   ]
  },
  {
   "cell_type": "code",
   "execution_count": 4,
   "metadata": {
    "collapsed": true
   },
   "outputs": [],
   "source": [
    "#demo\n",
    "icom_demo = ['3','15','3','16','1002','16','10','16','1','16','15','15','4','15','99','0','0']"
   ]
  },
  {
   "cell_type": "markdown",
   "metadata": {},
   "source": [
    "Create a funciton to run a program:"
   ]
  },
  {
   "cell_type": "code",
   "execution_count": 4,
   "metadata": {
    "collapsed": true
   },
   "outputs": [],
   "source": [
    "\n",
    "incom = np.fromfile('07_input.txt',sep=\",\").astype(int)\n",
    "\n",
    "for i, value in enumerate(incom):\n",
    "    vars()['node'+str(i)]=LNode(value)"
   ]
  },
  {
   "cell_type": "code",
   "execution_count": 5,
   "metadata": {
    "collapsed": false
   },
   "outputs": [
    {
     "data": {
      "text/plain": [
       "499"
      ]
     },
     "execution_count": 5,
     "metadata": {},
     "output_type": "execute_result"
    }
   ],
   "source": [
    "len(incom)"
   ]
  },
  {
   "cell_type": "code",
   "execution_count": 21,
   "metadata": {
    "collapsed": false
   },
   "outputs": [],
   "source": [
    "def intcode_call(signal_input, phase, incom, reinitialize = True):\n",
    "    # Re-read input to reset intcom program\n",
    "    if reinitialize == True:\n",
    "        incom = np.fromfile('07_input.txt',sep=\",\").astype(int)\n",
    "        \n",
    "    for i, value in enumerate(incom):\n",
    "        vars()['node'+str(i)]=LNode(value)\n",
    "    \n",
    "    mem = [phase,signal_input]\n",
    "\n",
    "\n",
    "\n",
    "    # signal_input\n",
    "    signal_in = signal_input # the puzzle suggests that this initial input should be 5 for \"thermal radiator controller\"\n",
    "\n",
    "    output=[] # I think I need to track the outputs to check the result\n",
    "\n",
    "    output_last = 0 # flag to indicate that last instruction was an output\n",
    "\n",
    "    i = 0\n",
    "\n",
    "    while i <= 499:\n",
    "        \n",
    "        print(i)\n",
    "\n",
    "        # decode the parameter modes\n",
    "        p_modes = parameter_modes(vars()['node'+str(i)].val)\n",
    "\n",
    "        # build instruction\n",
    "\n",
    "        # retrieve parameters for specific opcode\n",
    "        if p_modes[-1] in ['99']:\n",
    "            instr = [99]\n",
    "            if output_last == 0:\n",
    "                print('Opcode 99 executed.')\n",
    "                print('Hmmm... last instruction was not an output!')\n",
    "            break\n",
    "\n",
    "        elif p_modes[-1] in ['01', '02', '07', '08']:\n",
    "            instr = [int(p_modes[-1])]\n",
    "            for j in range(i+1, i+4):\n",
    "                instr += [vars()['node'+str(j)].val]\n",
    "            i += 4\n",
    "\n",
    "        elif p_modes[-1] in ['03', '04']:\n",
    "            instr = [int(p_modes[-1])] + [vars()['node'+str(i+1)].val]\n",
    "            i += 2\n",
    "\n",
    "        elif p_modes[-1] in ['05', '06']:\n",
    "            instr = [int(p_modes[-1])]\n",
    "            for j in range(i+1, i+3):\n",
    "                instr += [vars()['node'+str(j)].val]\n",
    "            i += 3\n",
    "\n",
    "        else:\n",
    "            print('Uh oh... intruction not understood')\n",
    "            break\n",
    "\n",
    "\n",
    "        # Execute instructions\n",
    "\n",
    "        if instr[0] == 1: # addition\n",
    "            output_last = 0\n",
    "            # define a\n",
    "            a = instr[1] # default is immediate mode\n",
    "            if p_modes[2] == '0': # if parameter is position mode\n",
    "                a = vars()['node'+str(instr[1])].val\n",
    "\n",
    "            # define b\n",
    "            b = instr[2] # default is immediate mode\n",
    "            if p_modes[1] == '0': # if parameter is position mode\n",
    "                b = vars()['node'+str(instr[2])].val\n",
    "\n",
    "            ab = a+b # calculate the overwrite value\n",
    "\n",
    "            # write         \n",
    "            if p_modes[0] == '1': # I think the problem states this will never be the case...\n",
    "                print('uh oh... trying to write in immediate mode???')\n",
    "                break\n",
    "            else:\n",
    "                vars()['node'+str(instr[3])].val = ab\n",
    "\n",
    "\n",
    "        elif instr[0] == 2: # multiplication\n",
    "            output_last = 0\n",
    "            # define a\n",
    "            a = instr[1] # default is immediate mode\n",
    "            if p_modes[2] == '0': # if parameter is position mode\n",
    "                a = vars()['node'+str(instr[1])].val\n",
    "\n",
    "            # define b\n",
    "            b = instr[2] # default is immediate mode\n",
    "            if p_modes[1] == '0': # if parameter is position mode\n",
    "                b = vars()['node'+str(instr[2])].val\n",
    "\n",
    "            ab = a*b # calculate the overwrite value\n",
    "\n",
    "            # write         \n",
    "            if p_modes[0] == '1': # I think the problem states this will never be the case...\n",
    "                print('uh oh... trying to write in immediate mode???')\n",
    "                break\n",
    "            else:\n",
    "                vars()['node'+str(instr[3])].val = ab        \n",
    "\n",
    "        elif instr[0] == 3: # input\n",
    "            output_last = 0\n",
    "            # write input (mem)\n",
    "            if p_modes[2] == '1': # I think the problem states this will never be the case...\n",
    "                print('uh oh... trying to write in immediate mode???')\n",
    "                break\n",
    "            else:\n",
    "                #print(len(mem))\n",
    "                vars()['node'+str(instr[1])].val = mem[0]\n",
    "                mem = mem[1:]\n",
    "\n",
    "        elif instr[0] == 4: # output\n",
    "            output_last = 1\n",
    "            # define a\n",
    "            a = instr[1] # default is immediate mode\n",
    "            if p_modes[2] == '0': # if parameter is position mode\n",
    "                a = vars()['node'+str(instr[1])].val\n",
    "\n",
    "            # write to output\n",
    "            output += [a]\n",
    "\n",
    "        elif instr[0] == 5: # jump-if-true\n",
    "            output_last = 0\n",
    "            # define a\n",
    "            a = instr[1] # default is immediate mode\n",
    "            if p_modes[2] == '0': # if parameter is position mode\n",
    "                a = vars()['node'+str(instr[1])].val\n",
    "\n",
    "             # define b\n",
    "            b = instr[2] # default is immediate mode\n",
    "            if p_modes[1] == '0': # if parameter is position mode\n",
    "                b = vars()['node'+str(instr[2])].val\n",
    "\n",
    "            # write         \n",
    "            if p_modes[0] == '1': # I think the problem states this will never be the case...\n",
    "                print('uh oh... trying to write in immediate mode???')\n",
    "                break\n",
    "            else:\n",
    "                if a != 0:\n",
    "                    i = b\n",
    "\n",
    "        elif instr[0] == 6: # jump-if-false\n",
    "            output_last = 0\n",
    "            # define a\n",
    "            a = instr[1] # default is immediate mode\n",
    "            if p_modes[2] == '0': # if parameter is position mode\n",
    "                a = vars()['node'+str(instr[1])].val\n",
    "\n",
    "             # define b\n",
    "            b = instr[2] # default is immediate mode\n",
    "            if p_modes[1] == '0': # if parameter is position mode\n",
    "                b = vars()['node'+str(instr[2])].val\n",
    "\n",
    "            # write         \n",
    "            if p_modes[0] == '1': # I think the problem states this will never be the case...\n",
    "                print('uh oh... trying to write in immediate mode???')\n",
    "                break\n",
    "            else:\n",
    "                if a == 0:\n",
    "                    i = b\n",
    "\n",
    "        elif instr[0] == 7: # less than\n",
    "            output_last = 0\n",
    "            # define a\n",
    "            a = instr[1] # default is immediate mode\n",
    "            if p_modes[2] == '0': # if parameter is position mode\n",
    "                a = vars()['node'+str(instr[1])].val\n",
    "\n",
    "            # define b\n",
    "            b = instr[2] # default is immediate mode\n",
    "            if p_modes[1] == '0': # if parameter is position mode\n",
    "                b = vars()['node'+str(instr[2])].val\n",
    "\n",
    "            # apply test\n",
    "            if a < b:\n",
    "                ab = 1\n",
    "            else:\n",
    "                ab = 0                \n",
    "\n",
    "            # write         \n",
    "            if p_modes[0] == '1': # I think the problem states this will never be the case...\n",
    "                print('uh oh... trying to write in immediate mode???')\n",
    "                break\n",
    "            else:\n",
    "                vars()['node'+str(instr[3])].val = ab \n",
    "\n",
    "\n",
    "        elif instr[0] == 8: # equals\n",
    "            output_last = 0\n",
    "            # define a\n",
    "            a = instr[1] # default is immediate mode\n",
    "            if p_modes[2] == '0': # if parameter is position mode\n",
    "                a = vars()['node'+str(instr[1])].val\n",
    "\n",
    "            # define b\n",
    "            b = instr[2] # default is immediate mode\n",
    "            if p_modes[1] == '0': # if parameter is position mode\n",
    "                b = vars()['node'+str(instr[2])].val\n",
    "\n",
    "            # apply test\n",
    "            if a == b:\n",
    "                ab = 1\n",
    "            else:\n",
    "                ab = 0                \n",
    "\n",
    "            # write         \n",
    "            if p_modes[0] == '1': # I think the problem states this will never be the case...\n",
    "                print('uh oh... trying to write in immediate mode???')\n",
    "                break\n",
    "            else:\n",
    "                vars()['node'+str(instr[3])].val = ab     \n",
    "\n",
    "        else:\n",
    "            print('Instruction not understood!')\n",
    "            break\n",
    "\n",
    "    if i > 678:\n",
    "        print('End of input code reached.')\n",
    "\n",
    "    return output[0], incom"
   ]
  },
  {
   "cell_type": "code",
   "execution_count": 10,
   "metadata": {
    "collapsed": false
   },
   "outputs": [],
   "source": [
    "# Generate a list of phase permutations:\n",
    "perms = [i for i in itertools.permutations([0,1,2,3,4])]"
   ]
  },
  {
   "cell_type": "code",
   "execution_count": 11,
   "metadata": {
    "collapsed": false
   },
   "outputs": [
    {
     "data": {
      "text/plain": [
       "11828"
      ]
     },
     "execution_count": 11,
     "metadata": {},
     "output_type": "execute_result"
    }
   ],
   "source": [
    "results = []\n",
    "\n",
    "# Accumulate results for each permutation\n",
    "for perm in perms:\n",
    "    # Cascade the inputs+outputs through the intcode amplifiers with the permutations of phases\n",
    "    interim = intcode_call(0,perm[0], incom)[0]\n",
    "    for i in range(1,5):\n",
    "        interim = intcode_call(interim,perm[i], incom)[0]\n",
    "        \n",
    "    results.append([perm,interim])\n",
    "    \n",
    "results = np.array(results)\n",
    "\n",
    "# Show highest output\n",
    "np.max(results[:,1])   "
   ]
  },
  {
   "cell_type": "markdown",
   "metadata": {},
   "source": [
    "Part two!\n",
    "\n",
    "I have to create a new function that doesn't re-read the input every time!"
   ]
  },
  {
   "cell_type": "code",
   "execution_count": 12,
   "metadata": {
    "collapsed": true
   },
   "outputs": [],
   "source": [
    "def intcode_call_2(signal_input, incom): #, phase):\n",
    "    \n",
    "    mem = [signal_input]\n",
    "\n",
    "    # signal_input\n",
    "    signal_in = signal_input # the puzzle suggests that this initial input should be 5 for \"thermal radiator controller\"\n",
    "\n",
    "    output=[] # I think I need to track the outputs to check the result\n",
    "\n",
    "    output_last = 0 # flag to indicate that last instruction was an output\n",
    "\n",
    "    i = 0\n",
    "\n",
    "    while i <= 499:\n",
    "\n",
    "        # decode the parameter modes\n",
    "        p_modes = parameter_modes(vars()['node'+str(i)].val)\n",
    "\n",
    "        # build instruction\n",
    "\n",
    "        # retrieve parameters for specific opcode\n",
    "        if p_modes[-1] in ['99']:\n",
    "            instr = [99]\n",
    "            if output_last == 0:\n",
    "                print('Opcode 99 executed.')\n",
    "                print('Hmmm... last instruction was not an output!')\n",
    "            break\n",
    "\n",
    "        elif p_modes[-1] in ['01', '02', '07', '08']:\n",
    "            instr = [int(p_modes[-1])]\n",
    "            for j in range(i+1, i+4):\n",
    "                instr += [vars()['node'+str(j)].val]\n",
    "            i += 4\n",
    "\n",
    "        elif p_modes[-1] in ['03', '04']:\n",
    "            instr = [int(p_modes[-1])] + [vars()['node'+str(i+1)].val]\n",
    "            i += 2\n",
    "\n",
    "        elif p_modes[-1] in ['05', '06']:\n",
    "            instr = [int(p_modes[-1])]\n",
    "            for j in range(i+1, i+3):\n",
    "                instr += [vars()['node'+str(j)].val]\n",
    "            i += 3\n",
    "\n",
    "        else:\n",
    "            print('Uh oh... intruction not understood')\n",
    "            break\n",
    "\n",
    "\n",
    "        # Execute instructions\n",
    "\n",
    "        if instr[0] == 1: # addition\n",
    "            output_last = 0\n",
    "            # define a\n",
    "            a = instr[1] # default is immediate mode\n",
    "            if p_modes[2] == '0': # if parameter is position mode\n",
    "                a = vars()['node'+str(instr[1])].val\n",
    "\n",
    "            # define b\n",
    "            b = instr[2] # default is immediate mode\n",
    "            if p_modes[1] == '0': # if parameter is position mode\n",
    "                b = vars()['node'+str(instr[2])].val\n",
    "\n",
    "            ab = a+b # calculate the overwrite value\n",
    "\n",
    "            # write         \n",
    "            if p_modes[0] == '1': # I think the problem states this will never be the case...\n",
    "                print('uh oh... trying to write in immediate mode???')\n",
    "                break\n",
    "            else:\n",
    "                vars()['node'+str(instr[3])].val = ab\n",
    "\n",
    "\n",
    "        elif instr[0] == 2: # multiplication\n",
    "            output_last = 0\n",
    "            # define a\n",
    "            a = instr[1] # default is immediate mode\n",
    "            if p_modes[2] == '0': # if parameter is position mode\n",
    "                a = vars()['node'+str(instr[1])].val\n",
    "\n",
    "            # define b\n",
    "            b = instr[2] # default is immediate mode\n",
    "            if p_modes[1] == '0': # if parameter is position mode\n",
    "                b = vars()['node'+str(instr[2])].val\n",
    "\n",
    "            ab = a*b # calculate the overwrite value\n",
    "\n",
    "            # write         \n",
    "            if p_modes[0] == '1': # I think the problem states this will never be the case...\n",
    "                print('uh oh... trying to write in immediate mode???')\n",
    "                break\n",
    "            else:\n",
    "                vars()['node'+str(instr[3])].val = ab        \n",
    "\n",
    "        elif instr[0] == 3: # input\n",
    "            output_last = 0\n",
    "            # write input (mem)\n",
    "            if p_modes[2] == '1': # I think the problem states this will never be the case...\n",
    "                print('uh oh... trying to write in immediate mode???')\n",
    "                break\n",
    "            else:\n",
    "                vars()['node'+str(instr[1])].val = mem[0]\n",
    "                mem = mem[1:]\n",
    "\n",
    "        elif instr[0] == 4: # output\n",
    "            output_last = 1\n",
    "            # define a\n",
    "            a = instr[1] # default is immediate mode\n",
    "            if p_modes[2] == '0': # if parameter is position mode\n",
    "                a = vars()['node'+str(instr[1])].val\n",
    "\n",
    "            # write to output\n",
    "            output += [a]\n",
    "\n",
    "        elif instr[0] == 5: # jump-if-true\n",
    "            output_last = 0\n",
    "            # define a\n",
    "            a = instr[1] # default is immediate mode\n",
    "            if p_modes[2] == '0': # if parameter is position mode\n",
    "                a = vars()['node'+str(instr[1])].val\n",
    "\n",
    "             # define b\n",
    "            b = instr[2] # default is immediate mode\n",
    "            if p_modes[1] == '0': # if parameter is position mode\n",
    "                b = vars()['node'+str(instr[2])].val\n",
    "\n",
    "            # write         \n",
    "            if p_modes[0] == '1': # I think the problem states this will never be the case...\n",
    "                print('uh oh... trying to write in immediate mode???')\n",
    "                break\n",
    "            else:\n",
    "                if a != 0:\n",
    "                    i = b\n",
    "\n",
    "        elif instr[0] == 6: # jump-if-false\n",
    "            output_last = 0\n",
    "            # define a\n",
    "            a = instr[1] # default is immediate mode\n",
    "            if p_modes[2] == '0': # if parameter is position mode\n",
    "                a = vars()['node'+str(instr[1])].val\n",
    "\n",
    "             # define b\n",
    "            b = instr[2] # default is immediate mode\n",
    "            if p_modes[1] == '0': # if parameter is position mode\n",
    "                b = vars()['node'+str(instr[2])].val\n",
    "\n",
    "            # write         \n",
    "            if p_modes[0] == '1': # I think the problem states this will never be the case...\n",
    "                print('uh oh... trying to write in immediate mode???')\n",
    "                break\n",
    "            else:\n",
    "                if a == 0:\n",
    "                    i = b\n",
    "\n",
    "        elif instr[0] == 7: # less than\n",
    "            output_last = 0\n",
    "            # define a\n",
    "            a = instr[1] # default is immediate mode\n",
    "            if p_modes[2] == '0': # if parameter is position mode\n",
    "                a = vars()['node'+str(instr[1])].val\n",
    "\n",
    "            # define b\n",
    "            b = instr[2] # default is immediate mode\n",
    "            if p_modes[1] == '0': # if parameter is position mode\n",
    "                b = vars()['node'+str(instr[2])].val\n",
    "\n",
    "            # apply test\n",
    "            if a < b:\n",
    "                ab = 1\n",
    "            else:\n",
    "                ab = 0                \n",
    "\n",
    "            # write         \n",
    "            if p_modes[0] == '1': # I think the problem states this will never be the case...\n",
    "                print('uh oh... trying to write in immediate mode???')\n",
    "                break\n",
    "            else:\n",
    "                vars()['node'+str(instr[3])].val = ab \n",
    "\n",
    "\n",
    "        elif instr[0] == 8: # equals\n",
    "            output_last = 0\n",
    "            # define a\n",
    "            a = instr[1] # default is immediate mode\n",
    "            if p_modes[2] == '0': # if parameter is position mode\n",
    "                a = vars()['node'+str(instr[1])].val\n",
    "\n",
    "            # define b\n",
    "            b = instr[2] # default is immediate mode\n",
    "            if p_modes[1] == '0': # if parameter is position mode\n",
    "                b = vars()['node'+str(instr[2])].val\n",
    "\n",
    "            # apply test\n",
    "            if a == b:\n",
    "                ab = 1\n",
    "            else:\n",
    "                ab = 0                \n",
    "\n",
    "            # write         \n",
    "            if p_modes[0] == '1': # I think the problem states this will never be the case...\n",
    "                print('uh oh... trying to write in immediate mode???')\n",
    "                break\n",
    "            else:\n",
    "                vars()['node'+str(instr[3])].val = ab     \n",
    "\n",
    "        else:\n",
    "            print('Instruction not understood!')\n",
    "            break\n",
    "\n",
    "    if i > 678:\n",
    "        print('End of input code reached.')\n",
    "\n",
    "    return output[0], incom"
   ]
  },
  {
   "cell_type": "code",
   "execution_count": 22,
   "metadata": {
    "collapsed": true
   },
   "outputs": [],
   "source": [
    "# Generate a list of phase permutations:\n",
    "perms = [i for i in itertools.permutations([5,6,7,8,9])]"
   ]
  },
  {
   "cell_type": "code",
   "execution_count": 23,
   "metadata": {
    "collapsed": false
   },
   "outputs": [
    {
     "name": "stdout",
     "output_type": "stream",
     "text": [
      "0\n",
      "2\n",
      "6\n",
      "94\n",
      "96\n",
      "100\n",
      "102\n"
     ]
    },
    {
     "ename": "IndexError",
     "evalue": "list index out of range",
     "output_type": "error",
     "traceback": [
      "\u001b[0;31m---------------------------------------------------------------------------\u001b[0m",
      "\u001b[0;31mIndexError\u001b[0m                                Traceback (most recent call last)",
      "\u001b[0;32m<ipython-input-23-23d41fd262ce>\u001b[0m in \u001b[0;36m<module>\u001b[0;34m()\u001b[0m\n\u001b[1;32m      8\u001b[0m \u001b[0;34m\u001b[0m\u001b[0m\n\u001b[1;32m      9\u001b[0m     \u001b[0;31m# Run first loop:\u001b[0m\u001b[0;34m\u001b[0m\u001b[0;34m\u001b[0m\u001b[0m\n\u001b[0;32m---> 10\u001b[0;31m     \u001b[0minterim\u001b[0m\u001b[0;34m,\u001b[0m \u001b[0mincom\u001b[0m \u001b[0;34m=\u001b[0m \u001b[0mintcode_call\u001b[0m\u001b[0;34m(\u001b[0m\u001b[0;36m0\u001b[0m\u001b[0;34m,\u001b[0m\u001b[0mperm\u001b[0m\u001b[0;34m[\u001b[0m\u001b[0;36m0\u001b[0m\u001b[0;34m]\u001b[0m\u001b[0;34m,\u001b[0m \u001b[0mincom\u001b[0m\u001b[0;34m,\u001b[0m \u001b[0mreinitialize\u001b[0m \u001b[0;34m=\u001b[0m \u001b[0;32mFalse\u001b[0m\u001b[0;34m)\u001b[0m\u001b[0;34m\u001b[0m\u001b[0m\n\u001b[0m\u001b[1;32m     11\u001b[0m     \u001b[0;32mfor\u001b[0m \u001b[0mi\u001b[0m \u001b[0;32min\u001b[0m \u001b[0mrange\u001b[0m\u001b[0;34m(\u001b[0m\u001b[0;36m1\u001b[0m\u001b[0;34m,\u001b[0m\u001b[0;36m5\u001b[0m\u001b[0;34m)\u001b[0m\u001b[0;34m:\u001b[0m\u001b[0;34m\u001b[0m\u001b[0m\n\u001b[1;32m     12\u001b[0m         \u001b[0minterim\u001b[0m\u001b[0;34m,\u001b[0m \u001b[0mincom\u001b[0m \u001b[0;34m=\u001b[0m \u001b[0mintcode_call\u001b[0m\u001b[0;34m(\u001b[0m\u001b[0minterim\u001b[0m\u001b[0;34m,\u001b[0m\u001b[0mperm\u001b[0m\u001b[0;34m[\u001b[0m\u001b[0mi\u001b[0m\u001b[0;34m]\u001b[0m\u001b[0;34m,\u001b[0m \u001b[0mincom\u001b[0m\u001b[0;34m,\u001b[0m \u001b[0mreinitialize\u001b[0m \u001b[0;34m=\u001b[0m \u001b[0;32mFalse\u001b[0m\u001b[0;34m)\u001b[0m\u001b[0;34m\u001b[0m\u001b[0m\n",
      "\u001b[0;32m<ipython-input-21-9d6375ad114b>\u001b[0m in \u001b[0;36mintcode_call\u001b[0;34m(signal_input, phase, incom, reinitialize)\u001b[0m\n\u001b[1;32m    111\u001b[0m             \u001b[0;32melse\u001b[0m\u001b[0;34m:\u001b[0m\u001b[0;34m\u001b[0m\u001b[0m\n\u001b[1;32m    112\u001b[0m                 \u001b[0;31m#print(len(mem))\u001b[0m\u001b[0;34m\u001b[0m\u001b[0;34m\u001b[0m\u001b[0m\n\u001b[0;32m--> 113\u001b[0;31m                 \u001b[0mvars\u001b[0m\u001b[0;34m(\u001b[0m\u001b[0;34m)\u001b[0m\u001b[0;34m[\u001b[0m\u001b[0;34m'node'\u001b[0m\u001b[0;34m+\u001b[0m\u001b[0mstr\u001b[0m\u001b[0;34m(\u001b[0m\u001b[0minstr\u001b[0m\u001b[0;34m[\u001b[0m\u001b[0;36m1\u001b[0m\u001b[0;34m]\u001b[0m\u001b[0;34m)\u001b[0m\u001b[0;34m]\u001b[0m\u001b[0;34m.\u001b[0m\u001b[0mval\u001b[0m \u001b[0;34m=\u001b[0m \u001b[0mmem\u001b[0m\u001b[0;34m[\u001b[0m\u001b[0;36m0\u001b[0m\u001b[0;34m]\u001b[0m\u001b[0;34m\u001b[0m\u001b[0m\n\u001b[0m\u001b[1;32m    114\u001b[0m                 \u001b[0mmem\u001b[0m \u001b[0;34m=\u001b[0m \u001b[0mmem\u001b[0m\u001b[0;34m[\u001b[0m\u001b[0;36m1\u001b[0m\u001b[0;34m:\u001b[0m\u001b[0;34m]\u001b[0m\u001b[0;34m\u001b[0m\u001b[0m\n\u001b[1;32m    115\u001b[0m \u001b[0;34m\u001b[0m\u001b[0m\n",
      "\u001b[0;31mIndexError\u001b[0m: list index out of range"
     ]
    }
   ],
   "source": [
    "# Re-read input to reset intcom program\n",
    "incom = np.fromfile('07_input.txt',sep=\",\").astype(int)\n",
    "\n",
    "for i, value in enumerate(incom):\n",
    "        vars()['node'+str(i)]=LNode(value)\n",
    "\n",
    "for perm in perms[:1]:\n",
    "    \n",
    "    # Run first loop:\n",
    "    interim, incom = intcode_call(0,perm[0], incom, reinitialize = False)\n",
    "    for i in range(1,5):\n",
    "        interim, incom = intcode_call(interim,perm[i], incom, reinitialize = False)\n",
    "            \n",
    "    # Now let 'er run:\n",
    "\n",
    "    active_amp = 0\n",
    "    amp_out = [0]\n",
    "    last_amp_outs = np.zeros((5,1))  \n",
    "\n",
    "    while amp_out != []: # while the amplifier is producing an output\n",
    "        \n",
    "        # run through the active amp\n",
    "        interim, incom = intcode_call_2(interim, incom)\n",
    "        \n",
    "        # place input into last amp outs:\n",
    "        last_amp_outs[active_amp] = interim\n",
    "        \n",
    "        # Set the variable to be checked for \n",
    "        amp_out = [interim]\n",
    "\n",
    "        # set new active amp:\n",
    "        if active_amp == 4:\n",
    "            active_amp = 0\n",
    "        else:\n",
    "            active_amp += 1\n",
    "            \n",
    "    # Retrieve and print last output from amp E:\n",
    "    print(last_amp_out[5])"
   ]
  },
  {
   "cell_type": "code",
   "execution_count": 24,
   "metadata": {
    "collapsed": false
   },
   "outputs": [
    {
     "data": {
      "text/plain": [
       "3"
      ]
     },
     "execution_count": 24,
     "metadata": {},
     "output_type": "execute_result"
    }
   ],
   "source": [
    "node102.val"
   ]
  },
  {
   "cell_type": "code",
   "execution_count": 16,
   "metadata": {
    "collapsed": false
   },
   "outputs": [
    {
     "data": {
      "text/plain": [
       "['0', '0', '0', '03']"
      ]
     },
     "execution_count": 16,
     "metadata": {},
     "output_type": "execute_result"
    }
   ],
   "source": [
    "parameter_modes(node0.val)"
   ]
  },
  {
   "cell_type": "code",
   "execution_count": 22,
   "metadata": {
    "collapsed": false
   },
   "outputs": [
    {
     "name": "stdout",
     "output_type": "stream",
     "text": [
      "2\n",
      "1\n",
      "0\n"
     ]
    },
    {
     "ename": "IndexError",
     "evalue": "list index out of range",
     "output_type": "error",
     "traceback": [
      "\u001b[0;31m---------------------------------------------------------------------------\u001b[0m",
      "\u001b[0;31mIndexError\u001b[0m                                Traceback (most recent call last)",
      "\u001b[0;32m<ipython-input-22-e2ac1643619c>\u001b[0m in \u001b[0;36m<module>\u001b[0;34m()\u001b[0m\n\u001b[1;32m      5\u001b[0m         \u001b[0mvars\u001b[0m\u001b[0;34m(\u001b[0m\u001b[0;34m)\u001b[0m\u001b[0;34m[\u001b[0m\u001b[0;34m'node'\u001b[0m\u001b[0;34m+\u001b[0m\u001b[0mstr\u001b[0m\u001b[0;34m(\u001b[0m\u001b[0mi\u001b[0m\u001b[0;34m)\u001b[0m\u001b[0;34m]\u001b[0m\u001b[0;34m=\u001b[0m\u001b[0mLNode\u001b[0m\u001b[0;34m(\u001b[0m\u001b[0mvalue\u001b[0m\u001b[0;34m)\u001b[0m\u001b[0;34m\u001b[0m\u001b[0m\n\u001b[1;32m      6\u001b[0m \u001b[0;34m\u001b[0m\u001b[0m\n\u001b[0;32m----> 7\u001b[0;31m \u001b[0mintcode_call\u001b[0m\u001b[0;34m(\u001b[0m\u001b[0;36m0\u001b[0m\u001b[0;34m,\u001b[0m\u001b[0;36m5\u001b[0m\u001b[0;34m,\u001b[0m \u001b[0mincom\u001b[0m\u001b[0;34m,\u001b[0m \u001b[0mreinitialize\u001b[0m \u001b[0;34m=\u001b[0m \u001b[0;32mFalse\u001b[0m\u001b[0;34m)\u001b[0m\u001b[0;34m\u001b[0m\u001b[0m\n\u001b[0m",
      "\u001b[0;32m<ipython-input-21-99947f4d2b83>\u001b[0m in \u001b[0;36mintcode_call\u001b[0;34m(signal_input, phase, incom, reinitialize)\u001b[0m\n\u001b[1;32m    107\u001b[0m             \u001b[0;32melse\u001b[0m\u001b[0;34m:\u001b[0m\u001b[0;34m\u001b[0m\u001b[0m\n\u001b[1;32m    108\u001b[0m                 \u001b[0mprint\u001b[0m\u001b[0;34m(\u001b[0m\u001b[0mlen\u001b[0m\u001b[0;34m(\u001b[0m\u001b[0mmem\u001b[0m\u001b[0;34m)\u001b[0m\u001b[0;34m)\u001b[0m\u001b[0;34m\u001b[0m\u001b[0m\n\u001b[0;32m--> 109\u001b[0;31m                 \u001b[0mvars\u001b[0m\u001b[0;34m(\u001b[0m\u001b[0;34m)\u001b[0m\u001b[0;34m[\u001b[0m\u001b[0;34m'node'\u001b[0m\u001b[0;34m+\u001b[0m\u001b[0mstr\u001b[0m\u001b[0;34m(\u001b[0m\u001b[0minstr\u001b[0m\u001b[0;34m[\u001b[0m\u001b[0;36m1\u001b[0m\u001b[0;34m]\u001b[0m\u001b[0;34m)\u001b[0m\u001b[0;34m]\u001b[0m\u001b[0;34m.\u001b[0m\u001b[0mval\u001b[0m \u001b[0;34m=\u001b[0m \u001b[0mmem\u001b[0m\u001b[0;34m[\u001b[0m\u001b[0;36m0\u001b[0m\u001b[0;34m]\u001b[0m\u001b[0;34m\u001b[0m\u001b[0m\n\u001b[0m\u001b[1;32m    110\u001b[0m                 \u001b[0mmem\u001b[0m \u001b[0;34m=\u001b[0m \u001b[0mmem\u001b[0m\u001b[0;34m[\u001b[0m\u001b[0;36m1\u001b[0m\u001b[0;34m:\u001b[0m\u001b[0;34m]\u001b[0m\u001b[0;34m\u001b[0m\u001b[0m\n\u001b[1;32m    111\u001b[0m \u001b[0;34m\u001b[0m\u001b[0m\n",
      "\u001b[0;31mIndexError\u001b[0m: list index out of range"
     ]
    }
   ],
   "source": [
    "# Re-read input to reset intcom program\n",
    "incom = np.fromfile('07_input.txt',sep=\",\").astype(int)\n",
    "\n",
    "for i, value in enumerate(incom):\n",
    "        vars()['node'+str(i)]=LNode(value)\n",
    "\n",
    "intcode_call(0,5, incom, reinitialize = False)"
   ]
  },
  {
   "cell_type": "code",
   "execution_count": 19,
   "metadata": {
    "collapsed": false
   },
   "outputs": [
    {
     "data": {
      "text/plain": [
       "5"
      ]
     },
     "execution_count": 19,
     "metadata": {},
     "output_type": "execute_result"
    }
   ],
   "source": [
    "perm[0]"
   ]
  },
  {
   "cell_type": "code",
   "execution_count": null,
   "metadata": {
    "collapsed": true
   },
   "outputs": [],
   "source": []
  },
  {
   "cell_type": "code",
   "execution_count": 13,
   "metadata": {
    "collapsed": true
   },
   "outputs": [],
   "source": [
    "a = 3\n",
    "def test(a,b):\n",
    "    a = 2*a\n",
    "    return b"
   ]
  },
  {
   "cell_type": "code",
   "execution_count": 14,
   "metadata": {
    "collapsed": false
   },
   "outputs": [
    {
     "name": "stdout",
     "output_type": "stream",
     "text": [
      "4\n",
      "3\n"
     ]
    }
   ],
   "source": [
    "print(test(a,4))\n",
    "\n",
    "print(a)\n",
    "\n"
   ]
  },
  {
   "cell_type": "code",
   "execution_count": 23,
   "metadata": {
    "collapsed": true
   },
   "outputs": [],
   "source": [
    "nodeAAA = LNode(66)"
   ]
  },
  {
   "cell_type": "code",
   "execution_count": 24,
   "metadata": {
    "collapsed": false
   },
   "outputs": [
    {
     "data": {
      "text/plain": [
       "66"
      ]
     },
     "execution_count": 24,
     "metadata": {},
     "output_type": "execute_result"
    }
   ],
   "source": [
    "nodeAAA.val"
   ]
  },
  {
   "cell_type": "code",
   "execution_count": 25,
   "metadata": {
    "collapsed": false
   },
   "outputs": [
    {
     "data": {
      "text/plain": [
       "33"
      ]
     },
     "execution_count": 25,
     "metadata": {},
     "output_type": "execute_result"
    }
   ],
   "source": [
    "nodeAAA = LNode(33)\n",
    "\n",
    "nodeAAA.val"
   ]
  },
  {
   "cell_type": "code",
   "execution_count": null,
   "metadata": {
    "collapsed": true
   },
   "outputs": [],
   "source": []
  }
 ],
 "metadata": {
  "anaconda-cloud": {},
  "kernelspec": {
   "display_name": "Python [default]",
   "language": "python",
   "name": "python3"
  },
  "language_info": {
   "codemirror_mode": {
    "name": "ipython",
    "version": 3
   },
   "file_extension": ".py",
   "mimetype": "text/x-python",
   "name": "python",
   "nbconvert_exporter": "python",
   "pygments_lexer": "ipython3",
   "version": "3.5.5"
  }
 },
 "nbformat": 4,
 "nbformat_minor": 2
}
