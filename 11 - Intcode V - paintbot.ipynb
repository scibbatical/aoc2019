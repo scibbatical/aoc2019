{
 "cells": [
  {
   "cell_type": "code",
   "execution_count": 1,
   "metadata": {},
   "outputs": [],
   "source": [
    "import numpy as np\n",
    "import matplotlib.pyplot as plt"
   ]
  },
  {
   "cell_type": "markdown",
   "metadata": {},
   "source": [
    "Create an object (it's an element in the program):"
   ]
  },
  {
   "cell_type": "code",
   "execution_count": 2,
   "metadata": {},
   "outputs": [],
   "source": [
    "'''\n",
    "P0. Implement a list\n",
    "'''\n",
    "\n",
    "class LNode:\n",
    "    def __init__(self,val):\n",
    "        self.val = val\n",
    "        self.next = None"
   ]
  },
  {
   "cell_type": "code",
   "execution_count": 3,
   "metadata": {},
   "outputs": [],
   "source": [
    "# Create a function for decomposing the parameter mode\n",
    "\n",
    "def parameter_modes(code):\n",
    "    \n",
    "    # Add leading zeros to make 5 digits\n",
    "    c_str = '0'*(5-len(str(code)))+str(code)\n",
    "    \n",
    "    return [c_str[0],c_str[1],c_str[2], c_str[3:]]"
   ]
  },
  {
   "cell_type": "markdown",
   "metadata": {},
   "source": [
    "#demo\n",
    "#incom_demo = [109,1,204,-1,1001,100,1,100,1008,100,16,101,1006,101,0,99] + np.zeros((1,1000)).astype(int)[0].tolist()\n",
    "#incom_demo = [1102,34915192,34915192,7,4,7,99,0]\n",
    "\n",
    "for i, value in enumerate(incom_demo):\n",
    "    vars()['node'+str(i)]=LNode(value)"
   ]
  },
  {
   "cell_type": "markdown",
   "metadata": {},
   "source": [
    "Create a funciton to run a program:"
   ]
  },
  {
   "cell_type": "code",
   "execution_count": 188,
   "metadata": {},
   "outputs": [],
   "source": [
    "incom0 = np.fromfile('11_input.txt',sep=\",\").astype(int)\n",
    "\n",
    "incom0 = np.append(incom0, np.zeros(1000)).astype(int)\n",
    "\n",
    "for i, value in enumerate(incom0):\n",
    "    vars()['node'+str(i)]=LNode(value)"
   ]
  },
  {
   "cell_type": "code",
   "execution_count": 189,
   "metadata": {},
   "outputs": [
    {
     "data": {
      "text/plain": [
       "1633"
      ]
     },
     "execution_count": 189,
     "metadata": {},
     "output_type": "execute_result"
    }
   ],
   "source": [
    "len(incom0)"
   ]
  },
  {
   "cell_type": "code",
   "execution_count": 190,
   "metadata": {},
   "outputs": [],
   "source": [
    "def intcode_call(signal_input, incom, pointer_position=0, relative_base=0, reinitialize = False):\n",
    "    # Re-read input to reset intcom program\n",
    "    if reinitialize == True:\n",
    "        incom = np.fromfile('11_input.txt',sep=\",\").astype(int)\n",
    "        \n",
    "    for j, value in enumerate(incom):\n",
    "        vars()['node'+str(j)]=LNode(value)\n",
    "\n",
    "    mem = signal_input\n",
    "\n",
    "    # signal_input\n",
    "    #signal_in = signal_input\n",
    "\n",
    "    output = []\n",
    "\n",
    "    output_last = 0\n",
    "    \n",
    "    rel_base = relative_base\n",
    "    i = pointer_position\n",
    "\n",
    "    while i <= len(incom):\n",
    "        \n",
    "        #print(i)\n",
    "\n",
    "        # decode the parameter modes\n",
    "        p_modes = parameter_modes(vars()['node'+str(i)].val)\n",
    "\n",
    "        # build instruction\n",
    "\n",
    "        # retrieve parameters for specific opcode\n",
    "        if p_modes[-1] in ['99']:\n",
    "            instr = [99]\n",
    "            if output_last == 0:\n",
    "                print('Opcode 99 executed.')\n",
    "                print('Hmmm... last instruction was not an output!')\n",
    "            \n",
    "            # Prepare incom for return\n",
    "            incom_out = []\n",
    "            for j in range(len(incom)):\n",
    "                incom_out = incom_out + [vars()['node'+str(j)].val]\n",
    "            print('paintbot program complete')\n",
    "            \n",
    "            output = []\n",
    "            \n",
    "            return output, incom_out, i, rel_base\n",
    "            break\n",
    "        \n",
    "        elif p_modes[-1] in ['01', '02', '07', '08']:\n",
    "            instr = [int(p_modes[-1])]\n",
    "            for j in range(i+1, i+4):\n",
    "                instr += [vars()['node'+str(j)].val]\n",
    "            i += 4\n",
    "\n",
    "        elif p_modes[-1] in ['03', '04','09']:\n",
    "            instr = [int(p_modes[-1])] + [vars()['node'+str(i+1)].val]\n",
    "            i += 2\n",
    "\n",
    "        elif p_modes[-1] in ['05', '06']:\n",
    "            instr = [int(p_modes[-1])]\n",
    "            for j in range(i+1, i+3):\n",
    "                instr += [vars()['node'+str(j)].val]\n",
    "            i += 3\n",
    "\n",
    "        else:\n",
    "            print('Uh oh... intruction not understood')\n",
    "            break\n",
    "            \n",
    "        #print(p_modes)\n",
    "        #print(instr)\n",
    "\n",
    "\n",
    "        # Execute instructions\n",
    "        \n",
    "        # ADDITION # ==========================================================================\n",
    "        if instr[0] == 1:\n",
    "            #print('addition')\n",
    "            output_last = 0\n",
    "            # define a\n",
    "            a = instr[1] # default is immediate mode\n",
    "            if p_modes[2] == '0': # if parameter is position mode\n",
    "                a = vars()['node'+str(instr[1])].val\n",
    "            elif p_modes[2] == '2': # if parameter is in relative mode\n",
    "                if rel_base + instr[1] < 0:\n",
    "                    print('Uh oh... relative base reference is less than 0!')\n",
    "                    break\n",
    "                a = vars()['node'+str(rel_base + instr[1])].val\n",
    "                \n",
    "            # define b\n",
    "            b = instr[2] # default is immediate mode\n",
    "            if p_modes[1] == '0': # if parameter is position mode\n",
    "                b = vars()['node'+str(instr[2])].val\n",
    "            elif p_modes[1] == '2': # if parameter is in relative mode\n",
    "                if rel_base + instr[2] < 0:\n",
    "                    print('Uh oh... relative base reference is less than 0!')\n",
    "                    break\n",
    "                b = vars()['node'+str(rel_base + instr[2])].val\n",
    "\n",
    "            ab = a+b # calculate the overwrite value\n",
    "\n",
    "            # write         \n",
    "            if p_modes[0] == '1': # I think the problem states this will never be the case...\n",
    "                print('uh oh... trying to write in immediate mode???')\n",
    "                break\n",
    "            elif p_modes[0] == '2': # if parameter is in relative mode\n",
    "                if rel_base + instr[3] < 0:\n",
    "                    print('Uh oh... relative base reference is less than 0!')\n",
    "                    break\n",
    "                vars()['node'+str(rel_base + instr[3])].val = ab\n",
    "            else:\n",
    "                vars()['node'+str(instr[3])].val = ab\n",
    "\n",
    "        \n",
    "        # MULTIPLICATION # =========================================================\n",
    "        elif instr[0] == 2:\n",
    "            #print('multiplication')\n",
    "            output_last = 0\n",
    "            # define a\n",
    "            a = instr[1] # default is immediate mode\n",
    "            #print('immediate mode a = ' + str(a))\n",
    "            if p_modes[2] == '0': # if parameter is position mode\n",
    "                #print('position mode a = ' + str(a))\n",
    "                a = vars()['node'+str(instr[1])].val\n",
    "            elif p_modes[2] == '2': # if parameter is in relative mode\n",
    "                if rel_base + instr[1] < 0:\n",
    "                    print('Uh oh... relative base reference is less than 0!')\n",
    "                    break\n",
    "                a = vars()['node'+str(rel_base + instr[1])].val\n",
    "                #print('relative mode a = ' + str(a))\n",
    "\n",
    "            # define b\n",
    "            b = instr[2] # default is immediate mode\n",
    "            if p_modes[1] == '0': # if parameter is position mode\n",
    "                b = vars()['node'+str(instr[2])].val\n",
    "            elif p_modes[1] == '2': # if parameter is in relative mode\n",
    "                if rel_base + instr[2] < 0:\n",
    "                    print('Uh oh... relative base reference is less than 0!')\n",
    "                    break\n",
    "                b = vars()['node'+str(rel_base + instr[2])].val\n",
    "\n",
    "            ab = int(a)*int(b) # calculate the overwrite value\n",
    "\n",
    "            # write         \n",
    "            if p_modes[0] == '1': # I think the problem states this will never be the case...\n",
    "                print('uh oh... trying to write in immediate mode???')\n",
    "                break\n",
    "            elif p_modes[0] == '2': # if parameter is in relative mode\n",
    "                if rel_base + instr[3] < 0:\n",
    "                    print('Uh oh... relative base reference is less than 0!')\n",
    "                    break\n",
    "                vars()['node'+str(rel_base + instr[3])].val = ab\n",
    "            else:\n",
    "                vars()['node'+str(instr[3])].val = ab\n",
    "\n",
    "        # INPUT # =====================================================================        \n",
    "        elif instr[0] == 3:\n",
    "            #print('input')\n",
    "            output_last = 0\n",
    "            # write input (mem)\n",
    "            if p_modes[2] == '1': # I think the problem states this will never be the case...\n",
    "                print('uh oh... trying to write in immediate mode???')\n",
    "                break\n",
    "            elif p_modes[2] == '2': # relative mode\n",
    "                if rel_base + instr[1] < 0:\n",
    "                    print('Uh oh... relative base reference is less than 0!')\n",
    "                    break\n",
    "                vars()['node'+str(rel_base + instr[1])].val = mem#[0]\n",
    "                del mem\n",
    "            else:\n",
    "                #print(len(mem))\n",
    "                vars()['node'+str(instr[1])].val = mem#[0]\n",
    "                del mem\n",
    "        \n",
    "        \n",
    "        # OUTPUT # =================================================================\n",
    "        elif instr[0] == 4:\n",
    "            #print('output')\n",
    "            output_last = 1\n",
    "            # define a\n",
    "            #print('output parameter mode: ' + str(p_modes[2]) +\n",
    "            #      ', parameter: ' + str(instr[1]))\n",
    "            a = instr[1] # default is immediate mode\n",
    "            if p_modes[2] == '0': # if parameter is position mode\n",
    "                a = vars()['node'+str(instr[1])].val\n",
    "            elif p_modes[2] == '2': # relative mode\n",
    "                if rel_base + instr[1] < 0:\n",
    "                    print('Uh oh... relative base reference is less than 0!')\n",
    "                    break\n",
    "                a = vars()['node'+str(rel_base + instr[1])].val\n",
    "                \n",
    "\n",
    "            # write to output\n",
    "            output = output + [a]\n",
    "            #print('output:', output)\n",
    "            if len(output) == 2:\n",
    "                # Repackage the nodes as incom\n",
    "                incom_out = []\n",
    "                for j in range(len(incom)):\n",
    "                    incom_out = incom_out + [vars()['node'+str(j)].val]\n",
    "\n",
    "                return output, incom_out, i, rel_base\n",
    "\n",
    "        \n",
    "        # JUMP IF TRUE # ===========================================================\n",
    "        elif instr[0] == 5:\n",
    "            #print('jump if true')\n",
    "            output_last = 0\n",
    "            # define a\n",
    "            a = instr[1] # default is immediate mode\n",
    "            if p_modes[2] == '0': # if parameter is position mode\n",
    "                #print('retrieving node ' + str(instr[1]))\n",
    "                a = vars()['node'+str(instr[1])].val\n",
    "                #print('a is' + str(a))\n",
    "            elif p_modes[2] == '2': # relative mode\n",
    "                if rel_base + instr[1] < 0:\n",
    "                    print('Uh oh... relative base reference is less than 0!')\n",
    "                    break\n",
    "                a = vars()['node'+str(rel_base + instr[1])].val\n",
    "\n",
    "            # define b\n",
    "            b = instr[2] # default is immediate mode\n",
    "            if p_modes[1] == '0': # if parameter is position mode\n",
    "                b = vars()['node'+str(instr[2])].val\n",
    "            elif p_modes[1] == '2': # relative mode\n",
    "                if rel_base + instr[2] < 0:\n",
    "                    print('Uh oh... relative base reference is less than 0!')\n",
    "                    break\n",
    "                b = vars()['node'+str(rel_base + instr[2])].val\n",
    "\n",
    "            # write         \n",
    "            if p_modes[0] == '1': # I think the problem states this will never be the case...\n",
    "                print('uh oh... trying to write in immediate mode???')\n",
    "                break\n",
    "            elif p_modes[0] == '2': # relative mode\n",
    "                print(\"'Write' fail for jump-if-true. Check for parameter mode 2!\")\n",
    "                break\n",
    "            else:\n",
    "                #print('a is' + str(a))\n",
    "                if a != 0:\n",
    "                    i = b\n",
    "                    \n",
    "                    \n",
    "        # JUMP IF FALSE # ===========================================================\n",
    "        elif instr[0] == 6:\n",
    "            #print('jump if false')\n",
    "            output_last = 0\n",
    "            # define a\n",
    "            a = instr[1] # default is immediate mode\n",
    "            if p_modes[2] == '0': # if parameter is position mode\n",
    "                a = vars()['node'+str(instr[1])].val\n",
    "            elif p_modes[2] == '2': # relative mode\n",
    "                if rel_base + instr[1] < 0:\n",
    "                    print('Uh oh... relative base reference is less than 0!')\n",
    "                    break\n",
    "                a = vars()['node'+str(rel_base + instr[1])].val\n",
    "\n",
    "            # define b\n",
    "            b = instr[2] # default is immediate mode\n",
    "            if p_modes[1] == '0': # if parameter is position mode\n",
    "                b = vars()['node'+str(instr[2])].val\n",
    "            elif p_modes[1] == '2': # relative mode\n",
    "                if rel_base + instr[2] < 0:\n",
    "                    print('Uh oh... relative base reference is less than 0!')\n",
    "                    break\n",
    "                b = vars()['node'+str(rel_base + instr[2])].val\n",
    "\n",
    "            # write         \n",
    "            if p_modes[0] == '1': # I think the problem states this will never be the case...\n",
    "                print('uh oh... trying to write in immediate mode???')\n",
    "                break\n",
    "            elif p_modes[0] == '2': # relative mode\n",
    "                print(\"'Write' fail for jump-if-false. Check for parameter mode 2!\")\n",
    "                break\n",
    "            else:\n",
    "                if a == 0:\n",
    "                    i = b\n",
    "                    \n",
    "        # LESS THAN # ==========================================================================\n",
    "        elif instr[0] == 7:\n",
    "            #print('less than')\n",
    "            output_last = 0\n",
    "            # define a\n",
    "            a = instr[1] # default is immediate mode\n",
    "            if p_modes[2] == '0': # if parameter is position mode\n",
    "                a = vars()['node'+str(instr[1])].val\n",
    "            elif p_modes[2] == '2': # relative mode\n",
    "                if rel_base + instr[1] < 0:\n",
    "                    print('Uh oh... relative base reference is less than 0!')\n",
    "                    break\n",
    "                a = vars()['node'+str(rel_base + instr[1])].val\n",
    "\n",
    "            # define b\n",
    "            b = instr[2] # default is immediate mode\n",
    "            if p_modes[1] == '0': # if parameter is position mode\n",
    "                b = vars()['node'+str(instr[2])].val\n",
    "            elif p_modes[1] == '2': # relative mode\n",
    "                if rel_base + instr[2] < 0:\n",
    "                    print('Uh oh... relative base reference is less than 0!')\n",
    "                    break\n",
    "                b = vars()['node'+str(rel_base + instr[2])].val\n",
    "\n",
    "            # apply test\n",
    "            if a < b:\n",
    "                #print(str(a) + 'is less than' + str(b))\n",
    "                ab = 1\n",
    "            else:\n",
    "                #print(str(a) + 'is NOT less than' + str(b))\n",
    "                ab = 0                \n",
    "\n",
    "            # write         \n",
    "            if p_modes[0] == '1': # I think the problem states this will never be the case...\n",
    "                print('uh oh... trying to write in immediate mode???')\n",
    "                break\n",
    "            elif p_modes[0] == '2': # relative mode\n",
    "                vars()['node'+str(rel_base + instr[3])].val = ab \n",
    "            else:\n",
    "                #print('setting node ' + str(instr[3]) + 'to be ' + str(ab))\n",
    "                vars()['node'+str(instr[3])].val = ab \n",
    "\n",
    "        # EQUALS # ========================================================================\n",
    "        elif instr[0] == 8:\n",
    "            #print('equals')\n",
    "            output_last = 0\n",
    "            # define a\n",
    "            a = instr[1] # default is immediate mode\n",
    "            if p_modes[2] == '0': # if parameter is position mode\n",
    "                a = vars()['node'+str(instr[1])].val\n",
    "            elif p_modes[2] == '2': # relative mode\n",
    "                if rel_base + instr[1] < 0:\n",
    "                    print('Uh oh... relative base reference is less than 0!')\n",
    "                    break\n",
    "                a = vars()['node'+str(rel_base + instr[1])].val\n",
    "\n",
    "            # define b\n",
    "            b = instr[2] # default is immediate mode\n",
    "            if p_modes[1] == '0': # if parameter is position mode\n",
    "                b = vars()['node'+str(instr[2])].val\n",
    "            elif p_modes[1] == '2': # relative mode\n",
    "                if rel_base + instr[2] < 0:\n",
    "                    print('Uh oh... relative base reference is less than 0!')\n",
    "                    break\n",
    "                b = vars()['node'+str(rel_base + instr[2])].val\n",
    "\n",
    "            # apply test\n",
    "            if a == b:\n",
    "                ab = 1\n",
    "            else:\n",
    "                ab = 0                \n",
    "\n",
    "            # write         \n",
    "            if p_modes[0] == '1': # I think the problem states this will never be the case...\n",
    "                print('uh oh... trying to write in immediate mode???')\n",
    "                break\n",
    "            elif p_modes[0] == '2': # relative mode\n",
    "                vars()['node'+str(rel_base + instr[3])].val = ab\n",
    "            else:\n",
    "                vars()['node'+str(instr[3])].val = ab\n",
    "                \n",
    "        # ADJUST RELATIVE BASE # =============================================================\n",
    "        elif instr[0] == 9:\n",
    "            #print('adjust relative base')\n",
    "            output_last = 0\n",
    "            # define a\n",
    "            a = instr[1] # default is immediate mode\n",
    "            if p_modes[2] == '0': # if parameter is position mode\n",
    "                a = vars()['node'+str(instr[1])].val\n",
    "            elif p_modes[2] == '2': # relative mode\n",
    "                if rel_base + instr[1] < 0:\n",
    "                    print('Uh oh... relative base reference is less than 0!')\n",
    "                    break\n",
    "                a = vars()['node'+str(rel_base + instr[1])].val\n",
    "                \n",
    "            # execute: adjust relative base\n",
    "            if p_modes[1] == '1': # I think the problem states this will never be the case...\n",
    "                print('uh oh... trying to write in immediate mode???')\n",
    "                break\n",
    "            elif p_modes[1] == '2': # relative mode\n",
    "                print(\"'Write' fail for jump-if-false. Check for parameter mode 2!\")\n",
    "                break\n",
    "            else:\n",
    "                rel_base += a\n",
    "                #print('Relative base now:'+str(rel_base))\n",
    "                \n",
    "\n",
    "        else:\n",
    "            print('Instruction not understood!')\n",
    "            break\n",
    "\n",
    "    if i > len(incom):\n",
    "        print('End of input code reached.')\n",
    "        \n",
    "    # Repackage the nodes as incom\n",
    "    incom_out = []\n",
    "    for j in range(len(incom)):\n",
    "        incom_out = incom_out + [vars()['node'+str(j)].val]\n",
    "        \n",
    "    print('returning at end of intcode')\n",
    "\n",
    "    return output, incom_out, i, rel_base"
   ]
  },
  {
   "cell_type": "code",
   "execution_count": null,
   "metadata": {},
   "outputs": [],
   "source": []
  },
  {
   "cell_type": "code",
   "execution_count": null,
   "metadata": {},
   "outputs": [],
   "source": []
  },
  {
   "cell_type": "code",
   "execution_count": 90,
   "metadata": {},
   "outputs": [
    {
     "name": "stdout",
     "output_type": "stream",
     "text": [
      "Opcode 99 executed.\n",
      "Hmmm... last instruction was not an output!\n",
      "paintbot program complete\n"
     ]
    },
    {
     "data": {
      "text/plain": [
       "201"
      ]
     },
     "execution_count": 90,
     "metadata": {},
     "output_type": "execute_result"
    }
   ],
   "source": [
    "# create a test for the jump if false\n",
    "# initial index should be 6\n",
    "\n",
    "# if it works, 101 should appear in idx 0\n",
    "# if not, 201 should appear in idx 0\n",
    "\n",
    "incom_test = []\n",
    "for i in range(20):\n",
    "    incom_test += [i]\n",
    "\n",
    "incom_test[5:9] = [99,2206,15,16]\n",
    "\n",
    "incom_test[1:5] = [1101,1,100,0]\n",
    "\n",
    "incom_test[9:14] = [1101,1,200,0,99]\n",
    "\n",
    "incom_test[15:17] = [1,1]\n",
    "\n",
    "intcode_output, incom, pointer, relative_base = intcode_call(signal_input=1, incom=incom_test,\n",
    "                                                             pointer_position=6, relative_base=0)\n",
    "\n",
    "incom[0]"
   ]
  },
  {
   "cell_type": "code",
   "execution_count": 114,
   "metadata": {},
   "outputs": [
    {
     "name": "stdout",
     "output_type": "stream",
     "text": [
      "uh oh... trying to write in immediate mode???\n",
      "returning at end of intcode\n"
     ]
    },
    {
     "data": {
      "text/plain": [
       "[0, 1, 2, 3, 4, 99, 103, 14, 99, 9, 10, 11, 12, 13, 14, 15, 16, 17, 18, 19]"
      ]
     },
     "execution_count": 114,
     "metadata": {},
     "output_type": "execute_result"
    }
   ],
   "source": [
    "# create a test for \"input\"\n",
    "# initial index should be 6\n",
    "\n",
    "\n",
    "incom_test = []\n",
    "for i in range(20):\n",
    "    incom_test += [i]\n",
    "\n",
    "incom_test[5:9] = [99,103,14,99]\n",
    "\n",
    "#incom_test[1:5] = [1101,1,100,0]\n",
    "\n",
    "#incom_test[9:14] = [1101,1,200,0,99]\n",
    "\n",
    "#incom_test[15:17] = [1,1]\n",
    "\n",
    "intcode_output, incom, pointer, relative_base = intcode_call(signal_input=7, incom=incom_test,\n",
    "                                                             pointer_position=6, relative_base=10)\n",
    "\n",
    "incom"
   ]
  },
  {
   "cell_type": "code",
   "execution_count": 126,
   "metadata": {},
   "outputs": [
    {
     "name": "stdout",
     "output_type": "stream",
     "text": [
      "Opcode 99 executed.\n",
      "Hmmm... last instruction was not an output!\n",
      "paintbot program complete\n"
     ]
    },
    {
     "data": {
      "text/plain": [
       "8"
      ]
     },
     "execution_count": 126,
     "metadata": {},
     "output_type": "execute_result"
    }
   ],
   "source": [
    "# create a test for \"adjust relative base\"\n",
    "# initial index should be 6\n",
    "\n",
    "# if it works, 101 should appear in idx 0\n",
    "# if not, 201 should appear in idx 0\n",
    "\n",
    "incom_test = []\n",
    "for i in range(20):\n",
    "    incom_test += [i]\n",
    "\n",
    "incom_test[5:9] = [99,209,4,99]\n",
    "\n",
    "incom_test[14] = -2\n",
    "\n",
    "#incom_test[9:14] = [1101,1,200,0,99]\n",
    "\n",
    "#incom_test[15:17] = [1,1]\n",
    "\n",
    "intcode_output, incom, pointer, relative_base = intcode_call(signal_input=7, incom=incom_test,\n",
    "                                                             pointer_position=6, relative_base=10)\n",
    "\n",
    "relative_base"
   ]
  },
  {
   "cell_type": "code",
   "execution_count": 152,
   "metadata": {},
   "outputs": [],
   "source": [
    "# test outputs a copy of itself - PASS\n",
    "test = np.append([109,1,204,-1,1001,100,1,100,1008,100,16,101,1006,101,0,99], np.zeros(100)).astype(int)\n",
    "test2 = [1102,34915192,34915192,7,4,7,99,0] # should output a 16-digit number - PASS\n",
    "test3 = [104,1125899906842624,99] # should output the large number - PASS\n",
    "test4 = [3,0,4,0,99] # outputs whatever is input - PASS\n",
    "test5 = [1002,4,3,4,33] # 99 should be written to position 4 - PASS\n",
    "test6 = np.fromfile('05_input.txt',sep=\",\").astype(int) # input of 1 should give 5346030, input 5 should give 513116 - PASS\n",
    "# test 7 - output 999 if the input value is below 8 - PASS\n",
    "#          output 1000 if the input value is equal to 8 - PASS\n",
    "#          or output 1001 if the input value is greater than 8 - PASS\n",
    "test7 = [3,21,1008,21,8,20,1005,20,22,107,8,21,20,1006,20,31,1106,0,36,98,0,0,1002,21,125,20,4,20,1105,1,46,104,999,1105,1,46,1101,1000,1,20,4,20,1105,1,46,98,99]"
   ]
  },
  {
   "cell_type": "code",
   "execution_count": 169,
   "metadata": {},
   "outputs": [
    {
     "name": "stdout",
     "output_type": "stream",
     "text": [
      "Opcode 99 executed.\n",
      "Hmmm... last instruction was not an output!\n",
      "paintbot program complete\n"
     ]
    },
    {
     "data": {
      "text/plain": [
       "[1001]"
      ]
     },
     "execution_count": 169,
     "metadata": {},
     "output_type": "execute_result"
    }
   ],
   "source": [
    "intcode_output, incom, pointer, relative_base = intcode_call(signal_input=10, incom=test7,\n",
    "                                                             pointer_position=0, relative_base=0)\n",
    "intcode_output"
   ]
  },
  {
   "cell_type": "code",
   "execution_count": 150,
   "metadata": {},
   "outputs": [
    {
     "name": "stdout",
     "output_type": "stream",
     "text": [
      "paintbot program complete\n"
     ]
    },
    {
     "data": {
      "text/plain": [
       "([], [4, 3, 99, 28])"
      ]
     },
     "execution_count": 150,
     "metadata": {},
     "output_type": "execute_result"
    }
   ],
   "source": [
    "intcode_output, incom, pointer, relative_base = intcode_call(signal_input=[], incom=[4,3,99,28],\n",
    "                                                             pointer_position=0, relative_base=0)\n",
    "intcode_output, incom"
   ]
  },
  {
   "cell_type": "code",
   "execution_count": null,
   "metadata": {},
   "outputs": [],
   "source": []
  },
  {
   "cell_type": "markdown",
   "metadata": {},
   "source": [
    "Test the incode:"
   ]
  },
  {
   "cell_type": "code",
   "execution_count": 52,
   "metadata": {},
   "outputs": [
    {
     "data": {
      "text/plain": [
       "[1, 0]"
      ]
     },
     "execution_count": 52,
     "metadata": {},
     "output_type": "execute_result"
    }
   ],
   "source": [
    "output, incom, pointer, relative_base = intcode_call(signal_input=0, incom=incom0, pointer_position=0, relative_base=0)\n",
    "output"
   ]
  },
  {
   "cell_type": "markdown",
   "metadata": {},
   "source": [
    "I need to create the map and bot."
   ]
  },
  {
   "cell_type": "code",
   "execution_count": 57,
   "metadata": {},
   "outputs": [],
   "source": [
    "# Create a bot class:\n",
    "class Bot:\n",
    "    def __init__(self,coord,direction):\n",
    "        self.coord = coord\n",
    "        self.direction = 0\n",
    "        \n",
    "    def move(self,instruction):\n",
    "        # given an instruction from the intcode, make a rotation\n",
    "        if instruction == 0: # should turn left\n",
    "            self.direction -= 90\n",
    "            if self.direction < 0:\n",
    "                self.direction = 270\n",
    "        if instruction == 1: # should turn right\n",
    "            self.direction += 90\n",
    "            if self.direction >= 360:\n",
    "                self.direction = 0\n",
    "                \n",
    "        #print('New Direction: ' + str(self.direction))\n",
    "        \n",
    "        # move bot in the appropriate direction\n",
    "        if self.direction == 0: # move north\n",
    "            self.coord[0] -=1\n",
    "        if self.direction == 90: # move east\n",
    "            self.coord[1] +=1\n",
    "        if self.direction == 180: # move south\n",
    "            self.coord[0] +=1\n",
    "        if self.direction == 270: # move west\n",
    "            self.coord[1] -=1\n",
    "            \n",
    "    def sense(self,paint_map):\n",
    "        #print(paint_map[self.coord[0],self.coord[1]])\n",
    "        if paint_map[self.coord[0],self.coord[1]] == 1:\n",
    "            return 1\n",
    "        else:\n",
    "            return 0\n",
    "    \n",
    "    def paint(self,paint_map,instruction):\n",
    "        paint_map[self.coord[0],self.coord[1]] = instruction\n",
    "        return paint_map\n",
    "        "
   ]
  },
  {
   "cell_type": "markdown",
   "metadata": {},
   "source": [
    "Create a test for the bot..."
   ]
  },
  {
   "cell_type": "code",
   "execution_count": 54,
   "metadata": {},
   "outputs": [
    {
     "data": {
      "text/plain": [
       "<matplotlib.image.AxesImage at 0x874a748>"
      ]
     },
     "execution_count": 54,
     "metadata": {},
     "output_type": "execute_result"
    },
    {
     "data": {
      "image/png": "[encoded data removed]",
      "text/plain": [
       "<Figure size 432x288 with 1 Axes>"
      ]
     },
     "metadata": {
      "needs_background": "light"
     },
     "output_type": "display_data"
    }
   ],
   "source": [
    "map_test = np.zeros((20,20))-1\n",
    "test_instr = [[0,1],[1,2],[0,3],[1,4],[0,5],[0,6],[1,7],[0,8],[1,9],[0,10],[0,11],[1,12],[1,13],[1,14],[1,15],[1,16]]\n",
    "\n",
    "test_bot = Bot([10,10],0)\n",
    "\n",
    "#map_test[test_bot.coord[0],test_bot.coord[1]] += 1\n",
    "\n",
    "for i in range(len(test_instr)):\n",
    "    test_bot.sense\n",
    "    map_test = test_bot.paint(map_test,test_instr[i][1])\n",
    "    test_bot.move(test_instr[i][0])\n",
    "\n",
    "plt.imshow(map_test)"
   ]
  },
  {
   "cell_type": "markdown",
   "metadata": {},
   "source": [
    "Seems to be working. Production time!"
   ]
  },
  {
   "cell_type": "code",
   "execution_count": 131,
   "metadata": {},
   "outputs": [
    {
     "name": "stdout",
     "output_type": "stream",
     "text": [
      "[1, 0] 1633 15 0\n",
      "Opcode 99 executed.\n",
      "Hmmm... last instruction was not an output!\n",
      "paintbot program complete\n",
      "breaking out of bot-paint while loop\n"
     ]
    }
   ],
   "source": [
    "incom0 = np.fromfile('11_input.txt',sep=\",\").astype(int)\n",
    "\n",
    "incom0 = np.append(incom0, np.zeros(1000)).astype(int)\n",
    "\n",
    "# Let's put the bot at 100,100 of a 200 x 200 map\n",
    "# Let's say that the unpainted values are -1, black are 0, and white are 1\n",
    "# I'll need to remember that the computer should consider unpainted cells black.\n",
    "paint_map = np.zeros((200,200))-1\n",
    "\n",
    "# Initialize paintbot\n",
    "paintbot = Bot([100,100],0)\n",
    "\n",
    "# initial call - writes interim code, positions, etc, first instruction\n",
    "intcode_output, incom, pointer, relative_base = intcode_call(signal_input=0, incom=incom0, pointer_position=0, relative_base=0)\n",
    "print(intcode_output, len(incom), pointer, relative_base)\n",
    "\n",
    "# bot paint\n",
    "paint_map = paintbot.paint(paint_map,intcode_output[0])\n",
    "# move bot\n",
    "paintbot.move(intcode_output[1])\n",
    "\n",
    "while intcode_output != []:\n",
    "    #sense paint\n",
    "    paint_code = paintbot.sense(paint_map)\n",
    "    # call intcode\n",
    "    intcode_output, incom, pointer, relative_base = intcode_call(signal_input=paint_code, incom=incom, pointer_position=pointer, relative_base=relative_base)\n",
    "    if intcode_output == []:\n",
    "        print('breaking out of bot-paint while loop')\n",
    "        break\n",
    "    # paint\n",
    "    paint_map = paintbot.paint(paint_map,intcode_output[0])\n",
    "    # move bot\n",
    "    paintbot.move(intcode_output[1])"
   ]
  },
  {
   "cell_type": "code",
   "execution_count": 132,
   "metadata": {},
   "outputs": [
    {
     "data": {
      "text/plain": [
       "<matplotlib.image.AxesImage at 0xce34588>"
      ]
     },
     "execution_count": 132,
     "metadata": {},
     "output_type": "execute_result"
    },
    {
     "data": {
      "image/png": "[encoded data removed]",
      "text/plain": [
       "<Figure size 576x576 with 1 Axes>"
      ]
     },
     "metadata": {
      "needs_background": "light"
     },
     "output_type": "display_data"
    }
   ],
   "source": [
    "plt.figure(figsize=(8,8))\n",
    "plt.imshow(paint_map)"
   ]
  },
  {
   "cell_type": "code",
   "execution_count": 12,
   "metadata": {},
   "outputs": [
    {
     "data": {
      "text/plain": [
       "(1930,)"
      ]
     },
     "execution_count": 12,
     "metadata": {},
     "output_type": "execute_result"
    }
   ],
   "source": [
    "# Find the cells that have been painted:\n",
    "np.where(paint_map != -1)[0].shape"
   ]
  },
  {
   "cell_type": "markdown",
   "metadata": {},
   "source": [
    "### Part 2"
   ]
  },
  {
   "cell_type": "code",
   "execution_count": 191,
   "metadata": {
    "scrolled": false
   },
   "outputs": [
    {
     "name": "stdout",
     "output_type": "stream",
     "text": [
      "[0, 1] 1633 317 633\n",
      "Opcode 99 executed.\n",
      "Hmmm... last instruction was not an output!\n",
      "paintbot program complete\n"
     ]
    },
    {
     "data": {
      "text/plain": [
       "<matplotlib.colorbar.Colorbar at 0x112365f8>"
      ]
     },
     "execution_count": 191,
     "metadata": {},
     "output_type": "execute_result"
    },
    {
     "data": {
      "image/png": "[encoded data removed]",
      "text/plain": [
       "<Figure size 576x576 with 2 Axes>"
      ]
     },
     "metadata": {
      "needs_background": "light"
     },
     "output_type": "display_data"
    }
   ],
   "source": [
    "incom0 = np.fromfile('11_input.txt',sep=\",\").astype(int)\n",
    "\n",
    "incom0 = np.append(incom0, np.zeros(1000)).astype(int)\n",
    "\n",
    "# Let's put the bot at 10,10 of a 60 x 60 map\n",
    "# Let's say that the unpainted values are -1, black are 0, and white are 1\n",
    "paint_map = np.zeros((60,60))-1\n",
    "paint_map_trace = np.zeros((60,60))\n",
    "pmti = 0 # counter for paint map trace\n",
    "\n",
    "# Initialize paintbot\n",
    "paintbot = Bot([10,10],0)\n",
    "\n",
    "# initial call - this time on a white cell!\n",
    "intcode_output, incom, pointer, rel_base = intcode_call(signal_input=1, incom=incom0,\n",
    "                                                             pointer_position=0, relative_base=0)\n",
    "print(intcode_output, len(incom), pointer, rel_base)\n",
    "\n",
    "# bot paint\n",
    "paint_map = paintbot.paint(paint_map,intcode_output[0])\n",
    "paint_map_trace = paintbot.paint(paint_map_trace,pmti)\n",
    "# move bot\n",
    "paintbot.move(intcode_output[1])\n",
    "\n",
    "while intcode_output != []:\n",
    "#for i in range(1):\n",
    "    pmti += 1\n",
    "    #sense paint\n",
    "    paint_code = paintbot.sense(paint_map)\n",
    "    # call intcode\n",
    "    intcode_output, incom, pointer, rel_base = intcode_call(signal_input=paint_code,\n",
    "                                                                 incom=incom, pointer_position=pointer,\n",
    "                                                                 relative_base=rel_base)\n",
    "    if intcode_output == []:\n",
    "        break\n",
    "    # paint\n",
    "    #print(intcode_output)\n",
    "    paint_map = paintbot.paint(paint_map,intcode_output[0])\n",
    "    paint_map_trace = paintbot.paint(paint_map_trace,pmti)\n",
    "    #plt.imshow(paint_map)\n",
    "    # move bot\n",
    "    paintbot.move(intcode_output[1])\n",
    "    \n",
    "plt.figure(figsize=(8,8))\n",
    "plt.imshow(paint_map)\n",
    "plt.colorbar()"
   ]
  },
  {
   "cell_type": "code",
   "execution_count": 187,
   "metadata": {},
   "outputs": [
    {
     "data": {
      "text/plain": [
       "<matplotlib.colorbar.Colorbar at 0x1011ebe0>"
      ]
     },
     "execution_count": 187,
     "metadata": {},
     "output_type": "execute_result"
    },
    {
     "data": {
      "image/png": "[encoded data removed]",
      "text/plain": [
       "<Figure size 576x576 with 2 Axes>"
      ]
     },
     "metadata": {
      "needs_background": "light"
     },
     "output_type": "display_data"
    }
   ],
   "source": [
    "plt.figure(figsize=(8,8))\n",
    "plt.imshow(paint_map_trace)\n",
    "plt.colorbar()"
   ]
  },
  {
   "cell_type": "code",
   "execution_count": 41,
   "metadata": {},
   "outputs": [
    {
     "name": "stdout",
     "output_type": "stream",
     "text": [
      "[0, 1] 1633 475 841\n"
     ]
    }
   ],
   "source": [
    "print(intcode_output, len(incom), pointer, relative_base)"
   ]
  },
  {
   "cell_type": "code",
   "execution_count": 49,
   "metadata": {},
   "outputs": [
    {
     "data": {
      "text/plain": [
       "[109, -2, 2106, 0, 0, 463, 109, 4, 2102, 1]"
      ]
     },
     "execution_count": 49,
     "metadata": {},
     "output_type": "execute_result"
    }
   ],
   "source": [
    "investigate = incom\n",
    "investigate[490:500]"
   ]
  },
  {
   "cell_type": "code",
   "execution_count": 45,
   "metadata": {},
   "outputs": [
    {
     "data": {
      "text/plain": [
       "0"
      ]
     },
     "execution_count": 45,
     "metadata": {},
     "output_type": "execute_result"
    }
   ],
   "source": [
    "investigate[10]"
   ]
  },
  {
   "cell_type": "code",
   "execution_count": 33,
   "metadata": {},
   "outputs": [
    {
     "data": {
      "text/plain": [
       "[]"
      ]
     },
     "execution_count": 33,
     "metadata": {},
     "output_type": "execute_result"
    }
   ],
   "source": [
    "incom[630:700]"
   ]
  },
  {
   "cell_type": "code",
   "execution_count": 96,
   "metadata": {},
   "outputs": [
    {
     "data": {
      "text/plain": [
       "4"
      ]
     },
     "execution_count": 96,
     "metadata": {},
     "output_type": "execute_result"
    }
   ],
   "source": [
    "mem=[4]\n",
    "mem[0]"
   ]
  },
  {
   "cell_type": "code",
   "execution_count": 130,
   "metadata": {},
   "outputs": [
    {
     "data": {
      "text/plain": [
       "array([[ 0.,  0.,  0.,  0.,  0.],\n",
       "       [-1.,  0.,  0.,  0.,  0.],\n",
       "       [-1.,  0.,  0.,  0.,  0.],\n",
       "       [ 0.,  0.,  0.,  0.,  0.],\n",
       "       [ 0.,  0.,  0.,  0.,  0.]])"
      ]
     },
     "execution_count": 130,
     "metadata": {},
     "output_type": "execute_result"
    }
   ],
   "source": [
    "paint_map[10:15,10:15]"
   ]
  },
  {
   "cell_type": "code",
   "execution_count": 185,
   "metadata": {},
   "outputs": [
    {
     "data": {
      "text/plain": [
       "[0]"
      ]
     },
     "execution_count": 185,
     "metadata": {},
     "output_type": "execute_result"
    }
   ],
   "source": [
    "mem = [0]\n",
    "mem"
   ]
  },
  {
   "cell_type": "code",
   "execution_count": 186,
   "metadata": {},
   "outputs": [
    {
     "data": {
      "text/plain": [
       "0"
      ]
     },
     "execution_count": 186,
     "metadata": {},
     "output_type": "execute_result"
    }
   ],
   "source": [
    "mem[0]"
   ]
  },
  {
   "cell_type": "code",
   "execution_count": null,
   "metadata": {},
   "outputs": [],
   "source": []
  }
 ],
 "metadata": {
  "anaconda-cloud": {},
  "kernelspec": {
   "display_name": "Python 3",
   "language": "python",
   "name": "python3"
  },
  "language_info": {
   "codemirror_mode": {
    "name": "ipython",
    "version": 3
   },
   "file_extension": ".py",
   "mimetype": "text/x-python",
   "name": "python",
   "nbconvert_exporter": "python",
   "pygments_lexer": "ipython3",
   "version": "3.7.3"
  }
 },
 "nbformat": 4,
 "nbformat_minor": 2
}
