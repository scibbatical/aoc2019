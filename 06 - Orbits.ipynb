{
 "cells": [
  {
   "cell_type": "code",
   "execution_count": 2,
   "metadata": {
    "collapsed": true
   },
   "outputs": [],
   "source": [
    "import numpy as np"
   ]
  },
  {
   "cell_type": "code",
   "execution_count": 35,
   "metadata": {
    "collapsed": false
   },
   "outputs": [
    {
     "data": {
      "text/plain": [
       "array(['N66)QHW', 'JLG)GBP', '12Q)F84', 'JMQ)QDZ', '1FF)45G'], dtype='<U7')"
      ]
     },
     "execution_count": 35,
     "metadata": {},
     "output_type": "execute_result"
    }
   ],
   "source": [
    "incom = np.loadtxt('06_input.txt',delimiter=\" \", comments=None,dtype=str)\n",
    "\n",
    "incom[:5]"
   ]
  },
  {
   "cell_type": "code",
   "execution_count": 7,
   "metadata": {
    "collapsed": true
   },
   "outputs": [],
   "source": [
    "# demo\n",
    "#incom = np.array(['COM)B','B)C','C)D','D)E','E)F','B)G','G)H','D)I','E)J','J)K','K)L'])"
   ]
  },
  {
   "cell_type": "code",
   "execution_count": 25,
   "metadata": {
    "collapsed": false
   },
   "outputs": [
    {
     "data": {
      "text/plain": [
       "(1444,)"
      ]
     },
     "execution_count": 25,
     "metadata": {},
     "output_type": "execute_result"
    }
   ],
   "source": [
    "incom.shape"
   ]
  },
  {
   "cell_type": "code",
   "execution_count": 36,
   "metadata": {
    "collapsed": false
   },
   "outputs": [],
   "source": [
    "# Split the input \"phrases\" into individual pieces\n",
    "inarr = []\n",
    "\n",
    "for i in range(len(incom)):\n",
    "    inarr.append(incom[i].split(\")\"))\n",
    "    \n",
    "inarr = np.array(inarr)"
   ]
  },
  {
   "cell_type": "code",
   "execution_count": 89,
   "metadata": {
    "collapsed": false
   },
   "outputs": [],
   "source": [
    "# Create a class\n",
    "\n",
    "class Body:\n",
    "    def __init__(self,name):\n",
    "        self.name = name\n",
    "        self.orbits = None\n",
    "        self.hosts = []\n",
    "        \n",
    "        bodies.append(self.name)\n",
    "        \n",
    "    def connect(self,little):\n",
    "        self.hosts.append(little)\n",
    "        little.orbits = self\n",
    "        \n",
    "    def sum_orbit(self,k):\n",
    "        if self.orbits == COM:\n",
    "            return k+1\n",
    "        else:\n",
    "            return self.orbits.sum_orbit(k+1)\n",
    "    \n",
    "    def track_orbit(self,path):\n",
    "        if self.orbits == COM:\n",
    "            path.append(self.orbits.name)\n",
    "            return path\n",
    "        else:\n",
    "            path.append(self.orbits.name)\n",
    "            return self.orbits.track_orbit(path)\n",
    "        \n",
    "        "
   ]
  },
  {
   "cell_type": "code",
   "execution_count": 90,
   "metadata": {
    "collapsed": false,
    "scrolled": true
   },
   "outputs": [],
   "source": [
    "# Use a list to track created bodies\n",
    "bodies = []\n",
    "\n",
    "# Create the Center of Mass\n",
    "COM = Body('COM')\n",
    "\n",
    "# Create all other bodies\n",
    "for i in range(len(inarr)):\n",
    "    if inarr[i,0] not in bodies:\n",
    "        vars()[str(inarr[i,0])] = Body(str(inarr[i,0]))\n",
    "    if inarr[i,1] not in bodies:\n",
    "        vars()[str(inarr[i,1])] = Body(str(inarr[i,1]))\n",
    "\n",
    "# Then connect 'em up!\n",
    "for i in range(len(inarr)):\n",
    "    vars()[str(inarr[i,0])].connect(vars()[str(inarr[i,1])])\n"
   ]
  },
  {
   "cell_type": "code",
   "execution_count": 54,
   "metadata": {
    "collapsed": false
   },
   "outputs": [
    {
     "data": {
      "text/plain": [
       "241064"
      ]
     },
     "execution_count": 54,
     "metadata": {},
     "output_type": "execute_result"
    }
   ],
   "source": [
    "# Summing up the orbits...\n",
    "total_orbits = 0\n",
    "for body in bodies:\n",
    "    #print(body.name)\n",
    "    if body != 'COM':\n",
    "        total_orbits += vars()[str(body)].sum_orbit(0)\n",
    "\n",
    "total_orbits"
   ]
  },
  {
   "cell_type": "markdown",
   "metadata": {},
   "source": [
    "Part 2 - I added a function to the Body class..."
   ]
  },
  {
   "cell_type": "code",
   "execution_count": 91,
   "metadata": {
    "collapsed": false
   },
   "outputs": [],
   "source": [
    "# Find the \"path\" back to the COM\n",
    "YOU_path = YOU.track_orbit([])\n",
    "SAN_path = SAN.track_orbit([])"
   ]
  },
  {
   "cell_type": "code",
   "execution_count": 102,
   "metadata": {
    "collapsed": false
   },
   "outputs": [
    {
     "data": {
      "text/plain": [
       "418"
      ]
     },
     "execution_count": 102,
     "metadata": {},
     "output_type": "execute_result"
    }
   ],
   "source": [
    "# Determine the length of the YOU_path that doesn't match the SAN_patch, and vice versa\n",
    "YOU_to_join = len(set(YOU_path)-set(SAN_path))\n",
    "SAN_to_join = len(set(SAN_path)-set(YOU_path))\n",
    "\n",
    "# Add these values to get the number of orbital transfers\n",
    "YOU_to_join + SAN_to_join"
   ]
  }
 ],
 "metadata": {
  "anaconda-cloud": {},
  "kernelspec": {
   "display_name": "Python [default]",
   "language": "python",
   "name": "python3"
  },
  "language_info": {
   "codemirror_mode": {
    "name": "ipython",
    "version": 3
   },
   "file_extension": ".py",
   "mimetype": "text/x-python",
   "name": "python",
   "nbconvert_exporter": "python",
   "pygments_lexer": "ipython3",
   "version": "3.5.5"
  }
 },
 "nbformat": 4,
 "nbformat_minor": 1
}
