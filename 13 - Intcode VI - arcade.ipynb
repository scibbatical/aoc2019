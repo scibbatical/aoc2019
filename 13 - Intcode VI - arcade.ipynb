{
 "cells": [
  {
   "cell_type": "code",
   "execution_count": 1,
   "metadata": {},
   "outputs": [],
   "source": [
    "import numpy as np\n",
    "import matplotlib.pyplot as plt"
   ]
  },
  {
   "cell_type": "markdown",
   "metadata": {},
   "source": [
    "Create an object (it's an element in the program):"
   ]
  },
  {
   "cell_type": "code",
   "execution_count": 2,
   "metadata": {},
   "outputs": [],
   "source": [
    "'''\n",
    "P0. Implement a list\n",
    "'''\n",
    "\n",
    "class LNode:\n",
    "    def __init__(self,val):\n",
    "        self.val = val\n",
    "        self.next = None"
   ]
  },
  {
   "cell_type": "code",
   "execution_count": 3,
   "metadata": {},
   "outputs": [],
   "source": [
    "# Create a function for decomposing the parameter mode\n",
    "\n",
    "def parameter_modes(code):\n",
    "    \n",
    "    # Add leading zeros to make 5 digits\n",
    "    c_str = '0'*(5-len(str(code)))+str(code)\n",
    "    \n",
    "    return [c_str[0],c_str[1],c_str[2], c_str[3:]]"
   ]
  },
  {
   "cell_type": "markdown",
   "metadata": {},
   "source": [
    "Create a funciton to run a program:"
   ]
  },
  {
   "cell_type": "code",
   "execution_count": 7,
   "metadata": {},
   "outputs": [],
   "source": [
    "incom0 = np.fromfile('13_input.txt',sep=\",\").astype(int)\n",
    "\n",
    "incom0 = np.append(incom0, np.zeros(1000)).astype(int)\n",
    "\n",
    "for i, value in enumerate(incom0):\n",
    "    vars()['node'+str(i)]=LNode(value)"
   ]
  },
  {
   "cell_type": "code",
   "execution_count": 8,
   "metadata": {},
   "outputs": [
    {
     "data": {
      "text/plain": [
       "3752"
      ]
     },
     "execution_count": 8,
     "metadata": {},
     "output_type": "execute_result"
    }
   ],
   "source": [
    "len(incom0)"
   ]
  },
  {
   "cell_type": "code",
   "execution_count": 89,
   "metadata": {},
   "outputs": [],
   "source": [
    "def intcode_call(signal_input, incom, pointer_position=0, relative_base=0, reinitialize = False):\n",
    "    # Re-read input to reset intcom program\n",
    "    if reinitialize == True:\n",
    "        incom = np.fromfile('13_input.txt',sep=\",\").astype(int)\n",
    "        \n",
    "    for j, value in enumerate(incom):\n",
    "        vars()['node'+str(j)]=LNode(value)\n",
    "\n",
    "    mem = signal_input\n",
    "\n",
    "    output = []\n",
    "    \n",
    "    rel_base = relative_base\n",
    "    i = pointer_position\n",
    "\n",
    "    while i <= len(incom):\n",
    "        \n",
    "        #print(i)\n",
    "\n",
    "        # decode the parameter modes\n",
    "        p_modes = parameter_modes(vars()['node'+str(i)].val)\n",
    "\n",
    "        # build instruction\n",
    "\n",
    "        # retrieve parameters for specific opcode\n",
    "        if p_modes[-1] in ['99']:\n",
    "            instr = [99]\n",
    "            #print('Opcode 99 executed.')\n",
    "            \n",
    "            # Prepare incom for return\n",
    "            incom_out = []\n",
    "            for j in range(len(incom)):\n",
    "                incom_out = incom_out + [vars()['node'+str(j)].val]\n",
    "            #print('program complete')\n",
    "            \n",
    "            #output = []\n",
    "            \n",
    "            return output, incom_out, i, rel_base\n",
    "            break\n",
    "        \n",
    "        elif p_modes[-1] in ['01', '02', '07', '08']:\n",
    "            instr = [int(p_modes[-1])]\n",
    "            for j in range(i+1, i+4):\n",
    "                instr += [vars()['node'+str(j)].val]\n",
    "            i += 4\n",
    "\n",
    "        elif p_modes[-1] in ['03', '04','09']:\n",
    "            instr = [int(p_modes[-1])] + [vars()['node'+str(i+1)].val]\n",
    "            i += 2\n",
    "\n",
    "        elif p_modes[-1] in ['05', '06']:\n",
    "            instr = [int(p_modes[-1])]\n",
    "            for j in range(i+1, i+3):\n",
    "                instr += [vars()['node'+str(j)].val]\n",
    "            i += 3\n",
    "\n",
    "        else:\n",
    "            print('Uh oh... intruction not understood')\n",
    "            break\n",
    "            \n",
    "        #print(p_modes)\n",
    "        #print(instr)\n",
    "\n",
    "\n",
    "        # Execute instructions\n",
    "        \n",
    "        # ADDITION # ==========================================================================\n",
    "        if instr[0] == 1:\n",
    "            # define a\n",
    "            a = instr[1] # default is immediate mode\n",
    "            if p_modes[2] == '0': # if parameter is position mode\n",
    "                a = vars()['node'+str(instr[1])].val\n",
    "            elif p_modes[2] == '2': # if parameter is in relative mode\n",
    "                if rel_base + instr[1] < 0:\n",
    "                    print('Uh oh... relative base reference is less than 0!')\n",
    "                    break\n",
    "                a = vars()['node'+str(rel_base + instr[1])].val\n",
    "                \n",
    "            # define b\n",
    "            b = instr[2] # default is immediate mode\n",
    "            if p_modes[1] == '0': # if parameter is position mode\n",
    "                b = vars()['node'+str(instr[2])].val\n",
    "            elif p_modes[1] == '2': # if parameter is in relative mode\n",
    "                if rel_base + instr[2] < 0:\n",
    "                    print('Uh oh... relative base reference is less than 0!')\n",
    "                    break\n",
    "                b = vars()['node'+str(rel_base + instr[2])].val\n",
    "\n",
    "            ab = a+b # calculate the overwrite value\n",
    "\n",
    "            # write         \n",
    "            if p_modes[0] == '1': # I think the problem states this will never be the case...\n",
    "                print('uh oh... trying to write in immediate mode???')\n",
    "                break\n",
    "            elif p_modes[0] == '2': # if parameter is in relative mode\n",
    "                if rel_base + instr[3] < 0:\n",
    "                    print('Uh oh... relative base reference is less than 0!')\n",
    "                    break\n",
    "                vars()['node'+str(rel_base + instr[3])].val = ab\n",
    "            else:\n",
    "                vars()['node'+str(instr[3])].val = ab\n",
    "\n",
    "        \n",
    "        # MULTIPLICATION # =========================================================\n",
    "        elif instr[0] == 2:\n",
    "            # define a\n",
    "            a = instr[1] # default is immediate mode\n",
    "            #print('immediate mode a = ' + str(a))\n",
    "            if p_modes[2] == '0': # if parameter is position mode\n",
    "                #print('position mode a = ' + str(a))\n",
    "                a = vars()['node'+str(instr[1])].val\n",
    "            elif p_modes[2] == '2': # if parameter is in relative mode\n",
    "                if rel_base + instr[1] < 0:\n",
    "                    print('Uh oh... relative base reference is less than 0!')\n",
    "                    break\n",
    "                a = vars()['node'+str(rel_base + instr[1])].val\n",
    "                #print('relative mode a = ' + str(a))\n",
    "\n",
    "            # define b\n",
    "            b = instr[2] # default is immediate mode\n",
    "            if p_modes[1] == '0': # if parameter is position mode\n",
    "                b = vars()['node'+str(instr[2])].val\n",
    "            elif p_modes[1] == '2': # if parameter is in relative mode\n",
    "                if rel_base + instr[2] < 0:\n",
    "                    print('Uh oh... relative base reference is less than 0!')\n",
    "                    break\n",
    "                b = vars()['node'+str(rel_base + instr[2])].val\n",
    "\n",
    "            ab = int(a)*int(b) # calculate the overwrite value\n",
    "\n",
    "            # write         \n",
    "            if p_modes[0] == '1': # I think the problem states this will never be the case...\n",
    "                print('uh oh... trying to write in immediate mode???')\n",
    "                break\n",
    "            elif p_modes[0] == '2': # if parameter is in relative mode\n",
    "                if rel_base + instr[3] < 0:\n",
    "                    print('Uh oh... relative base reference is less than 0!')\n",
    "                    break\n",
    "                vars()['node'+str(rel_base + instr[3])].val = ab\n",
    "            else:\n",
    "                vars()['node'+str(instr[3])].val = ab\n",
    "\n",
    "        # INPUT # =====================================================================        \n",
    "        elif instr[0] == 3:\n",
    "            # write input (mem)\n",
    "            if p_modes[2] == '1': # I think the problem states this will never be the case...\n",
    "                print('uh oh... trying to write in immediate mode???')\n",
    "                break\n",
    "            elif p_modes[2] == '2': # relative mode\n",
    "                if rel_base + instr[1] < 0:\n",
    "                    print('Uh oh... relative base reference is less than 0!')\n",
    "                    break\n",
    "                vars()['node'+str(rel_base + instr[1])].val = mem #[0]\n",
    "                #del mem\n",
    "            else:\n",
    "                #print(len(mem))\n",
    "                vars()['node'+str(instr[1])].val = mem #[0]\n",
    "                #del mem\n",
    "        \n",
    "        \n",
    "        # OUTPUT # =================================================================\n",
    "        elif instr[0] == 4:\n",
    "            # define a\n",
    "            #print('output parameter mode: ' + str(p_modes[2]) +\n",
    "            #      ', parameter: ' + str(instr[1]))\n",
    "            a = instr[1] # default is immediate mode\n",
    "            if p_modes[2] == '0': # if parameter is position mode\n",
    "                a = vars()['node'+str(instr[1])].val\n",
    "            elif p_modes[2] == '2': # relative mode\n",
    "                if rel_base + instr[1] < 0:\n",
    "                    print('Uh oh... relative base reference is less than 0!')\n",
    "                    break\n",
    "                a = vars()['node'+str(rel_base + instr[1])].val\n",
    "                \n",
    "\n",
    "            # write to output\n",
    "            output = output + [a]\n",
    "            #print('output:', output)\n",
    "\n",
    "        \n",
    "        # JUMP IF TRUE # ===========================================================\n",
    "        elif instr[0] == 5:\n",
    "            # define a\n",
    "            a = instr[1] # default is immediate mode\n",
    "            if p_modes[2] == '0': # if parameter is position mode\n",
    "                #print('retrieving node ' + str(instr[1]))\n",
    "                a = vars()['node'+str(instr[1])].val\n",
    "                #print('a is' + str(a))\n",
    "            elif p_modes[2] == '2': # relative mode\n",
    "                if rel_base + instr[1] < 0:\n",
    "                    print('Uh oh... relative base reference is less than 0!')\n",
    "                    break\n",
    "                a = vars()['node'+str(rel_base + instr[1])].val\n",
    "\n",
    "            # define b\n",
    "            b = instr[2] # default is immediate mode\n",
    "            if p_modes[1] == '0': # if parameter is position mode\n",
    "                b = vars()['node'+str(instr[2])].val\n",
    "            elif p_modes[1] == '2': # relative mode\n",
    "                if rel_base + instr[2] < 0:\n",
    "                    print('Uh oh... relative base reference is less than 0!')\n",
    "                    break\n",
    "                b = vars()['node'+str(rel_base + instr[2])].val\n",
    "\n",
    "            # write         \n",
    "            if p_modes[0] == '1': # I think the problem states this will never be the case...\n",
    "                print('uh oh... trying to write in immediate mode???')\n",
    "                break\n",
    "            elif p_modes[0] == '2': # relative mode\n",
    "                print(\"'Write' fail for jump-if-true. Check for parameter mode 2!\")\n",
    "                break\n",
    "            else:\n",
    "                #print('a is' + str(a))\n",
    "                if a != 0:\n",
    "                    i = b\n",
    "                    \n",
    "                    \n",
    "        # JUMP IF FALSE # ===========================================================\n",
    "        elif instr[0] == 6:\n",
    "            # define a\n",
    "            a = instr[1] # default is immediate mode\n",
    "            if p_modes[2] == '0': # if parameter is position mode\n",
    "                a = vars()['node'+str(instr[1])].val\n",
    "            elif p_modes[2] == '2': # relative mode\n",
    "                if rel_base + instr[1] < 0:\n",
    "                    print('Uh oh... relative base reference is less than 0!')\n",
    "                    break\n",
    "                a = vars()['node'+str(rel_base + instr[1])].val\n",
    "\n",
    "            # define b\n",
    "            b = instr[2] # default is immediate mode\n",
    "            if p_modes[1] == '0': # if parameter is position mode\n",
    "                b = vars()['node'+str(instr[2])].val\n",
    "            elif p_modes[1] == '2': # relative mode\n",
    "                if rel_base + instr[2] < 0:\n",
    "                    print('Uh oh... relative base reference is less than 0!')\n",
    "                    break\n",
    "                b = vars()['node'+str(rel_base + instr[2])].val\n",
    "\n",
    "            # write         \n",
    "            if p_modes[0] == '1': # I think the problem states this will never be the case...\n",
    "                print('uh oh... trying to write in immediate mode???')\n",
    "                break\n",
    "            elif p_modes[0] == '2': # relative mode\n",
    "                print(\"'Write' fail for jump-if-false. Check for parameter mode 2!\")\n",
    "                break\n",
    "            else:\n",
    "                if a == 0:\n",
    "                    i = b\n",
    "                    \n",
    "        # LESS THAN # ==========================================================================\n",
    "        elif instr[0] == 7:\n",
    "            # define a\n",
    "            a = instr[1] # default is immediate mode\n",
    "            if p_modes[2] == '0': # if parameter is position mode\n",
    "                a = vars()['node'+str(instr[1])].val\n",
    "            elif p_modes[2] == '2': # relative mode\n",
    "                if rel_base + instr[1] < 0:\n",
    "                    print('Uh oh... relative base reference is less than 0!')\n",
    "                    break\n",
    "                a = vars()['node'+str(rel_base + instr[1])].val\n",
    "\n",
    "            # define b\n",
    "            b = instr[2] # default is immediate mode\n",
    "            if p_modes[1] == '0': # if parameter is position mode\n",
    "                b = vars()['node'+str(instr[2])].val\n",
    "            elif p_modes[1] == '2': # relative mode\n",
    "                if rel_base + instr[2] < 0:\n",
    "                    print('Uh oh... relative base reference is less than 0!')\n",
    "                    break\n",
    "                b = vars()['node'+str(rel_base + instr[2])].val\n",
    "\n",
    "            # apply test\n",
    "            if a < b:\n",
    "                #print(str(a) + 'is less than' + str(b))\n",
    "                ab = 1\n",
    "            else:\n",
    "                #print(str(a) + 'is NOT less than' + str(b))\n",
    "                ab = 0                \n",
    "\n",
    "            # write         \n",
    "            if p_modes[0] == '1': # I think the problem states this will never be the case...\n",
    "                print('uh oh... trying to write in immediate mode???')\n",
    "                break\n",
    "            elif p_modes[0] == '2': # relative mode\n",
    "                vars()['node'+str(rel_base + instr[3])].val = ab \n",
    "            else:\n",
    "                #print('setting node ' + str(instr[3]) + 'to be ' + str(ab))\n",
    "                vars()['node'+str(instr[3])].val = ab \n",
    "\n",
    "        # EQUALS # ========================================================================\n",
    "        elif instr[0] == 8:\n",
    "            # define a\n",
    "            a = instr[1] # default is immediate mode\n",
    "            if p_modes[2] == '0': # if parameter is position mode\n",
    "                a = vars()['node'+str(instr[1])].val\n",
    "            elif p_modes[2] == '2': # relative mode\n",
    "                if rel_base + instr[1] < 0:\n",
    "                    print('Uh oh... relative base reference is less than 0!')\n",
    "                    break\n",
    "                a = vars()['node'+str(rel_base + instr[1])].val\n",
    "\n",
    "            # define b\n",
    "            b = instr[2] # default is immediate mode\n",
    "            if p_modes[1] == '0': # if parameter is position mode\n",
    "                b = vars()['node'+str(instr[2])].val\n",
    "            elif p_modes[1] == '2': # relative mode\n",
    "                if rel_base + instr[2] < 0:\n",
    "                    print('Uh oh... relative base reference is less than 0!')\n",
    "                    break\n",
    "                b = vars()['node'+str(rel_base + instr[2])].val\n",
    "\n",
    "            # apply test\n",
    "            if a == b:\n",
    "                ab = 1\n",
    "            else:\n",
    "                ab = 0                \n",
    "\n",
    "            # write         \n",
    "            if p_modes[0] == '1': # I think the problem states this will never be the case...\n",
    "                print('uh oh... trying to write in immediate mode???')\n",
    "                break\n",
    "            elif p_modes[0] == '2': # relative mode\n",
    "                vars()['node'+str(rel_base + instr[3])].val = ab\n",
    "            else:\n",
    "                vars()['node'+str(instr[3])].val = ab\n",
    "                \n",
    "        # ADJUST RELATIVE BASE # =============================================================\n",
    "        elif instr[0] == 9:\n",
    "            # define a\n",
    "            a = instr[1] # default is immediate mode\n",
    "            if p_modes[2] == '0': # if parameter is position mode\n",
    "                a = vars()['node'+str(instr[1])].val\n",
    "            elif p_modes[2] == '2': # relative mode\n",
    "                if rel_base + instr[1] < 0:\n",
    "                    print('Uh oh... relative base reference is less than 0!')\n",
    "                    break\n",
    "                a = vars()['node'+str(rel_base + instr[1])].val\n",
    "                \n",
    "            # execute: adjust relative base\n",
    "            if p_modes[1] == '1': # I think the problem states this will never be the case...\n",
    "                print('uh oh... trying to write in immediate mode???')\n",
    "                break\n",
    "            elif p_modes[1] == '2': # relative mode\n",
    "                print(\"'Write' fail for jump-if-false. Check for parameter mode 2!\")\n",
    "                break\n",
    "            else:\n",
    "                rel_base += a\n",
    "                #print('Relative base now:'+str(rel_base))\n",
    "                \n",
    "\n",
    "        else:\n",
    "            print('Instruction not understood!')\n",
    "            break\n",
    "\n",
    "    #if i > len(incom):\n",
    "    #    print('End of input code reached.')\n",
    "        \n",
    "    # Repackage the nodes as incom\n",
    "    incom_out = []\n",
    "    for j in range(len(incom)):\n",
    "        incom_out = incom_out + [vars()['node'+str(j)].val]\n",
    "        \n",
    "    print('returning at end of intcode')\n",
    "\n",
    "    return output, incom_out, i, rel_base"
   ]
  },
  {
   "cell_type": "markdown",
   "metadata": {},
   "source": [
    "Test the intcode:"
   ]
  },
  {
   "cell_type": "code",
   "execution_count": 17,
   "metadata": {},
   "outputs": [
    {
     "name": "stdout",
     "output_type": "stream",
     "text": [
      "Opcode 99 executed.\n",
      "program complete\n"
     ]
    }
   ],
   "source": [
    "output, incom, pointer, relative_base = intcode_call(signal_input=[], incom=incom0, pointer_position=0, relative_base=0)"
   ]
  },
  {
   "cell_type": "code",
   "execution_count": 18,
   "metadata": {},
   "outputs": [
    {
     "data": {
      "text/plain": [
       "3168"
      ]
     },
     "execution_count": 18,
     "metadata": {},
     "output_type": "execute_result"
    }
   ],
   "source": [
    "len(output)"
   ]
  },
  {
   "cell_type": "markdown",
   "metadata": {},
   "source": [
    "Okay, I need to convert the output into an image. I suspect that I should create a block class? Maybe for part two. For now, let's just decode the output into block coords and types and then visualize."
   ]
  },
  {
   "cell_type": "code",
   "execution_count": 19,
   "metadata": {},
   "outputs": [
    {
     "data": {
      "text/plain": [
       "43"
      ]
     },
     "execution_count": 19,
     "metadata": {},
     "output_type": "execute_result"
    }
   ],
   "source": [
    "max(output) # find the max coord"
   ]
  },
  {
   "cell_type": "code",
   "execution_count": 26,
   "metadata": {},
   "outputs": [],
   "source": [
    "# We'll define a 25 x 50 pixel screen\n",
    "\n",
    "screen = np.zeros((25,50))"
   ]
  },
  {
   "cell_type": "code",
   "execution_count": 27,
   "metadata": {},
   "outputs": [],
   "source": [
    "for i in range(0,len(output),3):\n",
    "    block = [output[i], output[i+1], output[i+2]]\n",
    "    screen[block[1], block[0]] = block[2]"
   ]
  },
  {
   "cell_type": "code",
   "execution_count": 79,
   "metadata": {
    "scrolled": false
   },
   "outputs": [
    {
     "data": {
      "text/plain": [
       "<matplotlib.colorbar.Colorbar at 0xca13b38>"
      ]
     },
     "execution_count": 79,
     "metadata": {},
     "output_type": "execute_result"
    },
    {
     "data": {
      "image/png": "[encoded data removed]",
      "text/plain": [
       "<Figure size 864x432 with 2 Axes>"
      ]
     },
     "metadata": {
      "needs_background": "light"
     },
     "output_type": "display_data"
    }
   ],
   "source": [
    "plt.figure(figsize = (12,6))\n",
    "plt.imshow(screen)\n",
    "plt.colorbar()"
   ]
  },
  {
   "cell_type": "markdown",
   "metadata": {},
   "source": [
    "Nice! Now count the blocks:"
   ]
  },
  {
   "cell_type": "code",
   "execution_count": 32,
   "metadata": {},
   "outputs": [
    {
     "data": {
      "text/plain": [
       "376"
      ]
     },
     "execution_count": 32,
     "metadata": {},
     "output_type": "execute_result"
    }
   ],
   "source": [
    "len(np.where(screen == 2)[0])"
   ]
  },
  {
   "cell_type": "markdown",
   "metadata": {},
   "source": [
    "Part II"
   ]
  },
  {
   "cell_type": "code",
   "execution_count": 49,
   "metadata": {},
   "outputs": [],
   "source": [
    "# Reload the input\n",
    "\n",
    "incom0 = np.fromfile('13_input.txt',sep=\",\").astype(int)\n",
    "\n",
    "incom0[0] = 2 # the problem specifies that memory address 0 should be set to 2\n",
    "\n",
    "incom0 = np.append(incom0, np.zeros(1000)).astype(int)\n",
    "\n",
    "for i, value in enumerate(incom0):\n",
    "    vars()['node'+str(i)]=LNode(value)"
   ]
  },
  {
   "cell_type": "markdown",
   "metadata": {},
   "source": [
    "Does each run of this intcode represent a step forward in time?"
   ]
  },
  {
   "cell_type": "code",
   "execution_count": 74,
   "metadata": {},
   "outputs": [
    {
     "name": "stdout",
     "output_type": "stream",
     "text": [
      "Opcode 99 executed.\n",
      "program complete\n",
      "Opcode 99 executed.\n",
      "program complete\n",
      "Opcode 99 executed.\n",
      "program complete\n"
     ]
    }
   ],
   "source": [
    "joystick = 0 # neutral\n",
    "\n",
    "# first step\n",
    "output1, incom, pointer, relative_base = intcode_call(signal_input=joystick, incom=incom0, pointer_position=0, relative_base=0)\n",
    "\n",
    "# second step - resets pointer, relative base\n",
    "output2, incom, pointer, relative_base = intcode_call(signal_input=joystick, incom=incom, pointer_position=0, relative_base=0)\n",
    "\n",
    "# third step - resets pointer, relative base\n",
    "output3, incom, pointer, relative_base = intcode_call(signal_input=joystick, incom=incom, pointer_position=0, relative_base=0)\n"
   ]
  },
  {
   "cell_type": "code",
   "execution_count": 77,
   "metadata": {},
   "outputs": [
    {
     "data": {
      "text/plain": [
       "<matplotlib.image.AxesImage at 0xc7989e8>"
      ]
     },
     "execution_count": 77,
     "metadata": {},
     "output_type": "execute_result"
    },
    {
     "data": {
      "image/png": "[encoded data removed]",
      "text/plain": [
       "<Figure size 1296x720 with 4 Axes>"
      ]
     },
     "metadata": {
      "needs_background": "light"
     },
     "output_type": "display_data"
    }
   ],
   "source": [
    "# We'll define a 25 x 50 pixel screen\n",
    "\n",
    "screen1 = np.zeros((25,50))\n",
    "screen2 = np.zeros((25,50))\n",
    "screen3 = np.zeros((25,50))\n",
    "\n",
    "score1 = []\n",
    "score2 = []\n",
    "score3 = []\n",
    "\n",
    "for i in range(0,len(output1),3):\n",
    "    block = [output1[i], output1[i+1], output1[i+2]]\n",
    "    if block[0] == -1 and block[1] == 0:\n",
    "        score1 += [block[2]]\n",
    "    if block[2] != 0:\n",
    "        screen1[block[1], block[0]] = block[2]\n",
    "\n",
    "for i in range(0,len(output2),3):\n",
    "    block = [output2[i], output2[i+1], output2[i+2]]\n",
    "    if block[0] == -1 and block[1] == 0:\n",
    "        score2 += [block[2]]\n",
    "    if block[2] != 0:\n",
    "        screen2[block[1], block[0]] = block[2]\n",
    "        \n",
    "for i in range(0,len(output3),3):\n",
    "    block = [output3[i], output3[i+1], output3[i+2]]\n",
    "    if block[0] == -1 and block[1] == 0:\n",
    "        score3 += [block[2]]\n",
    "    if block[2] != 0:\n",
    "        screen3[block[1], block[0]] = block[2]\n",
    "    \n",
    "# Plot resutls\n",
    "fig, axes = plt.subplots(2, 2, figsize=(18, 10))#, sharex=True, sharey=True)\n",
    "ax = axes.ravel()\n",
    "ax[0].imshow(screen1, vmax=4)\n",
    "ax[1].imshow(screen2, vmax=4)\n",
    "ax[2].imshow(screen3, vmax=4)\n"
   ]
  },
  {
   "cell_type": "code",
   "execution_count": 78,
   "metadata": {
    "scrolled": true
   },
   "outputs": [
    {
     "data": {
      "text/plain": [
       "([0, 21, 0], [21, 73, 0], [73, 74, 0])"
      ]
     },
     "execution_count": 78,
     "metadata": {},
     "output_type": "execute_result"
    }
   ],
   "source": [
    "score1, score2, score3"
   ]
  },
  {
   "cell_type": "markdown",
   "metadata": {},
   "source": [
    "Cool! now I can see the trace of the ball.\n",
    "\n",
    "Since I get free plays, can I just ignore the joystick entries and just let this take care of itself? Try the result of N number of plays:"
   ]
  },
  {
   "cell_type": "code",
   "execution_count": null,
   "metadata": {},
   "outputs": [],
   "source": [
    "joystick = 0 # neutral\n",
    "output, incom, pointer, relative_base = intcode_call(signal_input=joystick, incom=incom0, pointer_position=0, relative_base=0)\n",
    "score = []\n",
    "screen = np.zeros((25,50))\n",
    "\n",
    "for plays in range(1,100):\n",
    "    joystick = 0 # neutral\n",
    "    \n",
    "    output, incom, pointer, relative_base = intcode_call(signal_input=joystick, incom=incom, pointer_position=0, relative_base=0)\n",
    "    "
   ]
  },
  {
   "cell_type": "code",
   "execution_count": 85,
   "metadata": {
    "scrolled": false
   },
   "outputs": [
    {
     "name": "stdout",
     "output_type": "stream",
     "text": [
      "Score = [14344, 14351, 0, 14344, 14351, 0]\n"
     ]
    },
    {
     "data": {
      "text/plain": [
       "<matplotlib.colorbar.Colorbar at 0xd2f9b00>"
      ]
     },
     "execution_count": 85,
     "metadata": {},
     "output_type": "execute_result"
    },
    {
     "data": {
      "image/png": "[encoded data removed]",
      "text/plain": [
       "<Figure size 864x432 with 2 Axes>"
      ]
     },
     "metadata": {
      "needs_background": "light"
     },
     "output_type": "display_data"
    }
   ],
   "source": [
    "screen = np.zeros((25,50))\n",
    "\n",
    "\n",
    "# Decode output\n",
    "for i in range(0,len(output),3):\n",
    "    block = [output[i], output[i+1], output[i+2]]\n",
    "    if block[0] == -1 and block[1] == 0:\n",
    "        score += [block[2]]\n",
    "    if block[2] != 0:\n",
    "        screen[block[1], block[0]] = block[2]\n",
    "\n",
    "print('Score = ' + str(score))\n",
    "\n",
    "# Visualize\n",
    "plt.figure(figsize = (12,6))\n",
    "plt.imshow(screen, vmax=4)\n",
    "plt.colorbar()"
   ]
  },
  {
   "cell_type": "markdown",
   "metadata": {},
   "source": [
    "Let's do a bunch more plays:"
   ]
  },
  {
   "cell_type": "code",
   "execution_count": 90,
   "metadata": {},
   "outputs": [
    {
     "name": "stdout",
     "output_type": "stream",
     "text": [
      "Score = [18509, 0]\n"
     ]
    },
    {
     "data": {
      "text/plain": [
       "<matplotlib.colorbar.Colorbar at 0xe53f4a8>"
      ]
     },
     "execution_count": 90,
     "metadata": {},
     "output_type": "execute_result"
    },
    {
     "data": {
      "image/png": "[encoded data removed]",
      "text/plain": [
       "<Figure size 864x432 with 2 Axes>"
      ]
     },
     "metadata": {
      "needs_background": "light"
     },
     "output_type": "display_data"
    }
   ],
   "source": [
    "joystick = 0 # neutral\n",
    "score = []\n",
    "screen = np.zeros((25,50))\n",
    "\n",
    "for plays in range(1,300):\n",
    "    joystick = 0 # neutral\n",
    "    \n",
    "    output, incom, pointer, relative_base = intcode_call(signal_input=joystick, incom=incom, pointer_position=0, relative_base=0)\n",
    "\n",
    "# Decode output\n",
    "for i in range(0,len(output),3):\n",
    "    block = [output[i], output[i+1], output[i+2]]\n",
    "    if block[0] == -1 and block[1] == 0:\n",
    "        score += [block[2]]\n",
    "    if block[2] != 0:\n",
    "        screen[block[1], block[0]] = block[2]\n",
    "\n",
    "print('Score = ' + str(score))\n",
    "\n",
    "# Visualize\n",
    "plt.figure(figsize = (12,6))\n",
    "plt.imshow(screen, vmax=4)\n",
    "plt.colorbar()"
   ]
  }
 ],
 "metadata": {
  "anaconda-cloud": {},
  "kernelspec": {
   "display_name": "Python 3",
   "language": "python",
   "name": "python3"
  },
  "language_info": {
   "codemirror_mode": {
    "name": "ipython",
    "version": 3
   },
   "file_extension": ".py",
   "mimetype": "text/x-python",
   "name": "python",
   "nbconvert_exporter": "python",
   "pygments_lexer": "ipython3",
   "version": "3.7.3"
  }
 },
 "nbformat": 4,
 "nbformat_minor": 2
}
