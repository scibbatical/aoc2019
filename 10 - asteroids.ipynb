{
 "cells": [
  {
   "cell_type": "code",
   "execution_count": 1,
   "metadata": {
    "collapsed": true
   },
   "outputs": [],
   "source": [
    "import numpy as np\n",
    "import matplotlib.pyplot as plt\n",
    "import math\n",
    "import pandas as pd"
   ]
  },
  {
   "cell_type": "code",
   "execution_count": 2,
   "metadata": {
    "collapsed": true
   },
   "outputs": [],
   "source": [
    "incom = np.loadtxt('10_input.txt',delimiter=\" \", comments=None,dtype=str)"
   ]
  },
  {
   "cell_type": "code",
   "execution_count": null,
   "metadata": {
    "collapsed": true
   },
   "outputs": [],
   "source": [
    "incom_test = np.array(['.....','.....','#.#..','#....','#####'])\n",
    "incom = np.copy(incom_test)"
   ]
  },
  {
   "cell_type": "code",
   "execution_count": 3,
   "metadata": {
    "collapsed": false
   },
   "outputs": [
    {
     "data": {
      "text/plain": [
       "array(['.#......##.#..#.......#####...#..',\n",
       "       '...#.....##......###....#.##.....',\n",
       "       '..#...#....#....#............###.',\n",
       "       '.....#......#.##......#.#..###.#.',\n",
       "       '#.#..........##.#.#...#.##.#.#.#.',\n",
       "       '..#.##.#...#.......#..##.......##',\n",
       "       '..#....#.....#..##.#..####.#.....',\n",
       "       '#.............#..#.........#.#...',\n",
       "       '........#.##..#..#..#.#.....#.#..',\n",
       "       '.........#...#..##......###.....#',\n",
       "       '##.#.###..#..#.#.....#.........#.',\n",
       "       '.#.###.##..##......#####..#..##..',\n",
       "       '.........#.......#.#......#......',\n",
       "       '..#...#...#...#.#....###.#.......',\n",
       "       '#..#.#....#...#.......#..#.#.##..',\n",
       "       '#.....##...#.###..#..#......#..##',\n",
       "       '...........#...#......#..#....#..',\n",
       "       '#.#.#......#....#..#.....##....##',\n",
       "       '..###...#.#.##..#...#.....#...#.#',\n",
       "       '.......#..##.#..#.............##.',\n",
       "       '..###........##.#................',\n",
       "       '###.#..#...#......###.#........#.',\n",
       "       '.......#....#.#.#..#..#....#..#..',\n",
       "       '.#...#..#...#......#....#.#..#...',\n",
       "       '#.#.........#.....#....#.#.#.....',\n",
       "       '.#....#......##.##....#........#.',\n",
       "       '....#..#..#...#..##.#.#......#.#.',\n",
       "       '..###.##.#.....#....#.#......#...',\n",
       "       '#.##...#............#..#.....#..#',\n",
       "       '.#....##....##...#......#........',\n",
       "       '...#...##...#.......#....##.#....',\n",
       "       '.#....#.#...#.#...##....#..##.#.#',\n",
       "       '.#.#....##.......#.....##.##.#.##'], dtype='<U33')"
      ]
     },
     "execution_count": 3,
     "metadata": {},
     "output_type": "execute_result"
    }
   ],
   "source": [
    "incom"
   ]
  },
  {
   "cell_type": "markdown",
   "metadata": {},
   "source": [
    "Okay, each line is loaded as a separate cell in the array. How long is each line?"
   ]
  },
  {
   "cell_type": "code",
   "execution_count": 4,
   "metadata": {
    "collapsed": false
   },
   "outputs": [
    {
     "name": "stdout",
     "output_type": "stream",
     "text": [
      "Number of lines = 33\n",
      "Length of line = 33\n"
     ]
    }
   ],
   "source": [
    "print('Number of lines = ' + str(len(incom)))\n",
    "print('Length of line = ' + str(len(incom[0])))"
   ]
  },
  {
   "cell_type": "markdown",
   "metadata": {},
   "source": [
    "The plan here is to calculate the angle from an asteroid to every other asteroid. The number of unique angles is the number of visible asteroids."
   ]
  },
  {
   "cell_type": "code",
   "execution_count": 5,
   "metadata": {
    "collapsed": false
   },
   "outputs": [
    {
     "data": {
      "text/plain": [
       "<matplotlib.image.AxesImage at 0x8d446d8>"
      ]
     },
     "execution_count": 5,
     "metadata": {},
     "output_type": "execute_result"
    },
    {
     "data": {
      "image/png": "[encoded data removed]",
      "text/plain": [
       "<Figure size 432x288 with 1 Axes>"
      ]
     },
     "metadata": {
      "needs_background": "light"
     },
     "output_type": "display_data"
    }
   ],
   "source": [
    "# Find the asteroids\n",
    "\n",
    "ast_array = np.zeros((len(incom),len(incom[0])))\n",
    "\n",
    "ast_count = 1\n",
    "\n",
    "for i, line in enumerate(incom):\n",
    "    for j in range(len(line)):\n",
    "        if incom[i][j] == '#':\n",
    "            ast_array[i,j] = ast_count\n",
    "            ast_count += 1\n",
    "            \n",
    "plt.imshow(ast_array)\n",
    "        "
   ]
  },
  {
   "cell_type": "markdown",
   "metadata": {},
   "source": [
    "Sweet. Asteroid coordinates now known, and visualized!"
   ]
  },
  {
   "cell_type": "markdown",
   "metadata": {},
   "source": [
    "Okay, now I'd like to create an asteroid class."
   ]
  },
  {
   "cell_type": "code",
   "execution_count": 7,
   "metadata": {
    "collapsed": true
   },
   "outputs": [],
   "source": [
    "class Asteroid:\n",
    "    def __init__(self,x,y):\n",
    "        self.x = x\n",
    "        self.y = y\n",
    "        self.angles = []\n",
    "        \n",
    "        asteroids.append(self)\n",
    "        \n",
    "    def angle(self, asteroid):\n",
    "        \n",
    "        distance = np.sqrt((self.x - asteroid.x)**2+(self.y - asteroid.y)**2)\n",
    "        \n",
    "        # Check for angle = +/- pi/2\n",
    "        if self.x == asteroid.x:\n",
    "            if self.y > asteroid.y:\n",
    "                angle = 3*np.pi/2\n",
    "                self.angles.append([angle,distance,asteroid.x,asteroid.y]) # Add angle to list of angles\n",
    "            elif self.y < asteroid.y:\n",
    "                angle = np.pi/2\n",
    "                self.angles.append([angle,distance,asteroid.x,asteroid.y]) # Add angle to list of angles\n",
    "        \n",
    "        # Check for angle zero or pi\n",
    "        elif self.y == asteroid.y:\n",
    "            if self.x > asteroid.x:\n",
    "                angle = 0\n",
    "                self.angles.append([angle,distance,asteroid.x,asteroid.y]) # Add angle to list of angles\n",
    "            elif self.x < asteroid.x:\n",
    "                angle = np.pi\n",
    "                self.angles.append([angle,distance,asteroid.x,asteroid.y]) # Add angle to list of angles              \n",
    "        else:\n",
    "            # Calculate the angle\n",
    "            angle = -math.atan((self.x - asteroid.x)/(self.y - asteroid.y))\n",
    "            # Correct for quadrant\n",
    "            if self.y > asteroid.y:\n",
    "                angle = 3*np.pi/2-angle\n",
    "            else:\n",
    "                angle = np.pi/2-angle\n",
    "            \n",
    "            # Add angle to list of angles\n",
    "            self.angles.append([angle,distance,asteroid.x,asteroid.y])"
   ]
  },
  {
   "cell_type": "code",
   "execution_count": 8,
   "metadata": {
    "collapsed": false
   },
   "outputs": [
    {
     "name": "stdout",
     "output_type": "stream",
     "text": [
      "303 asteroids detected!\n"
     ]
    }
   ],
   "source": [
    "# Create asteroid instances\n",
    "\n",
    "asteroids=[] # create an empty list of instances\n",
    "\n",
    "ast_count = 0 # asteroid counter\n",
    "\n",
    "for i in range(ast_array.shape[0]):\n",
    "    for j in range(ast_array.shape[1]):\n",
    "        if ast_array[i,j] != 0:\n",
    "            vars()['asteroid'+str(ast_count)] = Asteroid(i,j)\n",
    "            ast_count += 1\n",
    "\n",
    "print(str(len(asteroids)) + ' asteroids detected!')"
   ]
  },
  {
   "cell_type": "code",
   "execution_count": 9,
   "metadata": {
    "collapsed": true
   },
   "outputs": [],
   "source": [
    "# Populate .angles for each asteroid:\n",
    "for AST in asteroids:\n",
    "    for ast in asteroids:\n",
    "        AST.angle(ast)"
   ]
  },
  {
   "cell_type": "code",
   "execution_count": 10,
   "metadata": {
    "collapsed": false,
    "scrolled": true
   },
   "outputs": [
    {
     "name": "stdout",
     "output_type": "stream",
     "text": [
      "max line-of-sights = 256, from asteroid262\n"
     ]
    }
   ],
   "source": [
    "ast_los = [] # a list of asteroid line-of-sights\n",
    "\n",
    "for ast in asteroids:\n",
    "    ast_los.append(len(set(np.array(ast.angles)[:,0])))\n",
    "    \n",
    "# show the most LOS\n",
    "asteroid_base = vars()['asteroid'+str(np.where(np.array(ast_los)==np.max(ast_los))[0][0])]\n",
    "print('max line-of-sights = ' + str(np.max(ast_los))\n",
    "      + ', from asteroid' + str(np.where(np.array(ast_los)==np.max(ast_los))[0][0]))\n",
    "\n"
   ]
  },
  {
   "cell_type": "markdown",
   "metadata": {},
   "source": [
    "Part 2: find the 200th asteroid blasted."
   ]
  },
  {
   "cell_type": "code",
   "execution_count": 11,
   "metadata": {
    "collapsed": false
   },
   "outputs": [
    {
     "data": {
      "text/plain": [
       "0     5.764039\n",
       "1    24.186773\n",
       "2     7.000000\n",
       "3    17.000000\n",
       "Name: 72, dtype: float64"
      ]
     },
     "execution_count": 11,
     "metadata": {},
     "output_type": "execute_result"
    }
   ],
   "source": [
    "# Use a dataframe to sort the angles from the asteroid base from 0, then by distance from the base.\n",
    "\n",
    "base_angles_df = pd.DataFrame(asteroid_base.angles).sort_values([0,1])\n",
    "\n",
    "blasted = 1\n",
    "blast_angle = -0.00000001\n",
    "\n",
    "# Then remove the asteroids, one by one\n",
    "while blasted <= 200:\n",
    "    \n",
    "    try:\n",
    "        blasted_idx = base_angles_df.index[base_angles_df[0] > blast_angle][0] # returns first index of asteroid at next blast angle\n",
    "    except IndexError: # happens when it can't find a value greater than the blast angle...\n",
    "        blasted_idx = base_angles_df.index[base_angles_df[0] > -0.0000001][0] # returns first index of asteroid back at zero degrees\n",
    "        print('rotation complete')\n",
    "    blasted_info = base_angles_df.loc[blasted_idx] # hold the info that's about to be blasted\n",
    "    \n",
    "    #print('blasted '+ str(int(blasted)) +' ' + str(blasted_info[0]))\n",
    "    \n",
    "    base_angles_df.drop(index=blasted_idx, inplace=True) # blast the asteroid by removing it from the dataframe\n",
    "    \n",
    "    blast_angle = blasted_info[0] # set new blast angle\n",
    "    \n",
    "    blasted += 1\n",
    "    \n",
    "blasted_info\n",
    "    "
   ]
  },
  {
   "cell_type": "code",
   "execution_count": 12,
   "metadata": {
    "collapsed": false
   },
   "outputs": [
    {
     "data": {
      "text/plain": [
       "717.0"
      ]
     },
     "execution_count": 12,
     "metadata": {},
     "output_type": "execute_result"
    }
   ],
   "source": [
    "# multiply the last blasted x coord by 100 and add the y coord:\n",
    "\n",
    "blasted_info[2]*100 + blasted_info[3]"
   ]
  },
  {
   "cell_type": "markdown",
   "metadata": {},
   "source": [
    "717 is too low???\n",
    "\n",
    "Oh, I see! I have reversed the coordinates. C'mon Elwyn.... read the instructions!"
   ]
  },
  {
   "cell_type": "code",
   "execution_count": 508,
   "metadata": {
    "collapsed": false
   },
   "outputs": [
    {
     "data": {
      "text/plain": [
       "1707.0"
      ]
     },
     "execution_count": 508,
     "metadata": {},
     "output_type": "execute_result"
    }
   ],
   "source": [
    "blasted_info[3]*100 + blasted_info[2]"
   ]
  },
  {
   "cell_type": "code",
   "execution_count": null,
   "metadata": {
    "collapsed": true
   },
   "outputs": [],
   "source": []
  },
  {
   "cell_type": "code",
   "execution_count": null,
   "metadata": {
    "collapsed": true
   },
   "outputs": [],
   "source": []
  },
  {
   "cell_type": "code",
   "execution_count": null,
   "metadata": {
    "collapsed": true
   },
   "outputs": [],
   "source": []
  },
  {
   "cell_type": "markdown",
   "metadata": {},
   "source": [
    "Just for funsies:"
   ]
  },
  {
   "cell_type": "code",
   "execution_count": 506,
   "metadata": {
    "collapsed": false,
    "scrolled": true
   },
   "outputs": [
    {
     "data": {
      "text/plain": [
       "<matplotlib.colorbar.Colorbar at 0xf5e2668>"
      ]
     },
     "execution_count": 506,
     "metadata": {},
     "output_type": "execute_result"
    },
    {
     "data": {
      "image/png": "[encoded data removed]",
      "text/plain": [
       "<Figure size 432x288 with 2 Axes>"
      ]
     },
     "metadata": {
      "needs_background": "light"
     },
     "output_type": "display_data"
    }
   ],
   "source": [
    "# check the angles...\n",
    "angle_array = np.zeros_like(ast_array)-2\n",
    "\n",
    "for ast in asteroid262.angles:\n",
    "    angle_array[ast[2],ast[3]] = ast[0]\n",
    "    \n",
    "plt.imshow(angle_array)\n",
    "plt.colorbar()"
   ]
  },
  {
   "cell_type": "code",
   "execution_count": 507,
   "metadata": {
    "collapsed": false
   },
   "outputs": [
    {
     "data": {
      "text/plain": [
       "<matplotlib.colorbar.Colorbar at 0xf679f28>"
      ]
     },
     "execution_count": 507,
     "metadata": {},
     "output_type": "execute_result"
    },
    {
     "data": {
      "image/png": "[encoded data removed]",
      "text/plain": [
       "<Figure size 432x288 with 2 Axes>"
      ]
     },
     "metadata": {
      "needs_background": "light"
     },
     "output_type": "display_data"
    }
   ],
   "source": [
    "# check the distance...\n",
    "distance_array = np.zeros_like(ast_array)-2\n",
    "\n",
    "for ast in asteroid262.angles:\n",
    "    distance_array[ast[2],ast[3]] = ast[1]\n",
    "    \n",
    "plt.imshow(distance_array)\n",
    "plt.colorbar()"
   ]
  },
  {
   "cell_type": "code",
   "execution_count": null,
   "metadata": {
    "collapsed": true
   },
   "outputs": [],
   "source": []
  }
 ],
 "metadata": {
  "anaconda-cloud": {},
  "kernelspec": {
   "display_name": "Python [default]",
   "language": "python",
   "name": "python3"
  },
  "language_info": {
   "codemirror_mode": {
    "name": "ipython",
    "version": 3
   },
   "file_extension": ".py",
   "mimetype": "text/x-python",
   "name": "python",
   "nbconvert_exporter": "python",
   "pygments_lexer": "ipython3",
   "version": "3.5.5"
  }
 },
 "nbformat": 4,
 "nbformat_minor": 1
}
